{
 "cells": [
  {
   "cell_type": "code",
   "execution_count": 97,
   "metadata": {},
   "outputs": [],
   "source": [
    "from pyspark import SparkContext, SparkConf\n",
    "from pyspark.ml.recommendation import ALS\n",
    "from pyspark.sql import SparkSession ,Row\n",
    "from pyspark.sql.functions import col\n",
    "from pyspark.sql import SQLContext\n",
    "from pyspark.ml.feature import StringIndexer\n",
    "from pyspark.ml import Pipeline\n",
    "from pyspark.ml.evaluation import RegressionEvaluator\n",
    "from pyspark.sql.types import StructType,StructField,IntegerType\n",
    "import matplotlib.pyplot as plt\n",
    "from os.path import abspath\n",
    "import pyspark.sql.functions as f\n",
    "from pyspark.sql import SparkSession\n",
    "from pyspark.sql import Row\n",
    "import os\n",
    "import findspark\n",
    "import plotly.express as px\n",
    "from wordcloud import WordCloud, STOPWORDS, ImageColorGenerator\n",
    "\n",
    "\n",
    "findspark.init()"
   ]
  },
  {
   "cell_type": "code",
   "execution_count": 98,
   "metadata": {},
   "outputs": [],
   "source": [
    "os.environ[\"JAVA_HOME\"] = r\"/usr/lib/jvm/java-1.11.0-openjdk-amd64\"\n",
    "os.environ[\"SPARK_HOME\"] = r\"/home/guilherme/als_recomendacao_spark_app/spark/spark\"\n",
    "os.environ[\"LIVY_CONF_DIR\"] = r\"/home/guilherme/als_recomendacao_spark_app/livy_server\""
   ]
  },
  {
   "cell_type": "code",
   "execution_count": 99,
   "metadata": {},
   "outputs": [],
   "source": [
    "\n",
    "warehouse_location = abspath('spark-warehouse')\n",
    "\n"
   ]
  },
  {
   "cell_type": "code",
   "execution_count": 100,
   "metadata": {},
   "outputs": [
    {
     "name": "stderr",
     "output_type": "stream",
     "text": [
      "23/07/10 00:49:42 WARN SparkSession: Using an existing Spark session; only runtime SQL configurations will take effect.\n"
     ]
    }
   ],
   "source": [
    "\n",
    "conf = SparkConf()\n",
    "conf.set(\"spark.master\",\"local[*]\")\n",
    "conf.set(\"spark.executor.memory\", \"4g\")\n",
    "conf.set(\"spark.driver.memory\", \"4g\")\n",
    "conf.set(\"spark.sql.adaptive.enabled\",\"true\")\n",
    "conf.set(\"spark.sql.adaptive.localShuffleReader.enabled\",\"true\")\n",
    "conf.set(\"spark.dynamicAllocation.enabled\", \"false\")\n",
    "conf.set(\"spark.sql.adaptive.optimizeSkewsInRebalancePartitions.enabled\",\"true\")\n",
    "conf.set(\"spark.sql.adaptive.skewJoin.enabled\",\"true\")\n",
    "conf.set(\"spark.sql.statistics.size.autoUpdate.enabled\",\"true\")\n",
    "conf.set(\"spark.sql.inMemoryColumnarStorage.compressed\",\"true\")\n",
    "conf.set(\"hive.exec.dynamic.partition\", \"true\")\n",
    "conf.set(\"hive.exec.dynamic.partition.mode\", \"nonstrict\")\n",
    "conf.set(\"spark.sql.ansi.enabled\",\"true\")\n",
    "conf.set('spark.driver.extraClassPath', r\"/home/guilherme/als_recomendacao_spark_app/sqlserverjars/mssql-jdbc-12.2.0.jre11.jar\")\n",
    "conf.set('spark.executor.extraClassPath', r\"/home/guilherme/als_recomendacao_spark_app/sqlserverjars/mssql-jdbc-12.2.0.jre11.jar\")\n",
    "spark = SparkSession.builder\\\n",
    "        .config(conf=conf)\\\n",
    "        .config(\"spark.sql.warehouse.dir\", warehouse_location)\\\n",
    "        .config(\"spark.sql.catalogImplementation\", \"hive\") \\\n",
    "        .enableHiveSupport() \\\n",
    "        .getOrCreate()\n",
    "    "
   ]
  },
  {
   "cell_type": "code",
   "execution_count": 101,
   "metadata": {},
   "outputs": [
    {
     "name": "stderr",
     "output_type": "stream",
     "text": [
      "/home/guilherme/als_recomendacao_spark_app/venv/lib/python3.11/site-packages/pyspark/sql/context.py:112: FutureWarning:\n",
      "\n",
      "Deprecated in 3.0.0. Use SparkSession.builder.getOrCreate() instead.\n",
      "\n"
     ]
    }
   ],
   "source": [
    "sc = spark.sparkContext\n",
    "sqlContext = SQLContext(sc)"
   ]
  },
  {
   "cell_type": "code",
   "execution_count": 102,
   "metadata": {},
   "outputs": [],
   "source": [
    "df_business = spark.read.option(\"inferSchema\",True) \\\n",
    "                 .options(header='True', inferSchema='True', delimiter=';') \\\n",
    "                .csv(r\"/home/guilherme/als_recomendacao_spark_app/app/csvteste/tabela_teste.csv\")"
   ]
  },
  {
   "cell_type": "code",
   "execution_count": 103,
   "metadata": {},
   "outputs": [],
   "source": [
    "df_discador = spark.read.option(\"inferSchema\",True) \\\n",
    "                 .options(header='True', inferSchema='True', delimiter=';') \\\n",
    "                .csv(r\"/home/guilherme/als_recomendacao_spark_app/app/csvteste/tab_tipo_atendimento.csv\").withColumnRenamed(\"ID AGENTE\", \"ID_AGENTE\")"
   ]
  },
  {
   "cell_type": "code",
   "execution_count": 104,
   "metadata": {},
   "outputs": [],
   "source": [
    "df_business = df_business.select(\"ID_AGENTE\", \"HORA\", \n",
    "                                 \"CAMPANHA_ID\",  \n",
    "                                 \"ESTADO\", \"PLANO\"\n",
    "                                 ,\"TIPO_PLANO\"\n",
    "                                 ,\"OPERADORA\",\"FORMA_PAGTO\"\n",
    "                                 ,\"VENDA\",\"ID_AUDITOR\",\"ID_VENDA\",\"CAMPANHA\"\n",
    "        ,\"ID_TICKET\")\n",
    "\n",
    "\n",
    "df_business = df_business.filter((df_business['VENDA'] == 'Sim'))"
   ]
  },
  {
   "cell_type": "code",
   "execution_count": 105,
   "metadata": {},
   "outputs": [],
   "source": [
    "#df_discador = df_discador.join(df_business, on='ID_AGENTE', how='left')\n"
   ]
  },
  {
   "cell_type": "code",
   "execution_count": 106,
   "metadata": {},
   "outputs": [
    {
     "data": {
      "text/plain": [
       "\"\\ndf_discador.columns\\n\\ndf_discador.select(['ID_AGENTE', 'TIPO DE CHAMADA'\\n                  ,'CLASSIFICACAO','INICIO','FIM','TEMPO TOTAL',\\n                  'SESSIONID','ID EXTERNO','CAMPANHA_ID','ESTADO','PLANO'\\n                  ,'ID_VENDA','ID_TICKET','ID_AUDITOR',\\n                  'VENDA','FORMA_PAGTO','OPERADORA','TIPO_PLANO'\\n                  ]).show(2)\\n\""
      ]
     },
     "execution_count": 106,
     "metadata": {},
     "output_type": "execute_result"
    }
   ],
   "source": [
    "'''\n",
    "df_discador.columns\n",
    "\n",
    "df_discador.select(['ID_AGENTE', 'TIPO DE CHAMADA'\n",
    "                  ,'CLASSIFICACAO','INICIO','FIM','TEMPO TOTAL',\n",
    "                  'SESSIONID','ID EXTERNO','CAMPANHA_ID','ESTADO','PLANO'\n",
    "                  ,'ID_VENDA','ID_TICKET','ID_AUDITOR',\n",
    "                  'VENDA','FORMA_PAGTO','OPERADORA','TIPO_PLANO'\n",
    "                  ]).show(2)\n",
    "'''\n"
   ]
  },
  {
   "cell_type": "code",
   "execution_count": 107,
   "metadata": {},
   "outputs": [],
   "source": [
    "#https://plotly.com/python/histograms/\n",
    "#histograma"
   ]
  },
  {
   "cell_type": "code",
   "execution_count": 108,
   "metadata": {},
   "outputs": [
    {
     "data": {
      "application/vnd.plotly.v1+json": {
       "config": {
        "plotlyServerURL": "https://plot.ly"
       },
       "data": [
        {
         "alignmentgroup": "True",
         "bingroup": "x",
         "hovertemplate": "variable=wide_variable_0<br>value=%{x}<br>count=%{y}<extra></extra>",
         "legendgroup": "wide_variable_0",
         "marker": {
          "color": "#636efa",
          "pattern": {
           "shape": ""
          }
         },
         "name": "wide_variable_0",
         "nbinsx": 61,
         "offsetgroup": "wide_variable_0",
         "orientation": "v",
         "showlegend": true,
         "type": "histogram",
         "x": [
          20846
         ],
         "xaxis": "x",
         "yaxis": "y"
        },
        {
         "alignmentgroup": "True",
         "bingroup": "x",
         "hovertemplate": "variable=wide_variable_1<br>value=%{x}<br>count=%{y}<extra></extra>",
         "legendgroup": "wide_variable_1",
         "marker": {
          "color": "#EF553B",
          "pattern": {
           "shape": ""
          }
         },
         "name": "wide_variable_1",
         "nbinsx": 61,
         "offsetgroup": "wide_variable_1",
         "orientation": "v",
         "showlegend": true,
         "type": "histogram",
         "x": [
          20974
         ],
         "xaxis": "x",
         "yaxis": "y"
        },
        {
         "alignmentgroup": "True",
         "bingroup": "x",
         "hovertemplate": "variable=wide_variable_2<br>value=%{x}<br>count=%{y}<extra></extra>",
         "legendgroup": "wide_variable_2",
         "marker": {
          "color": "#00cc96",
          "pattern": {
           "shape": ""
          }
         },
         "name": "wide_variable_2",
         "nbinsx": 61,
         "offsetgroup": "wide_variable_2",
         "orientation": "v",
         "showlegend": true,
         "type": "histogram",
         "x": [
          20948
         ],
         "xaxis": "x",
         "yaxis": "y"
        },
        {
         "alignmentgroup": "True",
         "bingroup": "x",
         "hovertemplate": "variable=wide_variable_3<br>value=%{x}<br>count=%{y}<extra></extra>",
         "legendgroup": "wide_variable_3",
         "marker": {
          "color": "#ab63fa",
          "pattern": {
           "shape": ""
          }
         },
         "name": "wide_variable_3",
         "nbinsx": 61,
         "offsetgroup": "wide_variable_3",
         "orientation": "v",
         "showlegend": true,
         "type": "histogram",
         "x": [
          20842
         ],
         "xaxis": "x",
         "yaxis": "y"
        },
        {
         "alignmentgroup": "True",
         "bingroup": "x",
         "hovertemplate": "variable=wide_variable_4<br>value=%{x}<br>count=%{y}<extra></extra>",
         "legendgroup": "wide_variable_4",
         "marker": {
          "color": "#FFA15A",
          "pattern": {
           "shape": ""
          }
         },
         "name": "wide_variable_4",
         "nbinsx": 61,
         "offsetgroup": "wide_variable_4",
         "orientation": "v",
         "showlegend": true,
         "type": "histogram",
         "x": [
          20897
         ],
         "xaxis": "x",
         "yaxis": "y"
        },
        {
         "alignmentgroup": "True",
         "bingroup": "x",
         "hovertemplate": "variable=wide_variable_5<br>value=%{x}<br>count=%{y}<extra></extra>",
         "legendgroup": "wide_variable_5",
         "marker": {
          "color": "#19d3f3",
          "pattern": {
           "shape": ""
          }
         },
         "name": "wide_variable_5",
         "nbinsx": 61,
         "offsetgroup": "wide_variable_5",
         "orientation": "v",
         "showlegend": true,
         "type": "histogram",
         "x": [
          20612
         ],
         "xaxis": "x",
         "yaxis": "y"
        },
        {
         "alignmentgroup": "True",
         "bingroup": "x",
         "hovertemplate": "variable=wide_variable_6<br>value=%{x}<br>count=%{y}<extra></extra>",
         "legendgroup": "wide_variable_6",
         "marker": {
          "color": "#FF6692",
          "pattern": {
           "shape": ""
          }
         },
         "name": "wide_variable_6",
         "nbinsx": 61,
         "offsetgroup": "wide_variable_6",
         "orientation": "v",
         "showlegend": true,
         "type": "histogram",
         "x": [
          20640
         ],
         "xaxis": "x",
         "yaxis": "y"
        },
        {
         "alignmentgroup": "True",
         "bingroup": "x",
         "hovertemplate": "variable=wide_variable_7<br>value=%{x}<br>count=%{y}<extra></extra>",
         "legendgroup": "wide_variable_7",
         "marker": {
          "color": "#B6E880",
          "pattern": {
           "shape": ""
          }
         },
         "name": "wide_variable_7",
         "nbinsx": 61,
         "offsetgroup": "wide_variable_7",
         "orientation": "v",
         "showlegend": true,
         "type": "histogram",
         "x": [
          20969
         ],
         "xaxis": "x",
         "yaxis": "y"
        },
        {
         "alignmentgroup": "True",
         "bingroup": "x",
         "hovertemplate": "variable=wide_variable_8<br>value=%{x}<br>count=%{y}<extra></extra>",
         "legendgroup": "wide_variable_8",
         "marker": {
          "color": "#FF97FF",
          "pattern": {
           "shape": ""
          }
         },
         "name": "wide_variable_8",
         "nbinsx": 61,
         "offsetgroup": "wide_variable_8",
         "orientation": "v",
         "showlegend": true,
         "type": "histogram",
         "x": [
          20765
         ],
         "xaxis": "x",
         "yaxis": "y"
        },
        {
         "alignmentgroup": "True",
         "bingroup": "x",
         "hovertemplate": "variable=wide_variable_9<br>value=%{x}<br>count=%{y}<extra></extra>",
         "legendgroup": "wide_variable_9",
         "marker": {
          "color": "#FECB52",
          "pattern": {
           "shape": ""
          }
         },
         "name": "wide_variable_9",
         "nbinsx": 61,
         "offsetgroup": "wide_variable_9",
         "orientation": "v",
         "showlegend": true,
         "type": "histogram",
         "x": [
          20713
         ],
         "xaxis": "x",
         "yaxis": "y"
        },
        {
         "alignmentgroup": "True",
         "bingroup": "x",
         "hovertemplate": "variable=wide_variable_10<br>value=%{x}<br>count=%{y}<extra></extra>",
         "legendgroup": "wide_variable_10",
         "marker": {
          "color": "#636efa",
          "pattern": {
           "shape": ""
          }
         },
         "name": "wide_variable_10",
         "nbinsx": 61,
         "offsetgroup": "wide_variable_10",
         "orientation": "v",
         "showlegend": true,
         "type": "histogram",
         "x": [
          20931
         ],
         "xaxis": "x",
         "yaxis": "y"
        },
        {
         "alignmentgroup": "True",
         "bingroup": "x",
         "hovertemplate": "variable=wide_variable_11<br>value=%{x}<br>count=%{y}<extra></extra>",
         "legendgroup": "wide_variable_11",
         "marker": {
          "color": "#EF553B",
          "pattern": {
           "shape": ""
          }
         },
         "name": "wide_variable_11",
         "nbinsx": 61,
         "offsetgroup": "wide_variable_11",
         "orientation": "v",
         "showlegend": true,
         "type": "histogram",
         "x": [
          20985
         ],
         "xaxis": "x",
         "yaxis": "y"
        },
        {
         "alignmentgroup": "True",
         "bingroup": "x",
         "hovertemplate": "variable=wide_variable_12<br>value=%{x}<br>count=%{y}<extra></extra>",
         "legendgroup": "wide_variable_12",
         "marker": {
          "color": "#00cc96",
          "pattern": {
           "shape": ""
          }
         },
         "name": "wide_variable_12",
         "nbinsx": 61,
         "offsetgroup": "wide_variable_12",
         "orientation": "v",
         "showlegend": true,
         "type": "histogram",
         "x": [
          20842
         ],
         "xaxis": "x",
         "yaxis": "y"
        },
        {
         "alignmentgroup": "True",
         "bingroup": "x",
         "hovertemplate": "variable=wide_variable_13<br>value=%{x}<br>count=%{y}<extra></extra>",
         "legendgroup": "wide_variable_13",
         "marker": {
          "color": "#ab63fa",
          "pattern": {
           "shape": ""
          }
         },
         "name": "wide_variable_13",
         "nbinsx": 61,
         "offsetgroup": "wide_variable_13",
         "orientation": "v",
         "showlegend": true,
         "type": "histogram",
         "x": [
          20614
         ],
         "xaxis": "x",
         "yaxis": "y"
        },
        {
         "alignmentgroup": "True",
         "bingroup": "x",
         "hovertemplate": "variable=wide_variable_14<br>value=%{x}<br>count=%{y}<extra></extra>",
         "legendgroup": "wide_variable_14",
         "marker": {
          "color": "#FFA15A",
          "pattern": {
           "shape": ""
          }
         },
         "name": "wide_variable_14",
         "nbinsx": 61,
         "offsetgroup": "wide_variable_14",
         "orientation": "v",
         "showlegend": true,
         "type": "histogram",
         "x": [
          20983
         ],
         "xaxis": "x",
         "yaxis": "y"
        },
        {
         "alignmentgroup": "True",
         "bingroup": "x",
         "hovertemplate": "variable=wide_variable_15<br>value=%{x}<br>count=%{y}<extra></extra>",
         "legendgroup": "wide_variable_15",
         "marker": {
          "color": "#19d3f3",
          "pattern": {
           "shape": ""
          }
         },
         "name": "wide_variable_15",
         "nbinsx": 61,
         "offsetgroup": "wide_variable_15",
         "orientation": "v",
         "showlegend": true,
         "type": "histogram",
         "x": [
          20986
         ],
         "xaxis": "x",
         "yaxis": "y"
        },
        {
         "alignmentgroup": "True",
         "bingroup": "x",
         "hovertemplate": "variable=wide_variable_16<br>value=%{x}<br>count=%{y}<extra></extra>",
         "legendgroup": "wide_variable_16",
         "marker": {
          "color": "#FF6692",
          "pattern": {
           "shape": ""
          }
         },
         "name": "wide_variable_16",
         "nbinsx": 61,
         "offsetgroup": "wide_variable_16",
         "orientation": "v",
         "showlegend": true,
         "type": "histogram",
         "x": [
          20983
         ],
         "xaxis": "x",
         "yaxis": "y"
        },
        {
         "alignmentgroup": "True",
         "bingroup": "x",
         "hovertemplate": "variable=wide_variable_17<br>value=%{x}<br>count=%{y}<extra></extra>",
         "legendgroup": "wide_variable_17",
         "marker": {
          "color": "#B6E880",
          "pattern": {
           "shape": ""
          }
         },
         "name": "wide_variable_17",
         "nbinsx": 61,
         "offsetgroup": "wide_variable_17",
         "orientation": "v",
         "showlegend": true,
         "type": "histogram",
         "x": [
          20830
         ],
         "xaxis": "x",
         "yaxis": "y"
        },
        {
         "alignmentgroup": "True",
         "bingroup": "x",
         "hovertemplate": "variable=wide_variable_18<br>value=%{x}<br>count=%{y}<extra></extra>",
         "legendgroup": "wide_variable_18",
         "marker": {
          "color": "#FF97FF",
          "pattern": {
           "shape": ""
          }
         },
         "name": "wide_variable_18",
         "nbinsx": 61,
         "offsetgroup": "wide_variable_18",
         "orientation": "v",
         "showlegend": true,
         "type": "histogram",
         "x": [
          20974
         ],
         "xaxis": "x",
         "yaxis": "y"
        },
        {
         "alignmentgroup": "True",
         "bingroup": "x",
         "hovertemplate": "variable=wide_variable_19<br>value=%{x}<br>count=%{y}<extra></extra>",
         "legendgroup": "wide_variable_19",
         "marker": {
          "color": "#FECB52",
          "pattern": {
           "shape": ""
          }
         },
         "name": "wide_variable_19",
         "nbinsx": 61,
         "offsetgroup": "wide_variable_19",
         "orientation": "v",
         "showlegend": true,
         "type": "histogram",
         "x": [
          20974
         ],
         "xaxis": "x",
         "yaxis": "y"
        },
        {
         "alignmentgroup": "True",
         "bingroup": "x",
         "hovertemplate": "variable=wide_variable_20<br>value=%{x}<br>count=%{y}<extra></extra>",
         "legendgroup": "wide_variable_20",
         "marker": {
          "color": "#636efa",
          "pattern": {
           "shape": ""
          }
         },
         "name": "wide_variable_20",
         "nbinsx": 61,
         "offsetgroup": "wide_variable_20",
         "orientation": "v",
         "showlegend": true,
         "type": "histogram",
         "x": [
          20983
         ],
         "xaxis": "x",
         "yaxis": "y"
        },
        {
         "alignmentgroup": "True",
         "bingroup": "x",
         "hovertemplate": "variable=wide_variable_21<br>value=%{x}<br>count=%{y}<extra></extra>",
         "legendgroup": "wide_variable_21",
         "marker": {
          "color": "#EF553B",
          "pattern": {
           "shape": ""
          }
         },
         "name": "wide_variable_21",
         "nbinsx": 61,
         "offsetgroup": "wide_variable_21",
         "orientation": "v",
         "showlegend": true,
         "type": "histogram",
         "x": [
          20812
         ],
         "xaxis": "x",
         "yaxis": "y"
        },
        {
         "alignmentgroup": "True",
         "bingroup": "x",
         "hovertemplate": "variable=wide_variable_22<br>value=%{x}<br>count=%{y}<extra></extra>",
         "legendgroup": "wide_variable_22",
         "marker": {
          "color": "#00cc96",
          "pattern": {
           "shape": ""
          }
         },
         "name": "wide_variable_22",
         "nbinsx": 61,
         "offsetgroup": "wide_variable_22",
         "orientation": "v",
         "showlegend": true,
         "type": "histogram",
         "x": [
          20808
         ],
         "xaxis": "x",
         "yaxis": "y"
        },
        {
         "alignmentgroup": "True",
         "bingroup": "x",
         "hovertemplate": "variable=wide_variable_23<br>value=%{x}<br>count=%{y}<extra></extra>",
         "legendgroup": "wide_variable_23",
         "marker": {
          "color": "#ab63fa",
          "pattern": {
           "shape": ""
          }
         },
         "name": "wide_variable_23",
         "nbinsx": 61,
         "offsetgroup": "wide_variable_23",
         "orientation": "v",
         "showlegend": true,
         "type": "histogram",
         "x": [
          21004
         ],
         "xaxis": "x",
         "yaxis": "y"
        },
        {
         "alignmentgroup": "True",
         "bingroup": "x",
         "hovertemplate": "variable=wide_variable_24<br>value=%{x}<br>count=%{y}<extra></extra>",
         "legendgroup": "wide_variable_24",
         "marker": {
          "color": "#FFA15A",
          "pattern": {
           "shape": ""
          }
         },
         "name": "wide_variable_24",
         "nbinsx": 61,
         "offsetgroup": "wide_variable_24",
         "orientation": "v",
         "showlegend": true,
         "type": "histogram",
         "x": [
          20851
         ],
         "xaxis": "x",
         "yaxis": "y"
        },
        {
         "alignmentgroup": "True",
         "bingroup": "x",
         "hovertemplate": "variable=wide_variable_25<br>value=%{x}<br>count=%{y}<extra></extra>",
         "legendgroup": "wide_variable_25",
         "marker": {
          "color": "#19d3f3",
          "pattern": {
           "shape": ""
          }
         },
         "name": "wide_variable_25",
         "nbinsx": 61,
         "offsetgroup": "wide_variable_25",
         "orientation": "v",
         "showlegend": true,
         "type": "histogram",
         "x": [
          20983
         ],
         "xaxis": "x",
         "yaxis": "y"
        },
        {
         "alignmentgroup": "True",
         "bingroup": "x",
         "hovertemplate": "variable=wide_variable_26<br>value=%{x}<br>count=%{y}<extra></extra>",
         "legendgroup": "wide_variable_26",
         "marker": {
          "color": "#FF6692",
          "pattern": {
           "shape": ""
          }
         },
         "name": "wide_variable_26",
         "nbinsx": 61,
         "offsetgroup": "wide_variable_26",
         "orientation": "v",
         "showlegend": true,
         "type": "histogram",
         "x": [
          20882
         ],
         "xaxis": "x",
         "yaxis": "y"
        },
        {
         "alignmentgroup": "True",
         "bingroup": "x",
         "hovertemplate": "variable=wide_variable_27<br>value=%{x}<br>count=%{y}<extra></extra>",
         "legendgroup": "wide_variable_27",
         "marker": {
          "color": "#B6E880",
          "pattern": {
           "shape": ""
          }
         },
         "name": "wide_variable_27",
         "nbinsx": 61,
         "offsetgroup": "wide_variable_27",
         "orientation": "v",
         "showlegend": true,
         "type": "histogram",
         "x": [
          20884
         ],
         "xaxis": "x",
         "yaxis": "y"
        },
        {
         "alignmentgroup": "True",
         "bingroup": "x",
         "hovertemplate": "variable=wide_variable_28<br>value=%{x}<br>count=%{y}<extra></extra>",
         "legendgroup": "wide_variable_28",
         "marker": {
          "color": "#FF97FF",
          "pattern": {
           "shape": ""
          }
         },
         "name": "wide_variable_28",
         "nbinsx": 61,
         "offsetgroup": "wide_variable_28",
         "orientation": "v",
         "showlegend": true,
         "type": "histogram",
         "x": [
          20106
         ],
         "xaxis": "x",
         "yaxis": "y"
        },
        {
         "alignmentgroup": "True",
         "bingroup": "x",
         "hovertemplate": "variable=wide_variable_29<br>value=%{x}<br>count=%{y}<extra></extra>",
         "legendgroup": "wide_variable_29",
         "marker": {
          "color": "#FECB52",
          "pattern": {
           "shape": ""
          }
         },
         "name": "wide_variable_29",
         "nbinsx": 61,
         "offsetgroup": "wide_variable_29",
         "orientation": "v",
         "showlegend": true,
         "type": "histogram",
         "x": [
          20265
         ],
         "xaxis": "x",
         "yaxis": "y"
        },
        {
         "alignmentgroup": "True",
         "bingroup": "x",
         "hovertemplate": "variable=wide_variable_30<br>value=%{x}<br>count=%{y}<extra></extra>",
         "legendgroup": "wide_variable_30",
         "marker": {
          "color": "#636efa",
          "pattern": {
           "shape": ""
          }
         },
         "name": "wide_variable_30",
         "nbinsx": 61,
         "offsetgroup": "wide_variable_30",
         "orientation": "v",
         "showlegend": true,
         "type": "histogram",
         "x": [
          20265
         ],
         "xaxis": "x",
         "yaxis": "y"
        },
        {
         "alignmentgroup": "True",
         "bingroup": "x",
         "hovertemplate": "variable=wide_variable_31<br>value=%{x}<br>count=%{y}<extra></extra>",
         "legendgroup": "wide_variable_31",
         "marker": {
          "color": "#EF553B",
          "pattern": {
           "shape": ""
          }
         },
         "name": "wide_variable_31",
         "nbinsx": 61,
         "offsetgroup": "wide_variable_31",
         "orientation": "v",
         "showlegend": true,
         "type": "histogram",
         "x": [
          20948
         ],
         "xaxis": "x",
         "yaxis": "y"
        },
        {
         "alignmentgroup": "True",
         "bingroup": "x",
         "hovertemplate": "variable=wide_variable_32<br>value=%{x}<br>count=%{y}<extra></extra>",
         "legendgroup": "wide_variable_32",
         "marker": {
          "color": "#00cc96",
          "pattern": {
           "shape": ""
          }
         },
         "name": "wide_variable_32",
         "nbinsx": 61,
         "offsetgroup": "wide_variable_32",
         "orientation": "v",
         "showlegend": true,
         "type": "histogram",
         "x": [
          20952
         ],
         "xaxis": "x",
         "yaxis": "y"
        },
        {
         "alignmentgroup": "True",
         "bingroup": "x",
         "hovertemplate": "variable=wide_variable_33<br>value=%{x}<br>count=%{y}<extra></extra>",
         "legendgroup": "wide_variable_33",
         "marker": {
          "color": "#ab63fa",
          "pattern": {
           "shape": ""
          }
         },
         "name": "wide_variable_33",
         "nbinsx": 61,
         "offsetgroup": "wide_variable_33",
         "orientation": "v",
         "showlegend": true,
         "type": "histogram",
         "x": [
          20830
         ],
         "xaxis": "x",
         "yaxis": "y"
        },
        {
         "alignmentgroup": "True",
         "bingroup": "x",
         "hovertemplate": "variable=wide_variable_34<br>value=%{x}<br>count=%{y}<extra></extra>",
         "legendgroup": "wide_variable_34",
         "marker": {
          "color": "#FFA15A",
          "pattern": {
           "shape": ""
          }
         },
         "name": "wide_variable_34",
         "nbinsx": 61,
         "offsetgroup": "wide_variable_34",
         "orientation": "v",
         "showlegend": true,
         "type": "histogram",
         "x": [
          20501
         ],
         "xaxis": "x",
         "yaxis": "y"
        },
        {
         "alignmentgroup": "True",
         "bingroup": "x",
         "hovertemplate": "variable=wide_variable_35<br>value=%{x}<br>count=%{y}<extra></extra>",
         "legendgroup": "wide_variable_35",
         "marker": {
          "color": "#19d3f3",
          "pattern": {
           "shape": ""
          }
         },
         "name": "wide_variable_35",
         "nbinsx": 61,
         "offsetgroup": "wide_variable_35",
         "orientation": "v",
         "showlegend": true,
         "type": "histogram",
         "x": [
          20954
         ],
         "xaxis": "x",
         "yaxis": "y"
        },
        {
         "alignmentgroup": "True",
         "bingroup": "x",
         "hovertemplate": "variable=wide_variable_36<br>value=%{x}<br>count=%{y}<extra></extra>",
         "legendgroup": "wide_variable_36",
         "marker": {
          "color": "#FF6692",
          "pattern": {
           "shape": ""
          }
         },
         "name": "wide_variable_36",
         "nbinsx": 61,
         "offsetgroup": "wide_variable_36",
         "orientation": "v",
         "showlegend": true,
         "type": "histogram",
         "x": [
          20765
         ],
         "xaxis": "x",
         "yaxis": "y"
        },
        {
         "alignmentgroup": "True",
         "bingroup": "x",
         "hovertemplate": "variable=wide_variable_37<br>value=%{x}<br>count=%{y}<extra></extra>",
         "legendgroup": "wide_variable_37",
         "marker": {
          "color": "#B6E880",
          "pattern": {
           "shape": ""
          }
         },
         "name": "wide_variable_37",
         "nbinsx": 61,
         "offsetgroup": "wide_variable_37",
         "orientation": "v",
         "showlegend": true,
         "type": "histogram",
         "x": [
          20940
         ],
         "xaxis": "x",
         "yaxis": "y"
        },
        {
         "alignmentgroup": "True",
         "bingroup": "x",
         "hovertemplate": "variable=wide_variable_38<br>value=%{x}<br>count=%{y}<extra></extra>",
         "legendgroup": "wide_variable_38",
         "marker": {
          "color": "#FF97FF",
          "pattern": {
           "shape": ""
          }
         },
         "name": "wide_variable_38",
         "nbinsx": 61,
         "offsetgroup": "wide_variable_38",
         "orientation": "v",
         "showlegend": true,
         "type": "histogram",
         "x": [
          20948
         ],
         "xaxis": "x",
         "yaxis": "y"
        },
        {
         "alignmentgroup": "True",
         "bingroup": "x",
         "hovertemplate": "variable=wide_variable_39<br>value=%{x}<br>count=%{y}<extra></extra>",
         "legendgroup": "wide_variable_39",
         "marker": {
          "color": "#FECB52",
          "pattern": {
           "shape": ""
          }
         },
         "name": "wide_variable_39",
         "nbinsx": 61,
         "offsetgroup": "wide_variable_39",
         "orientation": "v",
         "showlegend": true,
         "type": "histogram",
         "x": [
          20911
         ],
         "xaxis": "x",
         "yaxis": "y"
        },
        {
         "alignmentgroup": "True",
         "bingroup": "x",
         "hovertemplate": "variable=wide_variable_40<br>value=%{x}<br>count=%{y}<extra></extra>",
         "legendgroup": "wide_variable_40",
         "marker": {
          "color": "#636efa",
          "pattern": {
           "shape": ""
          }
         },
         "name": "wide_variable_40",
         "nbinsx": 61,
         "offsetgroup": "wide_variable_40",
         "orientation": "v",
         "showlegend": true,
         "type": "histogram",
         "x": [
          20688
         ],
         "xaxis": "x",
         "yaxis": "y"
        },
        {
         "alignmentgroup": "True",
         "bingroup": "x",
         "hovertemplate": "variable=wide_variable_41<br>value=%{x}<br>count=%{y}<extra></extra>",
         "legendgroup": "wide_variable_41",
         "marker": {
          "color": "#EF553B",
          "pattern": {
           "shape": ""
          }
         },
         "name": "wide_variable_41",
         "nbinsx": 61,
         "offsetgroup": "wide_variable_41",
         "orientation": "v",
         "showlegend": true,
         "type": "histogram",
         "x": [
          20688
         ],
         "xaxis": "x",
         "yaxis": "y"
        },
        {
         "alignmentgroup": "True",
         "bingroup": "x",
         "hovertemplate": "variable=wide_variable_42<br>value=%{x}<br>count=%{y}<extra></extra>",
         "legendgroup": "wide_variable_42",
         "marker": {
          "color": "#00cc96",
          "pattern": {
           "shape": ""
          }
         },
         "name": "wide_variable_42",
         "nbinsx": 61,
         "offsetgroup": "wide_variable_42",
         "orientation": "v",
         "showlegend": true,
         "type": "histogram",
         "x": [
          20818
         ],
         "xaxis": "x",
         "yaxis": "y"
        },
        {
         "alignmentgroup": "True",
         "bingroup": "x",
         "hovertemplate": "variable=wide_variable_43<br>value=%{x}<br>count=%{y}<extra></extra>",
         "legendgroup": "wide_variable_43",
         "marker": {
          "color": "#ab63fa",
          "pattern": {
           "shape": ""
          }
         },
         "name": "wide_variable_43",
         "nbinsx": 61,
         "offsetgroup": "wide_variable_43",
         "orientation": "v",
         "showlegend": true,
         "type": "histogram",
         "x": [
          20920
         ],
         "xaxis": "x",
         "yaxis": "y"
        },
        {
         "alignmentgroup": "True",
         "bingroup": "x",
         "hovertemplate": "variable=wide_variable_44<br>value=%{x}<br>count=%{y}<extra></extra>",
         "legendgroup": "wide_variable_44",
         "marker": {
          "color": "#FFA15A",
          "pattern": {
           "shape": ""
          }
         },
         "name": "wide_variable_44",
         "nbinsx": 61,
         "offsetgroup": "wide_variable_44",
         "orientation": "v",
         "showlegend": true,
         "type": "histogram",
         "x": [
          20958
         ],
         "xaxis": "x",
         "yaxis": "y"
        },
        {
         "alignmentgroup": "True",
         "bingroup": "x",
         "hovertemplate": "variable=wide_variable_45<br>value=%{x}<br>count=%{y}<extra></extra>",
         "legendgroup": "wide_variable_45",
         "marker": {
          "color": "#19d3f3",
          "pattern": {
           "shape": ""
          }
         },
         "name": "wide_variable_45",
         "nbinsx": 61,
         "offsetgroup": "wide_variable_45",
         "orientation": "v",
         "showlegend": true,
         "type": "histogram",
         "x": [
          20106
         ],
         "xaxis": "x",
         "yaxis": "y"
        },
        {
         "alignmentgroup": "True",
         "bingroup": "x",
         "hovertemplate": "variable=wide_variable_46<br>value=%{x}<br>count=%{y}<extra></extra>",
         "legendgroup": "wide_variable_46",
         "marker": {
          "color": "#FF6692",
          "pattern": {
           "shape": ""
          }
         },
         "name": "wide_variable_46",
         "nbinsx": 61,
         "offsetgroup": "wide_variable_46",
         "orientation": "v",
         "showlegend": true,
         "type": "histogram",
         "x": [
          20884
         ],
         "xaxis": "x",
         "yaxis": "y"
        },
        {
         "alignmentgroup": "True",
         "bingroup": "x",
         "hovertemplate": "variable=wide_variable_47<br>value=%{x}<br>count=%{y}<extra></extra>",
         "legendgroup": "wide_variable_47",
         "marker": {
          "color": "#B6E880",
          "pattern": {
           "shape": ""
          }
         },
         "name": "wide_variable_47",
         "nbinsx": 61,
         "offsetgroup": "wide_variable_47",
         "orientation": "v",
         "showlegend": true,
         "type": "histogram",
         "x": [
          20999
         ],
         "xaxis": "x",
         "yaxis": "y"
        },
        {
         "alignmentgroup": "True",
         "bingroup": "x",
         "hovertemplate": "variable=wide_variable_48<br>value=%{x}<br>count=%{y}<extra></extra>",
         "legendgroup": "wide_variable_48",
         "marker": {
          "color": "#FF97FF",
          "pattern": {
           "shape": ""
          }
         },
         "name": "wide_variable_48",
         "nbinsx": 61,
         "offsetgroup": "wide_variable_48",
         "orientation": "v",
         "showlegend": true,
         "type": "histogram",
         "x": [
          20911
         ],
         "xaxis": "x",
         "yaxis": "y"
        },
        {
         "alignmentgroup": "True",
         "bingroup": "x",
         "hovertemplate": "variable=wide_variable_49<br>value=%{x}<br>count=%{y}<extra></extra>",
         "legendgroup": "wide_variable_49",
         "marker": {
          "color": "#FECB52",
          "pattern": {
           "shape": ""
          }
         },
         "name": "wide_variable_49",
         "nbinsx": 61,
         "offsetgroup": "wide_variable_49",
         "orientation": "v",
         "showlegend": true,
         "type": "histogram",
         "x": [
          20983
         ],
         "xaxis": "x",
         "yaxis": "y"
        },
        {
         "alignmentgroup": "True",
         "bingroup": "x",
         "hovertemplate": "variable=wide_variable_50<br>value=%{x}<br>count=%{y}<extra></extra>",
         "legendgroup": "wide_variable_50",
         "marker": {
          "color": "#636efa",
          "pattern": {
           "shape": ""
          }
         },
         "name": "wide_variable_50",
         "nbinsx": 61,
         "offsetgroup": "wide_variable_50",
         "orientation": "v",
         "showlegend": true,
         "type": "histogram",
         "x": [
          20983
         ],
         "xaxis": "x",
         "yaxis": "y"
        },
        {
         "alignmentgroup": "True",
         "bingroup": "x",
         "hovertemplate": "variable=wide_variable_51<br>value=%{x}<br>count=%{y}<extra></extra>",
         "legendgroup": "wide_variable_51",
         "marker": {
          "color": "#EF553B",
          "pattern": {
           "shape": ""
          }
         },
         "name": "wide_variable_51",
         "nbinsx": 61,
         "offsetgroup": "wide_variable_51",
         "orientation": "v",
         "showlegend": true,
         "type": "histogram",
         "x": [
          20983
         ],
         "xaxis": "x",
         "yaxis": "y"
        },
        {
         "alignmentgroup": "True",
         "bingroup": "x",
         "hovertemplate": "variable=wide_variable_52<br>value=%{x}<br>count=%{y}<extra></extra>",
         "legendgroup": "wide_variable_52",
         "marker": {
          "color": "#00cc96",
          "pattern": {
           "shape": ""
          }
         },
         "name": "wide_variable_52",
         "nbinsx": 61,
         "offsetgroup": "wide_variable_52",
         "orientation": "v",
         "showlegend": true,
         "type": "histogram",
         "x": [
          20911
         ],
         "xaxis": "x",
         "yaxis": "y"
        },
        {
         "alignmentgroup": "True",
         "bingroup": "x",
         "hovertemplate": "variable=wide_variable_53<br>value=%{x}<br>count=%{y}<extra></extra>",
         "legendgroup": "wide_variable_53",
         "marker": {
          "color": "#ab63fa",
          "pattern": {
           "shape": ""
          }
         },
         "name": "wide_variable_53",
         "nbinsx": 61,
         "offsetgroup": "wide_variable_53",
         "orientation": "v",
         "showlegend": true,
         "type": "histogram",
         "x": [
          20501
         ],
         "xaxis": "x",
         "yaxis": "y"
        },
        {
         "alignmentgroup": "True",
         "bingroup": "x",
         "hovertemplate": "variable=wide_variable_54<br>value=%{x}<br>count=%{y}<extra></extra>",
         "legendgroup": "wide_variable_54",
         "marker": {
          "color": "#FFA15A",
          "pattern": {
           "shape": ""
          }
         },
         "name": "wide_variable_54",
         "nbinsx": 61,
         "offsetgroup": "wide_variable_54",
         "orientation": "v",
         "showlegend": true,
         "type": "histogram",
         "x": [
          20937
         ],
         "xaxis": "x",
         "yaxis": "y"
        },
        {
         "alignmentgroup": "True",
         "bingroup": "x",
         "hovertemplate": "variable=wide_variable_55<br>value=%{x}<br>count=%{y}<extra></extra>",
         "legendgroup": "wide_variable_55",
         "marker": {
          "color": "#19d3f3",
          "pattern": {
           "shape": ""
          }
         },
         "name": "wide_variable_55",
         "nbinsx": 61,
         "offsetgroup": "wide_variable_55",
         "orientation": "v",
         "showlegend": true,
         "type": "histogram",
         "x": [
          20106
         ],
         "xaxis": "x",
         "yaxis": "y"
        },
        {
         "alignmentgroup": "True",
         "bingroup": "x",
         "hovertemplate": "variable=wide_variable_56<br>value=%{x}<br>count=%{y}<extra></extra>",
         "legendgroup": "wide_variable_56",
         "marker": {
          "color": "#FF6692",
          "pattern": {
           "shape": ""
          }
         },
         "name": "wide_variable_56",
         "nbinsx": 61,
         "offsetgroup": "wide_variable_56",
         "orientation": "v",
         "showlegend": true,
         "type": "histogram",
         "x": [
          20935
         ],
         "xaxis": "x",
         "yaxis": "y"
        },
        {
         "alignmentgroup": "True",
         "bingroup": "x",
         "hovertemplate": "variable=wide_variable_57<br>value=%{x}<br>count=%{y}<extra></extra>",
         "legendgroup": "wide_variable_57",
         "marker": {
          "color": "#B6E880",
          "pattern": {
           "shape": ""
          }
         },
         "name": "wide_variable_57",
         "nbinsx": 61,
         "offsetgroup": "wide_variable_57",
         "orientation": "v",
         "showlegend": true,
         "type": "histogram",
         "x": [
          20365
         ],
         "xaxis": "x",
         "yaxis": "y"
        },
        {
         "alignmentgroup": "True",
         "bingroup": "x",
         "hovertemplate": "variable=wide_variable_58<br>value=%{x}<br>count=%{y}<extra></extra>",
         "legendgroup": "wide_variable_58",
         "marker": {
          "color": "#FF97FF",
          "pattern": {
           "shape": ""
          }
         },
         "name": "wide_variable_58",
         "nbinsx": 61,
         "offsetgroup": "wide_variable_58",
         "orientation": "v",
         "showlegend": true,
         "type": "histogram",
         "x": [
          20945
         ],
         "xaxis": "x",
         "yaxis": "y"
        },
        {
         "alignmentgroup": "True",
         "bingroup": "x",
         "hovertemplate": "variable=wide_variable_59<br>value=%{x}<br>count=%{y}<extra></extra>",
         "legendgroup": "wide_variable_59",
         "marker": {
          "color": "#FECB52",
          "pattern": {
           "shape": ""
          }
         },
         "name": "wide_variable_59",
         "nbinsx": 61,
         "offsetgroup": "wide_variable_59",
         "orientation": "v",
         "showlegend": true,
         "type": "histogram",
         "x": [
          20891
         ],
         "xaxis": "x",
         "yaxis": "y"
        },
        {
         "alignmentgroup": "True",
         "bingroup": "x",
         "hovertemplate": "variable=wide_variable_60<br>value=%{x}<br>count=%{y}<extra></extra>",
         "legendgroup": "wide_variable_60",
         "marker": {
          "color": "#636efa",
          "pattern": {
           "shape": ""
          }
         },
         "name": "wide_variable_60",
         "nbinsx": 61,
         "offsetgroup": "wide_variable_60",
         "orientation": "v",
         "showlegend": true,
         "type": "histogram",
         "x": [
          20884
         ],
         "xaxis": "x",
         "yaxis": "y"
        },
        {
         "alignmentgroup": "True",
         "bingroup": "x",
         "hovertemplate": "variable=wide_variable_61<br>value=%{x}<br>count=%{y}<extra></extra>",
         "legendgroup": "wide_variable_61",
         "marker": {
          "color": "#EF553B",
          "pattern": {
           "shape": ""
          }
         },
         "name": "wide_variable_61",
         "nbinsx": 61,
         "offsetgroup": "wide_variable_61",
         "orientation": "v",
         "showlegend": true,
         "type": "histogram",
         "x": [
          20864
         ],
         "xaxis": "x",
         "yaxis": "y"
        },
        {
         "alignmentgroup": "True",
         "bingroup": "x",
         "hovertemplate": "variable=wide_variable_62<br>value=%{x}<br>count=%{y}<extra></extra>",
         "legendgroup": "wide_variable_62",
         "marker": {
          "color": "#00cc96",
          "pattern": {
           "shape": ""
          }
         },
         "name": "wide_variable_62",
         "nbinsx": 61,
         "offsetgroup": "wide_variable_62",
         "orientation": "v",
         "showlegend": true,
         "type": "histogram",
         "x": [
          20866
         ],
         "xaxis": "x",
         "yaxis": "y"
        },
        {
         "alignmentgroup": "True",
         "bingroup": "x",
         "hovertemplate": "variable=wide_variable_63<br>value=%{x}<br>count=%{y}<extra></extra>",
         "legendgroup": "wide_variable_63",
         "marker": {
          "color": "#ab63fa",
          "pattern": {
           "shape": ""
          }
         },
         "name": "wide_variable_63",
         "nbinsx": 61,
         "offsetgroup": "wide_variable_63",
         "orientation": "v",
         "showlegend": true,
         "type": "histogram",
         "x": [
          20974
         ],
         "xaxis": "x",
         "yaxis": "y"
        },
        {
         "alignmentgroup": "True",
         "bingroup": "x",
         "hovertemplate": "variable=wide_variable_64<br>value=%{x}<br>count=%{y}<extra></extra>",
         "legendgroup": "wide_variable_64",
         "marker": {
          "color": "#FFA15A",
          "pattern": {
           "shape": ""
          }
         },
         "name": "wide_variable_64",
         "nbinsx": 61,
         "offsetgroup": "wide_variable_64",
         "orientation": "v",
         "showlegend": true,
         "type": "histogram",
         "x": [
          20969
         ],
         "xaxis": "x",
         "yaxis": "y"
        },
        {
         "alignmentgroup": "True",
         "bingroup": "x",
         "hovertemplate": "variable=wide_variable_65<br>value=%{x}<br>count=%{y}<extra></extra>",
         "legendgroup": "wide_variable_65",
         "marker": {
          "color": "#19d3f3",
          "pattern": {
           "shape": ""
          }
         },
         "name": "wide_variable_65",
         "nbinsx": 61,
         "offsetgroup": "wide_variable_65",
         "orientation": "v",
         "showlegend": true,
         "type": "histogram",
         "x": [
          20958
         ],
         "xaxis": "x",
         "yaxis": "y"
        },
        {
         "alignmentgroup": "True",
         "bingroup": "x",
         "hovertemplate": "variable=wide_variable_66<br>value=%{x}<br>count=%{y}<extra></extra>",
         "legendgroup": "wide_variable_66",
         "marker": {
          "color": "#FF6692",
          "pattern": {
           "shape": ""
          }
         },
         "name": "wide_variable_66",
         "nbinsx": 61,
         "offsetgroup": "wide_variable_66",
         "orientation": "v",
         "showlegend": true,
         "type": "histogram",
         "x": [
          20869
         ],
         "xaxis": "x",
         "yaxis": "y"
        },
        {
         "alignmentgroup": "True",
         "bingroup": "x",
         "hovertemplate": "variable=wide_variable_67<br>value=%{x}<br>count=%{y}<extra></extra>",
         "legendgroup": "wide_variable_67",
         "marker": {
          "color": "#B6E880",
          "pattern": {
           "shape": ""
          }
         },
         "name": "wide_variable_67",
         "nbinsx": 61,
         "offsetgroup": "wide_variable_67",
         "orientation": "v",
         "showlegend": true,
         "type": "histogram",
         "x": [
          20926
         ],
         "xaxis": "x",
         "yaxis": "y"
        },
        {
         "alignmentgroup": "True",
         "bingroup": "x",
         "hovertemplate": "variable=wide_variable_68<br>value=%{x}<br>count=%{y}<extra></extra>",
         "legendgroup": "wide_variable_68",
         "marker": {
          "color": "#FF97FF",
          "pattern": {
           "shape": ""
          }
         },
         "name": "wide_variable_68",
         "nbinsx": 61,
         "offsetgroup": "wide_variable_68",
         "orientation": "v",
         "showlegend": true,
         "type": "histogram",
         "x": [
          20937
         ],
         "xaxis": "x",
         "yaxis": "y"
        },
        {
         "alignmentgroup": "True",
         "bingroup": "x",
         "hovertemplate": "variable=wide_variable_69<br>value=%{x}<br>count=%{y}<extra></extra>",
         "legendgroup": "wide_variable_69",
         "marker": {
          "color": "#FECB52",
          "pattern": {
           "shape": ""
          }
         },
         "name": "wide_variable_69",
         "nbinsx": 61,
         "offsetgroup": "wide_variable_69",
         "orientation": "v",
         "showlegend": true,
         "type": "histogram",
         "x": [
          20940
         ],
         "xaxis": "x",
         "yaxis": "y"
        },
        {
         "alignmentgroup": "True",
         "bingroup": "x",
         "hovertemplate": "variable=wide_variable_70<br>value=%{x}<br>count=%{y}<extra></extra>",
         "legendgroup": "wide_variable_70",
         "marker": {
          "color": "#636efa",
          "pattern": {
           "shape": ""
          }
         },
         "name": "wide_variable_70",
         "nbinsx": 61,
         "offsetgroup": "wide_variable_70",
         "orientation": "v",
         "showlegend": true,
         "type": "histogram",
         "x": [
          20975
         ],
         "xaxis": "x",
         "yaxis": "y"
        },
        {
         "alignmentgroup": "True",
         "bingroup": "x",
         "hovertemplate": "variable=wide_variable_71<br>value=%{x}<br>count=%{y}<extra></extra>",
         "legendgroup": "wide_variable_71",
         "marker": {
          "color": "#EF553B",
          "pattern": {
           "shape": ""
          }
         },
         "name": "wide_variable_71",
         "nbinsx": 61,
         "offsetgroup": "wide_variable_71",
         "orientation": "v",
         "showlegend": true,
         "type": "histogram",
         "x": [
          20958
         ],
         "xaxis": "x",
         "yaxis": "y"
        },
        {
         "alignmentgroup": "True",
         "bingroup": "x",
         "hovertemplate": "variable=wide_variable_72<br>value=%{x}<br>count=%{y}<extra></extra>",
         "legendgroup": "wide_variable_72",
         "marker": {
          "color": "#00cc96",
          "pattern": {
           "shape": ""
          }
         },
         "name": "wide_variable_72",
         "nbinsx": 61,
         "offsetgroup": "wide_variable_72",
         "orientation": "v",
         "showlegend": true,
         "type": "histogram",
         "x": [
          20946
         ],
         "xaxis": "x",
         "yaxis": "y"
        },
        {
         "alignmentgroup": "True",
         "bingroup": "x",
         "hovertemplate": "variable=wide_variable_73<br>value=%{x}<br>count=%{y}<extra></extra>",
         "legendgroup": "wide_variable_73",
         "marker": {
          "color": "#ab63fa",
          "pattern": {
           "shape": ""
          }
         },
         "name": "wide_variable_73",
         "nbinsx": 61,
         "offsetgroup": "wide_variable_73",
         "orientation": "v",
         "showlegend": true,
         "type": "histogram",
         "x": [
          20986
         ],
         "xaxis": "x",
         "yaxis": "y"
        },
        {
         "alignmentgroup": "True",
         "bingroup": "x",
         "hovertemplate": "variable=wide_variable_74<br>value=%{x}<br>count=%{y}<extra></extra>",
         "legendgroup": "wide_variable_74",
         "marker": {
          "color": "#FFA15A",
          "pattern": {
           "shape": ""
          }
         },
         "name": "wide_variable_74",
         "nbinsx": 61,
         "offsetgroup": "wide_variable_74",
         "orientation": "v",
         "showlegend": true,
         "type": "histogram",
         "x": [
          20935
         ],
         "xaxis": "x",
         "yaxis": "y"
        },
        {
         "alignmentgroup": "True",
         "bingroup": "x",
         "hovertemplate": "variable=wide_variable_75<br>value=%{x}<br>count=%{y}<extra></extra>",
         "legendgroup": "wide_variable_75",
         "marker": {
          "color": "#19d3f3",
          "pattern": {
           "shape": ""
          }
         },
         "name": "wide_variable_75",
         "nbinsx": 61,
         "offsetgroup": "wide_variable_75",
         "orientation": "v",
         "showlegend": true,
         "type": "histogram",
         "x": [
          20954
         ],
         "xaxis": "x",
         "yaxis": "y"
        },
        {
         "alignmentgroup": "True",
         "bingroup": "x",
         "hovertemplate": "variable=wide_variable_76<br>value=%{x}<br>count=%{y}<extra></extra>",
         "legendgroup": "wide_variable_76",
         "marker": {
          "color": "#FF6692",
          "pattern": {
           "shape": ""
          }
         },
         "name": "wide_variable_76",
         "nbinsx": 61,
         "offsetgroup": "wide_variable_76",
         "orientation": "v",
         "showlegend": true,
         "type": "histogram",
         "x": [
          20830
         ],
         "xaxis": "x",
         "yaxis": "y"
        },
        {
         "alignmentgroup": "True",
         "bingroup": "x",
         "hovertemplate": "variable=wide_variable_77<br>value=%{x}<br>count=%{y}<extra></extra>",
         "legendgroup": "wide_variable_77",
         "marker": {
          "color": "#B6E880",
          "pattern": {
           "shape": ""
          }
         },
         "name": "wide_variable_77",
         "nbinsx": 61,
         "offsetgroup": "wide_variable_77",
         "orientation": "v",
         "showlegend": true,
         "type": "histogram",
         "x": [
          20738
         ],
         "xaxis": "x",
         "yaxis": "y"
        },
        {
         "alignmentgroup": "True",
         "bingroup": "x",
         "hovertemplate": "variable=wide_variable_78<br>value=%{x}<br>count=%{y}<extra></extra>",
         "legendgroup": "wide_variable_78",
         "marker": {
          "color": "#FF97FF",
          "pattern": {
           "shape": ""
          }
         },
         "name": "wide_variable_78",
         "nbinsx": 61,
         "offsetgroup": "wide_variable_78",
         "orientation": "v",
         "showlegend": true,
         "type": "histogram",
         "x": [
          20738
         ],
         "xaxis": "x",
         "yaxis": "y"
        },
        {
         "alignmentgroup": "True",
         "bingroup": "x",
         "hovertemplate": "variable=wide_variable_79<br>value=%{x}<br>count=%{y}<extra></extra>",
         "legendgroup": "wide_variable_79",
         "marker": {
          "color": "#FECB52",
          "pattern": {
           "shape": ""
          }
         },
         "name": "wide_variable_79",
         "nbinsx": 61,
         "offsetgroup": "wide_variable_79",
         "orientation": "v",
         "showlegend": true,
         "type": "histogram",
         "x": [
          20882
         ],
         "xaxis": "x",
         "yaxis": "y"
        },
        {
         "alignmentgroup": "True",
         "bingroup": "x",
         "hovertemplate": "variable=wide_variable_80<br>value=%{x}<br>count=%{y}<extra></extra>",
         "legendgroup": "wide_variable_80",
         "marker": {
          "color": "#636efa",
          "pattern": {
           "shape": ""
          }
         },
         "name": "wide_variable_80",
         "nbinsx": 61,
         "offsetgroup": "wide_variable_80",
         "orientation": "v",
         "showlegend": true,
         "type": "histogram",
         "x": [
          20897
         ],
         "xaxis": "x",
         "yaxis": "y"
        },
        {
         "alignmentgroup": "True",
         "bingroup": "x",
         "hovertemplate": "variable=wide_variable_81<br>value=%{x}<br>count=%{y}<extra></extra>",
         "legendgroup": "wide_variable_81",
         "marker": {
          "color": "#EF553B",
          "pattern": {
           "shape": ""
          }
         },
         "name": "wide_variable_81",
         "nbinsx": 61,
         "offsetgroup": "wide_variable_81",
         "orientation": "v",
         "showlegend": true,
         "type": "histogram",
         "x": [
          20939
         ],
         "xaxis": "x",
         "yaxis": "y"
        },
        {
         "alignmentgroup": "True",
         "bingroup": "x",
         "hovertemplate": "variable=wide_variable_82<br>value=%{x}<br>count=%{y}<extra></extra>",
         "legendgroup": "wide_variable_82",
         "marker": {
          "color": "#00cc96",
          "pattern": {
           "shape": ""
          }
         },
         "name": "wide_variable_82",
         "nbinsx": 61,
         "offsetgroup": "wide_variable_82",
         "orientation": "v",
         "showlegend": true,
         "type": "histogram",
         "x": [
          20911
         ],
         "xaxis": "x",
         "yaxis": "y"
        },
        {
         "alignmentgroup": "True",
         "bingroup": "x",
         "hovertemplate": "variable=wide_variable_83<br>value=%{x}<br>count=%{y}<extra></extra>",
         "legendgroup": "wide_variable_83",
         "marker": {
          "color": "#ab63fa",
          "pattern": {
           "shape": ""
          }
         },
         "name": "wide_variable_83",
         "nbinsx": 61,
         "offsetgroup": "wide_variable_83",
         "orientation": "v",
         "showlegend": true,
         "type": "histogram",
         "x": [
          20946
         ],
         "xaxis": "x",
         "yaxis": "y"
        },
        {
         "alignmentgroup": "True",
         "bingroup": "x",
         "hovertemplate": "variable=wide_variable_84<br>value=%{x}<br>count=%{y}<extra></extra>",
         "legendgroup": "wide_variable_84",
         "marker": {
          "color": "#FFA15A",
          "pattern": {
           "shape": ""
          }
         },
         "name": "wide_variable_84",
         "nbinsx": 61,
         "offsetgroup": "wide_variable_84",
         "orientation": "v",
         "showlegend": true,
         "type": "histogram",
         "x": [
          20921
         ],
         "xaxis": "x",
         "yaxis": "y"
        },
        {
         "alignmentgroup": "True",
         "bingroup": "x",
         "hovertemplate": "variable=wide_variable_85<br>value=%{x}<br>count=%{y}<extra></extra>",
         "legendgroup": "wide_variable_85",
         "marker": {
          "color": "#19d3f3",
          "pattern": {
           "shape": ""
          }
         },
         "name": "wide_variable_85",
         "nbinsx": 61,
         "offsetgroup": "wide_variable_85",
         "orientation": "v",
         "showlegend": true,
         "type": "histogram",
         "x": [
          20891
         ],
         "xaxis": "x",
         "yaxis": "y"
        },
        {
         "alignmentgroup": "True",
         "bingroup": "x",
         "hovertemplate": "variable=wide_variable_86<br>value=%{x}<br>count=%{y}<extra></extra>",
         "legendgroup": "wide_variable_86",
         "marker": {
          "color": "#FF6692",
          "pattern": {
           "shape": ""
          }
         },
         "name": "wide_variable_86",
         "nbinsx": 61,
         "offsetgroup": "wide_variable_86",
         "orientation": "v",
         "showlegend": true,
         "type": "histogram",
         "x": [
          20891
         ],
         "xaxis": "x",
         "yaxis": "y"
        },
        {
         "alignmentgroup": "True",
         "bingroup": "x",
         "hovertemplate": "variable=wide_variable_87<br>value=%{x}<br>count=%{y}<extra></extra>",
         "legendgroup": "wide_variable_87",
         "marker": {
          "color": "#B6E880",
          "pattern": {
           "shape": ""
          }
         },
         "name": "wide_variable_87",
         "nbinsx": 61,
         "offsetgroup": "wide_variable_87",
         "orientation": "v",
         "showlegend": true,
         "type": "histogram",
         "x": [
          20891
         ],
         "xaxis": "x",
         "yaxis": "y"
        },
        {
         "alignmentgroup": "True",
         "bingroup": "x",
         "hovertemplate": "variable=wide_variable_88<br>value=%{x}<br>count=%{y}<extra></extra>",
         "legendgroup": "wide_variable_88",
         "marker": {
          "color": "#FF97FF",
          "pattern": {
           "shape": ""
          }
         },
         "name": "wide_variable_88",
         "nbinsx": 61,
         "offsetgroup": "wide_variable_88",
         "orientation": "v",
         "showlegend": true,
         "type": "histogram",
         "x": [
          20935
         ],
         "xaxis": "x",
         "yaxis": "y"
        },
        {
         "alignmentgroup": "True",
         "bingroup": "x",
         "hovertemplate": "variable=wide_variable_89<br>value=%{x}<br>count=%{y}<extra></extra>",
         "legendgroup": "wide_variable_89",
         "marker": {
          "color": "#FECB52",
          "pattern": {
           "shape": ""
          }
         },
         "name": "wide_variable_89",
         "nbinsx": 61,
         "offsetgroup": "wide_variable_89",
         "orientation": "v",
         "showlegend": true,
         "type": "histogram",
         "x": [
          20954
         ],
         "xaxis": "x",
         "yaxis": "y"
        },
        {
         "alignmentgroup": "True",
         "bingroup": "x",
         "hovertemplate": "variable=wide_variable_90<br>value=%{x}<br>count=%{y}<extra></extra>",
         "legendgroup": "wide_variable_90",
         "marker": {
          "color": "#636efa",
          "pattern": {
           "shape": ""
          }
         },
         "name": "wide_variable_90",
         "nbinsx": 61,
         "offsetgroup": "wide_variable_90",
         "orientation": "v",
         "showlegend": true,
         "type": "histogram",
         "x": [
          20842
         ],
         "xaxis": "x",
         "yaxis": "y"
        },
        {
         "alignmentgroup": "True",
         "bingroup": "x",
         "hovertemplate": "variable=wide_variable_91<br>value=%{x}<br>count=%{y}<extra></extra>",
         "legendgroup": "wide_variable_91",
         "marker": {
          "color": "#EF553B",
          "pattern": {
           "shape": ""
          }
         },
         "name": "wide_variable_91",
         "nbinsx": 61,
         "offsetgroup": "wide_variable_91",
         "orientation": "v",
         "showlegend": true,
         "type": "histogram",
         "x": [
          20974
         ],
         "xaxis": "x",
         "yaxis": "y"
        },
        {
         "alignmentgroup": "True",
         "bingroup": "x",
         "hovertemplate": "variable=wide_variable_92<br>value=%{x}<br>count=%{y}<extra></extra>",
         "legendgroup": "wide_variable_92",
         "marker": {
          "color": "#00cc96",
          "pattern": {
           "shape": ""
          }
         },
         "name": "wide_variable_92",
         "nbinsx": 61,
         "offsetgroup": "wide_variable_92",
         "orientation": "v",
         "showlegend": true,
         "type": "histogram",
         "x": [
          20958
         ],
         "xaxis": "x",
         "yaxis": "y"
        },
        {
         "alignmentgroup": "True",
         "bingroup": "x",
         "hovertemplate": "variable=wide_variable_93<br>value=%{x}<br>count=%{y}<extra></extra>",
         "legendgroup": "wide_variable_93",
         "marker": {
          "color": "#ab63fa",
          "pattern": {
           "shape": ""
          }
         },
         "name": "wide_variable_93",
         "nbinsx": 61,
         "offsetgroup": "wide_variable_93",
         "orientation": "v",
         "showlegend": true,
         "type": "histogram",
         "x": [
          21015
         ],
         "xaxis": "x",
         "yaxis": "y"
        },
        {
         "alignmentgroup": "True",
         "bingroup": "x",
         "hovertemplate": "variable=wide_variable_94<br>value=%{x}<br>count=%{y}<extra></extra>",
         "legendgroup": "wide_variable_94",
         "marker": {
          "color": "#FFA15A",
          "pattern": {
           "shape": ""
          }
         },
         "name": "wide_variable_94",
         "nbinsx": 61,
         "offsetgroup": "wide_variable_94",
         "orientation": "v",
         "showlegend": true,
         "type": "histogram",
         "x": [
          20952
         ],
         "xaxis": "x",
         "yaxis": "y"
        },
        {
         "alignmentgroup": "True",
         "bingroup": "x",
         "hovertemplate": "variable=wide_variable_95<br>value=%{x}<br>count=%{y}<extra></extra>",
         "legendgroup": "wide_variable_95",
         "marker": {
          "color": "#19d3f3",
          "pattern": {
           "shape": ""
          }
         },
         "name": "wide_variable_95",
         "nbinsx": 61,
         "offsetgroup": "wide_variable_95",
         "orientation": "v",
         "showlegend": true,
         "type": "histogram",
         "x": [
          20974
         ],
         "xaxis": "x",
         "yaxis": "y"
        },
        {
         "alignmentgroup": "True",
         "bingroup": "x",
         "hovertemplate": "variable=wide_variable_96<br>value=%{x}<br>count=%{y}<extra></extra>",
         "legendgroup": "wide_variable_96",
         "marker": {
          "color": "#FF6692",
          "pattern": {
           "shape": ""
          }
         },
         "name": "wide_variable_96",
         "nbinsx": 61,
         "offsetgroup": "wide_variable_96",
         "orientation": "v",
         "showlegend": true,
         "type": "histogram",
         "x": [
          20974
         ],
         "xaxis": "x",
         "yaxis": "y"
        },
        {
         "alignmentgroup": "True",
         "bingroup": "x",
         "hovertemplate": "variable=wide_variable_97<br>value=%{x}<br>count=%{y}<extra></extra>",
         "legendgroup": "wide_variable_97",
         "marker": {
          "color": "#B6E880",
          "pattern": {
           "shape": ""
          }
         },
         "name": "wide_variable_97",
         "nbinsx": 61,
         "offsetgroup": "wide_variable_97",
         "orientation": "v",
         "showlegend": true,
         "type": "histogram",
         "x": [
          20983
         ],
         "xaxis": "x",
         "yaxis": "y"
        },
        {
         "alignmentgroup": "True",
         "bingroup": "x",
         "hovertemplate": "variable=wide_variable_98<br>value=%{x}<br>count=%{y}<extra></extra>",
         "legendgroup": "wide_variable_98",
         "marker": {
          "color": "#FF97FF",
          "pattern": {
           "shape": ""
          }
         },
         "name": "wide_variable_98",
         "nbinsx": 61,
         "offsetgroup": "wide_variable_98",
         "orientation": "v",
         "showlegend": true,
         "type": "histogram",
         "x": [
          20939
         ],
         "xaxis": "x",
         "yaxis": "y"
        },
        {
         "alignmentgroup": "True",
         "bingroup": "x",
         "hovertemplate": "variable=wide_variable_99<br>value=%{x}<br>count=%{y}<extra></extra>",
         "legendgroup": "wide_variable_99",
         "marker": {
          "color": "#FECB52",
          "pattern": {
           "shape": ""
          }
         },
         "name": "wide_variable_99",
         "nbinsx": 61,
         "offsetgroup": "wide_variable_99",
         "orientation": "v",
         "showlegend": true,
         "type": "histogram",
         "x": [
          20765
         ],
         "xaxis": "x",
         "yaxis": "y"
        },
        {
         "alignmentgroup": "True",
         "bingroup": "x",
         "hovertemplate": "variable=wide_variable_100<br>value=%{x}<br>count=%{y}<extra></extra>",
         "legendgroup": "wide_variable_100",
         "marker": {
          "color": "#636efa",
          "pattern": {
           "shape": ""
          }
         },
         "name": "wide_variable_100",
         "nbinsx": 61,
         "offsetgroup": "wide_variable_100",
         "orientation": "v",
         "showlegend": true,
         "type": "histogram",
         "x": [
          20726
         ],
         "xaxis": "x",
         "yaxis": "y"
        },
        {
         "alignmentgroup": "True",
         "bingroup": "x",
         "hovertemplate": "variable=wide_variable_101<br>value=%{x}<br>count=%{y}<extra></extra>",
         "legendgroup": "wide_variable_101",
         "marker": {
          "color": "#EF553B",
          "pattern": {
           "shape": ""
          }
         },
         "name": "wide_variable_101",
         "nbinsx": 61,
         "offsetgroup": "wide_variable_101",
         "orientation": "v",
         "showlegend": true,
         "type": "histogram",
         "x": [
          20986
         ],
         "xaxis": "x",
         "yaxis": "y"
        },
        {
         "alignmentgroup": "True",
         "bingroup": "x",
         "hovertemplate": "variable=wide_variable_102<br>value=%{x}<br>count=%{y}<extra></extra>",
         "legendgroup": "wide_variable_102",
         "marker": {
          "color": "#00cc96",
          "pattern": {
           "shape": ""
          }
         },
         "name": "wide_variable_102",
         "nbinsx": 61,
         "offsetgroup": "wide_variable_102",
         "orientation": "v",
         "showlegend": true,
         "type": "histogram",
         "x": [
          20265
         ],
         "xaxis": "x",
         "yaxis": "y"
        },
        {
         "alignmentgroup": "True",
         "bingroup": "x",
         "hovertemplate": "variable=wide_variable_103<br>value=%{x}<br>count=%{y}<extra></extra>",
         "legendgroup": "wide_variable_103",
         "marker": {
          "color": "#ab63fa",
          "pattern": {
           "shape": ""
          }
         },
         "name": "wide_variable_103",
         "nbinsx": 61,
         "offsetgroup": "wide_variable_103",
         "orientation": "v",
         "showlegend": true,
         "type": "histogram",
         "x": [
          20997
         ],
         "xaxis": "x",
         "yaxis": "y"
        },
        {
         "alignmentgroup": "True",
         "bingroup": "x",
         "hovertemplate": "variable=wide_variable_104<br>value=%{x}<br>count=%{y}<extra></extra>",
         "legendgroup": "wide_variable_104",
         "marker": {
          "color": "#FFA15A",
          "pattern": {
           "shape": ""
          }
         },
         "name": "wide_variable_104",
         "nbinsx": 61,
         "offsetgroup": "wide_variable_104",
         "orientation": "v",
         "showlegend": true,
         "type": "histogram",
         "x": [
          20265
         ],
         "xaxis": "x",
         "yaxis": "y"
        },
        {
         "alignmentgroup": "True",
         "bingroup": "x",
         "hovertemplate": "variable=wide_variable_105<br>value=%{x}<br>count=%{y}<extra></extra>",
         "legendgroup": "wide_variable_105",
         "marker": {
          "color": "#19d3f3",
          "pattern": {
           "shape": ""
          }
         },
         "name": "wide_variable_105",
         "nbinsx": 61,
         "offsetgroup": "wide_variable_105",
         "orientation": "v",
         "showlegend": true,
         "type": "histogram",
         "x": [
          20812
         ],
         "xaxis": "x",
         "yaxis": "y"
        },
        {
         "alignmentgroup": "True",
         "bingroup": "x",
         "hovertemplate": "variable=wide_variable_106<br>value=%{x}<br>count=%{y}<extra></extra>",
         "legendgroup": "wide_variable_106",
         "marker": {
          "color": "#FF6692",
          "pattern": {
           "shape": ""
          }
         },
         "name": "wide_variable_106",
         "nbinsx": 61,
         "offsetgroup": "wide_variable_106",
         "orientation": "v",
         "showlegend": true,
         "type": "histogram",
         "x": [
          20983
         ],
         "xaxis": "x",
         "yaxis": "y"
        },
        {
         "alignmentgroup": "True",
         "bingroup": "x",
         "hovertemplate": "variable=wide_variable_107<br>value=%{x}<br>count=%{y}<extra></extra>",
         "legendgroup": "wide_variable_107",
         "marker": {
          "color": "#B6E880",
          "pattern": {
           "shape": ""
          }
         },
         "name": "wide_variable_107",
         "nbinsx": 61,
         "offsetgroup": "wide_variable_107",
         "orientation": "v",
         "showlegend": true,
         "type": "histogram",
         "x": [
          20846
         ],
         "xaxis": "x",
         "yaxis": "y"
        },
        {
         "alignmentgroup": "True",
         "bingroup": "x",
         "hovertemplate": "variable=wide_variable_108<br>value=%{x}<br>count=%{y}<extra></extra>",
         "legendgroup": "wide_variable_108",
         "marker": {
          "color": "#FF97FF",
          "pattern": {
           "shape": ""
          }
         },
         "name": "wide_variable_108",
         "nbinsx": 61,
         "offsetgroup": "wide_variable_108",
         "orientation": "v",
         "showlegend": true,
         "type": "histogram",
         "x": [
          20738
         ],
         "xaxis": "x",
         "yaxis": "y"
        },
        {
         "alignmentgroup": "True",
         "bingroup": "x",
         "hovertemplate": "variable=wide_variable_109<br>value=%{x}<br>count=%{y}<extra></extra>",
         "legendgroup": "wide_variable_109",
         "marker": {
          "color": "#FECB52",
          "pattern": {
           "shape": ""
          }
         },
         "name": "wide_variable_109",
         "nbinsx": 61,
         "offsetgroup": "wide_variable_109",
         "orientation": "v",
         "showlegend": true,
         "type": "histogram",
         "x": [
          20869
         ],
         "xaxis": "x",
         "yaxis": "y"
        },
        {
         "alignmentgroup": "True",
         "bingroup": "x",
         "hovertemplate": "variable=wide_variable_110<br>value=%{x}<br>count=%{y}<extra></extra>",
         "legendgroup": "wide_variable_110",
         "marker": {
          "color": "#636efa",
          "pattern": {
           "shape": ""
          }
         },
         "name": "wide_variable_110",
         "nbinsx": 61,
         "offsetgroup": "wide_variable_110",
         "orientation": "v",
         "showlegend": true,
         "type": "histogram",
         "x": [
          20869
         ],
         "xaxis": "x",
         "yaxis": "y"
        },
        {
         "alignmentgroup": "True",
         "bingroup": "x",
         "hovertemplate": "variable=wide_variable_111<br>value=%{x}<br>count=%{y}<extra></extra>",
         "legendgroup": "wide_variable_111",
         "marker": {
          "color": "#EF553B",
          "pattern": {
           "shape": ""
          }
         },
         "name": "wide_variable_111",
         "nbinsx": 61,
         "offsetgroup": "wide_variable_111",
         "orientation": "v",
         "showlegend": true,
         "type": "histogram",
         "x": [
          20724
         ],
         "xaxis": "x",
         "yaxis": "y"
        },
        {
         "alignmentgroup": "True",
         "bingroup": "x",
         "hovertemplate": "variable=wide_variable_112<br>value=%{x}<br>count=%{y}<extra></extra>",
         "legendgroup": "wide_variable_112",
         "marker": {
          "color": "#00cc96",
          "pattern": {
           "shape": ""
          }
         },
         "name": "wide_variable_112",
         "nbinsx": 61,
         "offsetgroup": "wide_variable_112",
         "orientation": "v",
         "showlegend": true,
         "type": "histogram",
         "x": [
          20808
         ],
         "xaxis": "x",
         "yaxis": "y"
        },
        {
         "alignmentgroup": "True",
         "bingroup": "x",
         "hovertemplate": "variable=wide_variable_113<br>value=%{x}<br>count=%{y}<extra></extra>",
         "legendgroup": "wide_variable_113",
         "marker": {
          "color": "#ab63fa",
          "pattern": {
           "shape": ""
          }
         },
         "name": "wide_variable_113",
         "nbinsx": 61,
         "offsetgroup": "wide_variable_113",
         "orientation": "v",
         "showlegend": true,
         "type": "histogram",
         "x": [
          20969
         ],
         "xaxis": "x",
         "yaxis": "y"
        },
        {
         "alignmentgroup": "True",
         "bingroup": "x",
         "hovertemplate": "variable=wide_variable_114<br>value=%{x}<br>count=%{y}<extra></extra>",
         "legendgroup": "wide_variable_114",
         "marker": {
          "color": "#FFA15A",
          "pattern": {
           "shape": ""
          }
         },
         "name": "wide_variable_114",
         "nbinsx": 61,
         "offsetgroup": "wide_variable_114",
         "orientation": "v",
         "showlegend": true,
         "type": "histogram",
         "x": [
          20106
         ],
         "xaxis": "x",
         "yaxis": "y"
        },
        {
         "alignmentgroup": "True",
         "bingroup": "x",
         "hovertemplate": "variable=wide_variable_115<br>value=%{x}<br>count=%{y}<extra></extra>",
         "legendgroup": "wide_variable_115",
         "marker": {
          "color": "#19d3f3",
          "pattern": {
           "shape": ""
          }
         },
         "name": "wide_variable_115",
         "nbinsx": 61,
         "offsetgroup": "wide_variable_115",
         "orientation": "v",
         "showlegend": true,
         "type": "histogram",
         "x": [
          20948
         ],
         "xaxis": "x",
         "yaxis": "y"
        },
        {
         "alignmentgroup": "True",
         "bingroup": "x",
         "hovertemplate": "variable=wide_variable_116<br>value=%{x}<br>count=%{y}<extra></extra>",
         "legendgroup": "wide_variable_116",
         "marker": {
          "color": "#FF6692",
          "pattern": {
           "shape": ""
          }
         },
         "name": "wide_variable_116",
         "nbinsx": 61,
         "offsetgroup": "wide_variable_116",
         "orientation": "v",
         "showlegend": true,
         "type": "histogram",
         "x": [
          20911
         ],
         "xaxis": "x",
         "yaxis": "y"
        },
        {
         "alignmentgroup": "True",
         "bingroup": "x",
         "hovertemplate": "variable=wide_variable_117<br>value=%{x}<br>count=%{y}<extra></extra>",
         "legendgroup": "wide_variable_117",
         "marker": {
          "color": "#B6E880",
          "pattern": {
           "shape": ""
          }
         },
         "name": "wide_variable_117",
         "nbinsx": 61,
         "offsetgroup": "wide_variable_117",
         "orientation": "v",
         "showlegend": true,
         "type": "histogram",
         "x": [
          20813
         ],
         "xaxis": "x",
         "yaxis": "y"
        },
        {
         "alignmentgroup": "True",
         "bingroup": "x",
         "hovertemplate": "variable=wide_variable_118<br>value=%{x}<br>count=%{y}<extra></extra>",
         "legendgroup": "wide_variable_118",
         "marker": {
          "color": "#FF97FF",
          "pattern": {
           "shape": ""
          }
         },
         "name": "wide_variable_118",
         "nbinsx": 61,
         "offsetgroup": "wide_variable_118",
         "orientation": "v",
         "showlegend": true,
         "type": "histogram",
         "x": [
          20933
         ],
         "xaxis": "x",
         "yaxis": "y"
        },
        {
         "alignmentgroup": "True",
         "bingroup": "x",
         "hovertemplate": "variable=wide_variable_119<br>value=%{x}<br>count=%{y}<extra></extra>",
         "legendgroup": "wide_variable_119",
         "marker": {
          "color": "#FECB52",
          "pattern": {
           "shape": ""
          }
         },
         "name": "wide_variable_119",
         "nbinsx": 61,
         "offsetgroup": "wide_variable_119",
         "orientation": "v",
         "showlegend": true,
         "type": "histogram",
         "x": [
          20969
         ],
         "xaxis": "x",
         "yaxis": "y"
        },
        {
         "alignmentgroup": "True",
         "bingroup": "x",
         "hovertemplate": "variable=wide_variable_120<br>value=%{x}<br>count=%{y}<extra></extra>",
         "legendgroup": "wide_variable_120",
         "marker": {
          "color": "#636efa",
          "pattern": {
           "shape": ""
          }
         },
         "name": "wide_variable_120",
         "nbinsx": 61,
         "offsetgroup": "wide_variable_120",
         "orientation": "v",
         "showlegend": true,
         "type": "histogram",
         "x": [
          20738
         ],
         "xaxis": "x",
         "yaxis": "y"
        },
        {
         "alignmentgroup": "True",
         "bingroup": "x",
         "hovertemplate": "variable=wide_variable_121<br>value=%{x}<br>count=%{y}<extra></extra>",
         "legendgroup": "wide_variable_121",
         "marker": {
          "color": "#EF553B",
          "pattern": {
           "shape": ""
          }
         },
         "name": "wide_variable_121",
         "nbinsx": 61,
         "offsetgroup": "wide_variable_121",
         "orientation": "v",
         "showlegend": true,
         "type": "histogram",
         "x": [
          20971
         ],
         "xaxis": "x",
         "yaxis": "y"
        },
        {
         "alignmentgroup": "True",
         "bingroup": "x",
         "hovertemplate": "variable=wide_variable_122<br>value=%{x}<br>count=%{y}<extra></extra>",
         "legendgroup": "wide_variable_122",
         "marker": {
          "color": "#00cc96",
          "pattern": {
           "shape": ""
          }
         },
         "name": "wide_variable_122",
         "nbinsx": 61,
         "offsetgroup": "wide_variable_122",
         "orientation": "v",
         "showlegend": true,
         "type": "histogram",
         "x": [
          20985
         ],
         "xaxis": "x",
         "yaxis": "y"
        },
        {
         "alignmentgroup": "True",
         "bingroup": "x",
         "hovertemplate": "variable=wide_variable_123<br>value=%{x}<br>count=%{y}<extra></extra>",
         "legendgroup": "wide_variable_123",
         "marker": {
          "color": "#ab63fa",
          "pattern": {
           "shape": ""
          }
         },
         "name": "wide_variable_123",
         "nbinsx": 61,
         "offsetgroup": "wide_variable_123",
         "orientation": "v",
         "showlegend": true,
         "type": "histogram",
         "x": [
          20972
         ],
         "xaxis": "x",
         "yaxis": "y"
        },
        {
         "alignmentgroup": "True",
         "bingroup": "x",
         "hovertemplate": "variable=wide_variable_124<br>value=%{x}<br>count=%{y}<extra></extra>",
         "legendgroup": "wide_variable_124",
         "marker": {
          "color": "#FFA15A",
          "pattern": {
           "shape": ""
          }
         },
         "name": "wide_variable_124",
         "nbinsx": 61,
         "offsetgroup": "wide_variable_124",
         "orientation": "v",
         "showlegend": true,
         "type": "histogram",
         "x": [
          20958
         ],
         "xaxis": "x",
         "yaxis": "y"
        },
        {
         "alignmentgroup": "True",
         "bingroup": "x",
         "hovertemplate": "variable=wide_variable_125<br>value=%{x}<br>count=%{y}<extra></extra>",
         "legendgroup": "wide_variable_125",
         "marker": {
          "color": "#19d3f3",
          "pattern": {
           "shape": ""
          }
         },
         "name": "wide_variable_125",
         "nbinsx": 61,
         "offsetgroup": "wide_variable_125",
         "orientation": "v",
         "showlegend": true,
         "type": "histogram",
         "x": [
          20986
         ],
         "xaxis": "x",
         "yaxis": "y"
        },
        {
         "alignmentgroup": "True",
         "bingroup": "x",
         "hovertemplate": "variable=wide_variable_126<br>value=%{x}<br>count=%{y}<extra></extra>",
         "legendgroup": "wide_variable_126",
         "marker": {
          "color": "#FF6692",
          "pattern": {
           "shape": ""
          }
         },
         "name": "wide_variable_126",
         "nbinsx": 61,
         "offsetgroup": "wide_variable_126",
         "orientation": "v",
         "showlegend": true,
         "type": "histogram",
         "x": [
          20846
         ],
         "xaxis": "x",
         "yaxis": "y"
        },
        {
         "alignmentgroup": "True",
         "bingroup": "x",
         "hovertemplate": "variable=wide_variable_127<br>value=%{x}<br>count=%{y}<extra></extra>",
         "legendgroup": "wide_variable_127",
         "marker": {
          "color": "#B6E880",
          "pattern": {
           "shape": ""
          }
         },
         "name": "wide_variable_127",
         "nbinsx": 61,
         "offsetgroup": "wide_variable_127",
         "orientation": "v",
         "showlegend": true,
         "type": "histogram",
         "x": [
          20738
         ],
         "xaxis": "x",
         "yaxis": "y"
        },
        {
         "alignmentgroup": "True",
         "bingroup": "x",
         "hovertemplate": "variable=wide_variable_128<br>value=%{x}<br>count=%{y}<extra></extra>",
         "legendgroup": "wide_variable_128",
         "marker": {
          "color": "#FF97FF",
          "pattern": {
           "shape": ""
          }
         },
         "name": "wide_variable_128",
         "nbinsx": 61,
         "offsetgroup": "wide_variable_128",
         "orientation": "v",
         "showlegend": true,
         "type": "histogram",
         "x": [
          20891
         ],
         "xaxis": "x",
         "yaxis": "y"
        },
        {
         "alignmentgroup": "True",
         "bingroup": "x",
         "hovertemplate": "variable=wide_variable_129<br>value=%{x}<br>count=%{y}<extra></extra>",
         "legendgroup": "wide_variable_129",
         "marker": {
          "color": "#FECB52",
          "pattern": {
           "shape": ""
          }
         },
         "name": "wide_variable_129",
         "nbinsx": 61,
         "offsetgroup": "wide_variable_129",
         "orientation": "v",
         "showlegend": true,
         "type": "histogram",
         "x": [
          20891
         ],
         "xaxis": "x",
         "yaxis": "y"
        },
        {
         "alignmentgroup": "True",
         "bingroup": "x",
         "hovertemplate": "variable=wide_variable_130<br>value=%{x}<br>count=%{y}<extra></extra>",
         "legendgroup": "wide_variable_130",
         "marker": {
          "color": "#636efa",
          "pattern": {
           "shape": ""
          }
         },
         "name": "wide_variable_130",
         "nbinsx": 61,
         "offsetgroup": "wide_variable_130",
         "orientation": "v",
         "showlegend": true,
         "type": "histogram",
         "x": [
          20939
         ],
         "xaxis": "x",
         "yaxis": "y"
        },
        {
         "alignmentgroup": "True",
         "bingroup": "x",
         "hovertemplate": "variable=wide_variable_131<br>value=%{x}<br>count=%{y}<extra></extra>",
         "legendgroup": "wide_variable_131",
         "marker": {
          "color": "#EF553B",
          "pattern": {
           "shape": ""
          }
         },
         "name": "wide_variable_131",
         "nbinsx": 61,
         "offsetgroup": "wide_variable_131",
         "orientation": "v",
         "showlegend": true,
         "type": "histogram",
         "x": [
          20845
         ],
         "xaxis": "x",
         "yaxis": "y"
        },
        {
         "alignmentgroup": "True",
         "bingroup": "x",
         "hovertemplate": "variable=wide_variable_132<br>value=%{x}<br>count=%{y}<extra></extra>",
         "legendgroup": "wide_variable_132",
         "marker": {
          "color": "#00cc96",
          "pattern": {
           "shape": ""
          }
         },
         "name": "wide_variable_132",
         "nbinsx": 61,
         "offsetgroup": "wide_variable_132",
         "orientation": "v",
         "showlegend": true,
         "type": "histogram",
         "x": [
          20935
         ],
         "xaxis": "x",
         "yaxis": "y"
        },
        {
         "alignmentgroup": "True",
         "bingroup": "x",
         "hovertemplate": "variable=wide_variable_133<br>value=%{x}<br>count=%{y}<extra></extra>",
         "legendgroup": "wide_variable_133",
         "marker": {
          "color": "#ab63fa",
          "pattern": {
           "shape": ""
          }
         },
         "name": "wide_variable_133",
         "nbinsx": 61,
         "offsetgroup": "wide_variable_133",
         "orientation": "v",
         "showlegend": true,
         "type": "histogram",
         "x": [
          20935
         ],
         "xaxis": "x",
         "yaxis": "y"
        },
        {
         "alignmentgroup": "True",
         "bingroup": "x",
         "hovertemplate": "variable=wide_variable_134<br>value=%{x}<br>count=%{y}<extra></extra>",
         "legendgroup": "wide_variable_134",
         "marker": {
          "color": "#FFA15A",
          "pattern": {
           "shape": ""
          }
         },
         "name": "wide_variable_134",
         "nbinsx": 61,
         "offsetgroup": "wide_variable_134",
         "orientation": "v",
         "showlegend": true,
         "type": "histogram",
         "x": [
          20954
         ],
         "xaxis": "x",
         "yaxis": "y"
        },
        {
         "alignmentgroup": "True",
         "bingroup": "x",
         "hovertemplate": "variable=wide_variable_135<br>value=%{x}<br>count=%{y}<extra></extra>",
         "legendgroup": "wide_variable_135",
         "marker": {
          "color": "#19d3f3",
          "pattern": {
           "shape": ""
          }
         },
         "name": "wide_variable_135",
         "nbinsx": 61,
         "offsetgroup": "wide_variable_135",
         "orientation": "v",
         "showlegend": true,
         "type": "histogram",
         "x": [
          20954
         ],
         "xaxis": "x",
         "yaxis": "y"
        },
        {
         "alignmentgroup": "True",
         "bingroup": "x",
         "hovertemplate": "variable=wide_variable_136<br>value=%{x}<br>count=%{y}<extra></extra>",
         "legendgroup": "wide_variable_136",
         "marker": {
          "color": "#FF6692",
          "pattern": {
           "shape": ""
          }
         },
         "name": "wide_variable_136",
         "nbinsx": 61,
         "offsetgroup": "wide_variable_136",
         "orientation": "v",
         "showlegend": true,
         "type": "histogram",
         "x": [
          20106
         ],
         "xaxis": "x",
         "yaxis": "y"
        },
        {
         "alignmentgroup": "True",
         "bingroup": "x",
         "hovertemplate": "variable=wide_variable_137<br>value=%{x}<br>count=%{y}<extra></extra>",
         "legendgroup": "wide_variable_137",
         "marker": {
          "color": "#B6E880",
          "pattern": {
           "shape": ""
          }
         },
         "name": "wide_variable_137",
         "nbinsx": 61,
         "offsetgroup": "wide_variable_137",
         "orientation": "v",
         "showlegend": true,
         "type": "histogram",
         "x": [
          20945
         ],
         "xaxis": "x",
         "yaxis": "y"
        },
        {
         "alignmentgroup": "True",
         "bingroup": "x",
         "hovertemplate": "variable=wide_variable_138<br>value=%{x}<br>count=%{y}<extra></extra>",
         "legendgroup": "wide_variable_138",
         "marker": {
          "color": "#FF97FF",
          "pattern": {
           "shape": ""
          }
         },
         "name": "wide_variable_138",
         "nbinsx": 61,
         "offsetgroup": "wide_variable_138",
         "orientation": "v",
         "showlegend": true,
         "type": "histogram",
         "x": [
          20952
         ],
         "xaxis": "x",
         "yaxis": "y"
        },
        {
         "alignmentgroup": "True",
         "bingroup": "x",
         "hovertemplate": "variable=wide_variable_139<br>value=%{x}<br>count=%{y}<extra></extra>",
         "legendgroup": "wide_variable_139",
         "marker": {
          "color": "#FECB52",
          "pattern": {
           "shape": ""
          }
         },
         "name": "wide_variable_139",
         "nbinsx": 61,
         "offsetgroup": "wide_variable_139",
         "orientation": "v",
         "showlegend": true,
         "type": "histogram",
         "x": [
          20952
         ],
         "xaxis": "x",
         "yaxis": "y"
        },
        {
         "alignmentgroup": "True",
         "bingroup": "x",
         "hovertemplate": "variable=wide_variable_140<br>value=%{x}<br>count=%{y}<extra></extra>",
         "legendgroup": "wide_variable_140",
         "marker": {
          "color": "#636efa",
          "pattern": {
           "shape": ""
          }
         },
         "name": "wide_variable_140",
         "nbinsx": 61,
         "offsetgroup": "wide_variable_140",
         "orientation": "v",
         "showlegend": true,
         "type": "histogram",
         "x": [
          20952
         ],
         "xaxis": "x",
         "yaxis": "y"
        },
        {
         "alignmentgroup": "True",
         "bingroup": "x",
         "hovertemplate": "variable=wide_variable_141<br>value=%{x}<br>count=%{y}<extra></extra>",
         "legendgroup": "wide_variable_141",
         "marker": {
          "color": "#EF553B",
          "pattern": {
           "shape": ""
          }
         },
         "name": "wide_variable_141",
         "nbinsx": 61,
         "offsetgroup": "wide_variable_141",
         "orientation": "v",
         "showlegend": true,
         "type": "histogram",
         "x": [
          20974
         ],
         "xaxis": "x",
         "yaxis": "y"
        },
        {
         "alignmentgroup": "True",
         "bingroup": "x",
         "hovertemplate": "variable=wide_variable_142<br>value=%{x}<br>count=%{y}<extra></extra>",
         "legendgroup": "wide_variable_142",
         "marker": {
          "color": "#00cc96",
          "pattern": {
           "shape": ""
          }
         },
         "name": "wide_variable_142",
         "nbinsx": 61,
         "offsetgroup": "wide_variable_142",
         "orientation": "v",
         "showlegend": true,
         "type": "histogram",
         "x": [
          20948
         ],
         "xaxis": "x",
         "yaxis": "y"
        },
        {
         "alignmentgroup": "True",
         "bingroup": "x",
         "hovertemplate": "variable=wide_variable_143<br>value=%{x}<br>count=%{y}<extra></extra>",
         "legendgroup": "wide_variable_143",
         "marker": {
          "color": "#ab63fa",
          "pattern": {
           "shape": ""
          }
         },
         "name": "wide_variable_143",
         "nbinsx": 61,
         "offsetgroup": "wide_variable_143",
         "orientation": "v",
         "showlegend": true,
         "type": "histogram",
         "x": [
          20812
         ],
         "xaxis": "x",
         "yaxis": "y"
        },
        {
         "alignmentgroup": "True",
         "bingroup": "x",
         "hovertemplate": "variable=wide_variable_144<br>value=%{x}<br>count=%{y}<extra></extra>",
         "legendgroup": "wide_variable_144",
         "marker": {
          "color": "#FFA15A",
          "pattern": {
           "shape": ""
          }
         },
         "name": "wide_variable_144",
         "nbinsx": 61,
         "offsetgroup": "wide_variable_144",
         "orientation": "v",
         "showlegend": true,
         "type": "histogram",
         "x": [
          20106
         ],
         "xaxis": "x",
         "yaxis": "y"
        },
        {
         "alignmentgroup": "True",
         "bingroup": "x",
         "hovertemplate": "variable=wide_variable_145<br>value=%{x}<br>count=%{y}<extra></extra>",
         "legendgroup": "wide_variable_145",
         "marker": {
          "color": "#19d3f3",
          "pattern": {
           "shape": ""
          }
         },
         "name": "wide_variable_145",
         "nbinsx": 61,
         "offsetgroup": "wide_variable_145",
         "orientation": "v",
         "showlegend": true,
         "type": "histogram",
         "x": [
          20106
         ],
         "xaxis": "x",
         "yaxis": "y"
        },
        {
         "alignmentgroup": "True",
         "bingroup": "x",
         "hovertemplate": "variable=wide_variable_146<br>value=%{x}<br>count=%{y}<extra></extra>",
         "legendgroup": "wide_variable_146",
         "marker": {
          "color": "#FF6692",
          "pattern": {
           "shape": ""
          }
         },
         "name": "wide_variable_146",
         "nbinsx": 61,
         "offsetgroup": "wide_variable_146",
         "orientation": "v",
         "showlegend": true,
         "type": "histogram",
         "x": [
          20842
         ],
         "xaxis": "x",
         "yaxis": "y"
        },
        {
         "alignmentgroup": "True",
         "bingroup": "x",
         "hovertemplate": "variable=wide_variable_147<br>value=%{x}<br>count=%{y}<extra></extra>",
         "legendgroup": "wide_variable_147",
         "marker": {
          "color": "#B6E880",
          "pattern": {
           "shape": ""
          }
         },
         "name": "wide_variable_147",
         "nbinsx": 61,
         "offsetgroup": "wide_variable_147",
         "orientation": "v",
         "showlegend": true,
         "type": "histogram",
         "x": [
          20969
         ],
         "xaxis": "x",
         "yaxis": "y"
        },
        {
         "alignmentgroup": "True",
         "bingroup": "x",
         "hovertemplate": "variable=wide_variable_148<br>value=%{x}<br>count=%{y}<extra></extra>",
         "legendgroup": "wide_variable_148",
         "marker": {
          "color": "#FF97FF",
          "pattern": {
           "shape": ""
          }
         },
         "name": "wide_variable_148",
         "nbinsx": 61,
         "offsetgroup": "wide_variable_148",
         "orientation": "v",
         "showlegend": true,
         "type": "histogram",
         "x": [
          20935
         ],
         "xaxis": "x",
         "yaxis": "y"
        },
        {
         "alignmentgroup": "True",
         "bingroup": "x",
         "hovertemplate": "variable=wide_variable_149<br>value=%{x}<br>count=%{y}<extra></extra>",
         "legendgroup": "wide_variable_149",
         "marker": {
          "color": "#FECB52",
          "pattern": {
           "shape": ""
          }
         },
         "name": "wide_variable_149",
         "nbinsx": 61,
         "offsetgroup": "wide_variable_149",
         "orientation": "v",
         "showlegend": true,
         "type": "histogram",
         "x": [
          20983
         ],
         "xaxis": "x",
         "yaxis": "y"
        },
        {
         "alignmentgroup": "True",
         "bingroup": "x",
         "hovertemplate": "variable=wide_variable_150<br>value=%{x}<br>count=%{y}<extra></extra>",
         "legendgroup": "wide_variable_150",
         "marker": {
          "color": "#636efa",
          "pattern": {
           "shape": ""
          }
         },
         "name": "wide_variable_150",
         "nbinsx": 61,
         "offsetgroup": "wide_variable_150",
         "orientation": "v",
         "showlegend": true,
         "type": "histogram",
         "x": [
          20501
         ],
         "xaxis": "x",
         "yaxis": "y"
        },
        {
         "alignmentgroup": "True",
         "bingroup": "x",
         "hovertemplate": "variable=wide_variable_151<br>value=%{x}<br>count=%{y}<extra></extra>",
         "legendgroup": "wide_variable_151",
         "marker": {
          "color": "#EF553B",
          "pattern": {
           "shape": ""
          }
         },
         "name": "wide_variable_151",
         "nbinsx": 61,
         "offsetgroup": "wide_variable_151",
         "orientation": "v",
         "showlegend": true,
         "type": "histogram",
         "x": [
          20640
         ],
         "xaxis": "x",
         "yaxis": "y"
        },
        {
         "alignmentgroup": "True",
         "bingroup": "x",
         "hovertemplate": "variable=wide_variable_152<br>value=%{x}<br>count=%{y}<extra></extra>",
         "legendgroup": "wide_variable_152",
         "marker": {
          "color": "#00cc96",
          "pattern": {
           "shape": ""
          }
         },
         "name": "wide_variable_152",
         "nbinsx": 61,
         "offsetgroup": "wide_variable_152",
         "orientation": "v",
         "showlegend": true,
         "type": "histogram",
         "x": [
          20954
         ],
         "xaxis": "x",
         "yaxis": "y"
        },
        {
         "alignmentgroup": "True",
         "bingroup": "x",
         "hovertemplate": "variable=wide_variable_153<br>value=%{x}<br>count=%{y}<extra></extra>",
         "legendgroup": "wide_variable_153",
         "marker": {
          "color": "#ab63fa",
          "pattern": {
           "shape": ""
          }
         },
         "name": "wide_variable_153",
         "nbinsx": 61,
         "offsetgroup": "wide_variable_153",
         "orientation": "v",
         "showlegend": true,
         "type": "histogram",
         "x": [
          20974
         ],
         "xaxis": "x",
         "yaxis": "y"
        },
        {
         "alignmentgroup": "True",
         "bingroup": "x",
         "hovertemplate": "variable=wide_variable_154<br>value=%{x}<br>count=%{y}<extra></extra>",
         "legendgroup": "wide_variable_154",
         "marker": {
          "color": "#FFA15A",
          "pattern": {
           "shape": ""
          }
         },
         "name": "wide_variable_154",
         "nbinsx": 61,
         "offsetgroup": "wide_variable_154",
         "orientation": "v",
         "showlegend": true,
         "type": "histogram",
         "x": [
          20614
         ],
         "xaxis": "x",
         "yaxis": "y"
        },
        {
         "alignmentgroup": "True",
         "bingroup": "x",
         "hovertemplate": "variable=wide_variable_155<br>value=%{x}<br>count=%{y}<extra></extra>",
         "legendgroup": "wide_variable_155",
         "marker": {
          "color": "#19d3f3",
          "pattern": {
           "shape": ""
          }
         },
         "name": "wide_variable_155",
         "nbinsx": 61,
         "offsetgroup": "wide_variable_155",
         "orientation": "v",
         "showlegend": true,
         "type": "histogram",
         "x": [
          20954
         ],
         "xaxis": "x",
         "yaxis": "y"
        },
        {
         "alignmentgroup": "True",
         "bingroup": "x",
         "hovertemplate": "variable=wide_variable_156<br>value=%{x}<br>count=%{y}<extra></extra>",
         "legendgroup": "wide_variable_156",
         "marker": {
          "color": "#FF6692",
          "pattern": {
           "shape": ""
          }
         },
         "name": "wide_variable_156",
         "nbinsx": 61,
         "offsetgroup": "wide_variable_156",
         "orientation": "v",
         "showlegend": true,
         "type": "histogram",
         "x": [
          21015
         ],
         "xaxis": "x",
         "yaxis": "y"
        },
        {
         "alignmentgroup": "True",
         "bingroup": "x",
         "hovertemplate": "variable=wide_variable_157<br>value=%{x}<br>count=%{y}<extra></extra>",
         "legendgroup": "wide_variable_157",
         "marker": {
          "color": "#B6E880",
          "pattern": {
           "shape": ""
          }
         },
         "name": "wide_variable_157",
         "nbinsx": 61,
         "offsetgroup": "wide_variable_157",
         "orientation": "v",
         "showlegend": true,
         "type": "histogram",
         "x": [
          20882
         ],
         "xaxis": "x",
         "yaxis": "y"
        },
        {
         "alignmentgroup": "True",
         "bingroup": "x",
         "hovertemplate": "variable=wide_variable_158<br>value=%{x}<br>count=%{y}<extra></extra>",
         "legendgroup": "wide_variable_158",
         "marker": {
          "color": "#FF97FF",
          "pattern": {
           "shape": ""
          }
         },
         "name": "wide_variable_158",
         "nbinsx": 61,
         "offsetgroup": "wide_variable_158",
         "orientation": "v",
         "showlegend": true,
         "type": "histogram",
         "x": [
          20933
         ],
         "xaxis": "x",
         "yaxis": "y"
        },
        {
         "alignmentgroup": "True",
         "bingroup": "x",
         "hovertemplate": "variable=wide_variable_159<br>value=%{x}<br>count=%{y}<extra></extra>",
         "legendgroup": "wide_variable_159",
         "marker": {
          "color": "#FECB52",
          "pattern": {
           "shape": ""
          }
         },
         "name": "wide_variable_159",
         "nbinsx": 61,
         "offsetgroup": "wide_variable_159",
         "orientation": "v",
         "showlegend": true,
         "type": "histogram",
         "x": [
          20947
         ],
         "xaxis": "x",
         "yaxis": "y"
        },
        {
         "alignmentgroup": "True",
         "bingroup": "x",
         "hovertemplate": "variable=wide_variable_160<br>value=%{x}<br>count=%{y}<extra></extra>",
         "legendgroup": "wide_variable_160",
         "marker": {
          "color": "#636efa",
          "pattern": {
           "shape": ""
          }
         },
         "name": "wide_variable_160",
         "nbinsx": 61,
         "offsetgroup": "wide_variable_160",
         "orientation": "v",
         "showlegend": true,
         "type": "histogram",
         "x": [
          21009
         ],
         "xaxis": "x",
         "yaxis": "y"
        },
        {
         "alignmentgroup": "True",
         "bingroup": "x",
         "hovertemplate": "variable=wide_variable_161<br>value=%{x}<br>count=%{y}<extra></extra>",
         "legendgroup": "wide_variable_161",
         "marker": {
          "color": "#EF553B",
          "pattern": {
           "shape": ""
          }
         },
         "name": "wide_variable_161",
         "nbinsx": 61,
         "offsetgroup": "wide_variable_161",
         "orientation": "v",
         "showlegend": true,
         "type": "histogram",
         "x": [
          20713
         ],
         "xaxis": "x",
         "yaxis": "y"
        },
        {
         "alignmentgroup": "True",
         "bingroup": "x",
         "hovertemplate": "variable=wide_variable_162<br>value=%{x}<br>count=%{y}<extra></extra>",
         "legendgroup": "wide_variable_162",
         "marker": {
          "color": "#00cc96",
          "pattern": {
           "shape": ""
          }
         },
         "name": "wide_variable_162",
         "nbinsx": 61,
         "offsetgroup": "wide_variable_162",
         "orientation": "v",
         "showlegend": true,
         "type": "histogram",
         "x": [
          20926
         ],
         "xaxis": "x",
         "yaxis": "y"
        },
        {
         "alignmentgroup": "True",
         "bingroup": "x",
         "hovertemplate": "variable=wide_variable_163<br>value=%{x}<br>count=%{y}<extra></extra>",
         "legendgroup": "wide_variable_163",
         "marker": {
          "color": "#ab63fa",
          "pattern": {
           "shape": ""
          }
         },
         "name": "wide_variable_163",
         "nbinsx": 61,
         "offsetgroup": "wide_variable_163",
         "orientation": "v",
         "showlegend": true,
         "type": "histogram",
         "x": [
          20983
         ],
         "xaxis": "x",
         "yaxis": "y"
        },
        {
         "alignmentgroup": "True",
         "bingroup": "x",
         "hovertemplate": "variable=wide_variable_164<br>value=%{x}<br>count=%{y}<extra></extra>",
         "legendgroup": "wide_variable_164",
         "marker": {
          "color": "#FFA15A",
          "pattern": {
           "shape": ""
          }
         },
         "name": "wide_variable_164",
         "nbinsx": 61,
         "offsetgroup": "wide_variable_164",
         "orientation": "v",
         "showlegend": true,
         "type": "histogram",
         "x": [
          20852
         ],
         "xaxis": "x",
         "yaxis": "y"
        },
        {
         "alignmentgroup": "True",
         "bingroup": "x",
         "hovertemplate": "variable=wide_variable_165<br>value=%{x}<br>count=%{y}<extra></extra>",
         "legendgroup": "wide_variable_165",
         "marker": {
          "color": "#19d3f3",
          "pattern": {
           "shape": ""
          }
         },
         "name": "wide_variable_165",
         "nbinsx": 61,
         "offsetgroup": "wide_variable_165",
         "orientation": "v",
         "showlegend": true,
         "type": "histogram",
         "x": [
          21002
         ],
         "xaxis": "x",
         "yaxis": "y"
        },
        {
         "alignmentgroup": "True",
         "bingroup": "x",
         "hovertemplate": "variable=wide_variable_166<br>value=%{x}<br>count=%{y}<extra></extra>",
         "legendgroup": "wide_variable_166",
         "marker": {
          "color": "#FF6692",
          "pattern": {
           "shape": ""
          }
         },
         "name": "wide_variable_166",
         "nbinsx": 61,
         "offsetgroup": "wide_variable_166",
         "orientation": "v",
         "showlegend": true,
         "type": "histogram",
         "x": [
          20830
         ],
         "xaxis": "x",
         "yaxis": "y"
        },
        {
         "alignmentgroup": "True",
         "bingroup": "x",
         "hovertemplate": "variable=wide_variable_167<br>value=%{x}<br>count=%{y}<extra></extra>",
         "legendgroup": "wide_variable_167",
         "marker": {
          "color": "#B6E880",
          "pattern": {
           "shape": ""
          }
         },
         "name": "wide_variable_167",
         "nbinsx": 61,
         "offsetgroup": "wide_variable_167",
         "orientation": "v",
         "showlegend": true,
         "type": "histogram",
         "x": [
          20994
         ],
         "xaxis": "x",
         "yaxis": "y"
        },
        {
         "alignmentgroup": "True",
         "bingroup": "x",
         "hovertemplate": "variable=wide_variable_168<br>value=%{x}<br>count=%{y}<extra></extra>",
         "legendgroup": "wide_variable_168",
         "marker": {
          "color": "#FF97FF",
          "pattern": {
           "shape": ""
          }
         },
         "name": "wide_variable_168",
         "nbinsx": 61,
         "offsetgroup": "wide_variable_168",
         "orientation": "v",
         "showlegend": true,
         "type": "histogram",
         "x": [
          20106
         ],
         "xaxis": "x",
         "yaxis": "y"
        },
        {
         "alignmentgroup": "True",
         "bingroup": "x",
         "hovertemplate": "variable=wide_variable_169<br>value=%{x}<br>count=%{y}<extra></extra>",
         "legendgroup": "wide_variable_169",
         "marker": {
          "color": "#FECB52",
          "pattern": {
           "shape": ""
          }
         },
         "name": "wide_variable_169",
         "nbinsx": 61,
         "offsetgroup": "wide_variable_169",
         "orientation": "v",
         "showlegend": true,
         "type": "histogram",
         "x": [
          20713
         ],
         "xaxis": "x",
         "yaxis": "y"
        },
        {
         "alignmentgroup": "True",
         "bingroup": "x",
         "hovertemplate": "variable=wide_variable_170<br>value=%{x}<br>count=%{y}<extra></extra>",
         "legendgroup": "wide_variable_170",
         "marker": {
          "color": "#636efa",
          "pattern": {
           "shape": ""
          }
         },
         "name": "wide_variable_170",
         "nbinsx": 61,
         "offsetgroup": "wide_variable_170",
         "orientation": "v",
         "showlegend": true,
         "type": "histogram",
         "x": [
          20830
         ],
         "xaxis": "x",
         "yaxis": "y"
        },
        {
         "alignmentgroup": "True",
         "bingroup": "x",
         "hovertemplate": "variable=wide_variable_171<br>value=%{x}<br>count=%{y}<extra></extra>",
         "legendgroup": "wide_variable_171",
         "marker": {
          "color": "#EF553B",
          "pattern": {
           "shape": ""
          }
         },
         "name": "wide_variable_171",
         "nbinsx": 61,
         "offsetgroup": "wide_variable_171",
         "orientation": "v",
         "showlegend": true,
         "type": "histogram",
         "x": [
          20673
         ],
         "xaxis": "x",
         "yaxis": "y"
        },
        {
         "alignmentgroup": "True",
         "bingroup": "x",
         "hovertemplate": "variable=wide_variable_172<br>value=%{x}<br>count=%{y}<extra></extra>",
         "legendgroup": "wide_variable_172",
         "marker": {
          "color": "#00cc96",
          "pattern": {
           "shape": ""
          }
         },
         "name": "wide_variable_172",
         "nbinsx": 61,
         "offsetgroup": "wide_variable_172",
         "orientation": "v",
         "showlegend": true,
         "type": "histogram",
         "x": [
          20897
         ],
         "xaxis": "x",
         "yaxis": "y"
        },
        {
         "alignmentgroup": "True",
         "bingroup": "x",
         "hovertemplate": "variable=wide_variable_173<br>value=%{x}<br>count=%{y}<extra></extra>",
         "legendgroup": "wide_variable_173",
         "marker": {
          "color": "#ab63fa",
          "pattern": {
           "shape": ""
          }
         },
         "name": "wide_variable_173",
         "nbinsx": 61,
         "offsetgroup": "wide_variable_173",
         "orientation": "v",
         "showlegend": true,
         "type": "histogram",
         "x": [
          20940
         ],
         "xaxis": "x",
         "yaxis": "y"
        },
        {
         "alignmentgroup": "True",
         "bingroup": "x",
         "hovertemplate": "variable=wide_variable_174<br>value=%{x}<br>count=%{y}<extra></extra>",
         "legendgroup": "wide_variable_174",
         "marker": {
          "color": "#FFA15A",
          "pattern": {
           "shape": ""
          }
         },
         "name": "wide_variable_174",
         "nbinsx": 61,
         "offsetgroup": "wide_variable_174",
         "orientation": "v",
         "showlegend": true,
         "type": "histogram",
         "x": [
          20501
         ],
         "xaxis": "x",
         "yaxis": "y"
        },
        {
         "alignmentgroup": "True",
         "bingroup": "x",
         "hovertemplate": "variable=wide_variable_175<br>value=%{x}<br>count=%{y}<extra></extra>",
         "legendgroup": "wide_variable_175",
         "marker": {
          "color": "#19d3f3",
          "pattern": {
           "shape": ""
          }
         },
         "name": "wide_variable_175",
         "nbinsx": 61,
         "offsetgroup": "wide_variable_175",
         "orientation": "v",
         "showlegend": true,
         "type": "histogram",
         "x": [
          20933
         ],
         "xaxis": "x",
         "yaxis": "y"
        },
        {
         "alignmentgroup": "True",
         "bingroup": "x",
         "hovertemplate": "variable=wide_variable_176<br>value=%{x}<br>count=%{y}<extra></extra>",
         "legendgroup": "wide_variable_176",
         "marker": {
          "color": "#FF6692",
          "pattern": {
           "shape": ""
          }
         },
         "name": "wide_variable_176",
         "nbinsx": 61,
         "offsetgroup": "wide_variable_176",
         "orientation": "v",
         "showlegend": true,
         "type": "histogram",
         "x": [
          21015
         ],
         "xaxis": "x",
         "yaxis": "y"
        },
        {
         "alignmentgroup": "True",
         "bingroup": "x",
         "hovertemplate": "variable=wide_variable_177<br>value=%{x}<br>count=%{y}<extra></extra>",
         "legendgroup": "wide_variable_177",
         "marker": {
          "color": "#B6E880",
          "pattern": {
           "shape": ""
          }
         },
         "name": "wide_variable_177",
         "nbinsx": 61,
         "offsetgroup": "wide_variable_177",
         "orientation": "v",
         "showlegend": true,
         "type": "histogram",
         "x": [
          20830
         ],
         "xaxis": "x",
         "yaxis": "y"
        },
        {
         "alignmentgroup": "True",
         "bingroup": "x",
         "hovertemplate": "variable=wide_variable_178<br>value=%{x}<br>count=%{y}<extra></extra>",
         "legendgroup": "wide_variable_178",
         "marker": {
          "color": "#FF97FF",
          "pattern": {
           "shape": ""
          }
         },
         "name": "wide_variable_178",
         "nbinsx": 61,
         "offsetgroup": "wide_variable_178",
         "orientation": "v",
         "showlegend": true,
         "type": "histogram",
         "x": [
          20713
         ],
         "xaxis": "x",
         "yaxis": "y"
        },
        {
         "alignmentgroup": "True",
         "bingroup": "x",
         "hovertemplate": "variable=wide_variable_179<br>value=%{x}<br>count=%{y}<extra></extra>",
         "legendgroup": "wide_variable_179",
         "marker": {
          "color": "#FECB52",
          "pattern": {
           "shape": ""
          }
         },
         "name": "wide_variable_179",
         "nbinsx": 61,
         "offsetgroup": "wide_variable_179",
         "orientation": "v",
         "showlegend": true,
         "type": "histogram",
         "x": [
          20713
         ],
         "xaxis": "x",
         "yaxis": "y"
        },
        {
         "alignmentgroup": "True",
         "bingroup": "x",
         "hovertemplate": "variable=wide_variable_180<br>value=%{x}<br>count=%{y}<extra></extra>",
         "legendgroup": "wide_variable_180",
         "marker": {
          "color": "#636efa",
          "pattern": {
           "shape": ""
          }
         },
         "name": "wide_variable_180",
         "nbinsx": 61,
         "offsetgroup": "wide_variable_180",
         "orientation": "v",
         "showlegend": true,
         "type": "histogram",
         "x": [
          20946
         ],
         "xaxis": "x",
         "yaxis": "y"
        },
        {
         "alignmentgroup": "True",
         "bingroup": "x",
         "hovertemplate": "variable=wide_variable_181<br>value=%{x}<br>count=%{y}<extra></extra>",
         "legendgroup": "wide_variable_181",
         "marker": {
          "color": "#EF553B",
          "pattern": {
           "shape": ""
          }
         },
         "name": "wide_variable_181",
         "nbinsx": 61,
         "offsetgroup": "wide_variable_181",
         "orientation": "v",
         "showlegend": true,
         "type": "histogram",
         "x": [
          20738
         ],
         "xaxis": "x",
         "yaxis": "y"
        },
        {
         "alignmentgroup": "True",
         "bingroup": "x",
         "hovertemplate": "variable=wide_variable_182<br>value=%{x}<br>count=%{y}<extra></extra>",
         "legendgroup": "wide_variable_182",
         "marker": {
          "color": "#00cc96",
          "pattern": {
           "shape": ""
          }
         },
         "name": "wide_variable_182",
         "nbinsx": 61,
         "offsetgroup": "wide_variable_182",
         "orientation": "v",
         "showlegend": true,
         "type": "histogram",
         "x": [
          20726
         ],
         "xaxis": "x",
         "yaxis": "y"
        },
        {
         "alignmentgroup": "True",
         "bingroup": "x",
         "hovertemplate": "variable=wide_variable_183<br>value=%{x}<br>count=%{y}<extra></extra>",
         "legendgroup": "wide_variable_183",
         "marker": {
          "color": "#ab63fa",
          "pattern": {
           "shape": ""
          }
         },
         "name": "wide_variable_183",
         "nbinsx": 61,
         "offsetgroup": "wide_variable_183",
         "orientation": "v",
         "showlegend": true,
         "type": "histogram",
         "x": [
          20945
         ],
         "xaxis": "x",
         "yaxis": "y"
        },
        {
         "alignmentgroup": "True",
         "bingroup": "x",
         "hovertemplate": "variable=wide_variable_184<br>value=%{x}<br>count=%{y}<extra></extra>",
         "legendgroup": "wide_variable_184",
         "marker": {
          "color": "#FFA15A",
          "pattern": {
           "shape": ""
          }
         },
         "name": "wide_variable_184",
         "nbinsx": 61,
         "offsetgroup": "wide_variable_184",
         "orientation": "v",
         "showlegend": true,
         "type": "histogram",
         "x": [
          20920
         ],
         "xaxis": "x",
         "yaxis": "y"
        },
        {
         "alignmentgroup": "True",
         "bingroup": "x",
         "hovertemplate": "variable=wide_variable_185<br>value=%{x}<br>count=%{y}<extra></extra>",
         "legendgroup": "wide_variable_185",
         "marker": {
          "color": "#19d3f3",
          "pattern": {
           "shape": ""
          }
         },
         "name": "wide_variable_185",
         "nbinsx": 61,
         "offsetgroup": "wide_variable_185",
         "orientation": "v",
         "showlegend": true,
         "type": "histogram",
         "x": [
          20884
         ],
         "xaxis": "x",
         "yaxis": "y"
        },
        {
         "alignmentgroup": "True",
         "bingroup": "x",
         "hovertemplate": "variable=wide_variable_186<br>value=%{x}<br>count=%{y}<extra></extra>",
         "legendgroup": "wide_variable_186",
         "marker": {
          "color": "#FF6692",
          "pattern": {
           "shape": ""
          }
         },
         "name": "wide_variable_186",
         "nbinsx": 61,
         "offsetgroup": "wide_variable_186",
         "orientation": "v",
         "showlegend": true,
         "type": "histogram",
         "x": [
          20921
         ],
         "xaxis": "x",
         "yaxis": "y"
        },
        {
         "alignmentgroup": "True",
         "bingroup": "x",
         "hovertemplate": "variable=wide_variable_187<br>value=%{x}<br>count=%{y}<extra></extra>",
         "legendgroup": "wide_variable_187",
         "marker": {
          "color": "#B6E880",
          "pattern": {
           "shape": ""
          }
         },
         "name": "wide_variable_187",
         "nbinsx": 61,
         "offsetgroup": "wide_variable_187",
         "orientation": "v",
         "showlegend": true,
         "type": "histogram",
         "x": [
          20812
         ],
         "xaxis": "x",
         "yaxis": "y"
        },
        {
         "alignmentgroup": "True",
         "bingroup": "x",
         "hovertemplate": "variable=wide_variable_188<br>value=%{x}<br>count=%{y}<extra></extra>",
         "legendgroup": "wide_variable_188",
         "marker": {
          "color": "#FF97FF",
          "pattern": {
           "shape": ""
          }
         },
         "name": "wide_variable_188",
         "nbinsx": 61,
         "offsetgroup": "wide_variable_188",
         "orientation": "v",
         "showlegend": true,
         "type": "histogram",
         "x": [
          20864
         ],
         "xaxis": "x",
         "yaxis": "y"
        },
        {
         "alignmentgroup": "True",
         "bingroup": "x",
         "hovertemplate": "variable=wide_variable_189<br>value=%{x}<br>count=%{y}<extra></extra>",
         "legendgroup": "wide_variable_189",
         "marker": {
          "color": "#FECB52",
          "pattern": {
           "shape": ""
          }
         },
         "name": "wide_variable_189",
         "nbinsx": 61,
         "offsetgroup": "wide_variable_189",
         "orientation": "v",
         "showlegend": true,
         "type": "histogram",
         "x": [
          21004
         ],
         "xaxis": "x",
         "yaxis": "y"
        },
        {
         "alignmentgroup": "True",
         "bingroup": "x",
         "hovertemplate": "variable=wide_variable_190<br>value=%{x}<br>count=%{y}<extra></extra>",
         "legendgroup": "wide_variable_190",
         "marker": {
          "color": "#636efa",
          "pattern": {
           "shape": ""
          }
         },
         "name": "wide_variable_190",
         "nbinsx": 61,
         "offsetgroup": "wide_variable_190",
         "orientation": "v",
         "showlegend": true,
         "type": "histogram",
         "x": [
          21010
         ],
         "xaxis": "x",
         "yaxis": "y"
        },
        {
         "alignmentgroup": "True",
         "bingroup": "x",
         "hovertemplate": "variable=wide_variable_191<br>value=%{x}<br>count=%{y}<extra></extra>",
         "legendgroup": "wide_variable_191",
         "marker": {
          "color": "#EF553B",
          "pattern": {
           "shape": ""
          }
         },
         "name": "wide_variable_191",
         "nbinsx": 61,
         "offsetgroup": "wide_variable_191",
         "orientation": "v",
         "showlegend": true,
         "type": "histogram",
         "x": [
          20106
         ],
         "xaxis": "x",
         "yaxis": "y"
        },
        {
         "alignmentgroup": "True",
         "bingroup": "x",
         "hovertemplate": "variable=wide_variable_192<br>value=%{x}<br>count=%{y}<extra></extra>",
         "legendgroup": "wide_variable_192",
         "marker": {
          "color": "#00cc96",
          "pattern": {
           "shape": ""
          }
         },
         "name": "wide_variable_192",
         "nbinsx": 61,
         "offsetgroup": "wide_variable_192",
         "orientation": "v",
         "showlegend": true,
         "type": "histogram",
         "x": [
          20979
         ],
         "xaxis": "x",
         "yaxis": "y"
        },
        {
         "alignmentgroup": "True",
         "bingroup": "x",
         "hovertemplate": "variable=wide_variable_193<br>value=%{x}<br>count=%{y}<extra></extra>",
         "legendgroup": "wide_variable_193",
         "marker": {
          "color": "#ab63fa",
          "pattern": {
           "shape": ""
          }
         },
         "name": "wide_variable_193",
         "nbinsx": 61,
         "offsetgroup": "wide_variable_193",
         "orientation": "v",
         "showlegend": true,
         "type": "histogram",
         "x": [
          20845
         ],
         "xaxis": "x",
         "yaxis": "y"
        },
        {
         "alignmentgroup": "True",
         "bingroup": "x",
         "hovertemplate": "variable=wide_variable_194<br>value=%{x}<br>count=%{y}<extra></extra>",
         "legendgroup": "wide_variable_194",
         "marker": {
          "color": "#FFA15A",
          "pattern": {
           "shape": ""
          }
         },
         "name": "wide_variable_194",
         "nbinsx": 61,
         "offsetgroup": "wide_variable_194",
         "orientation": "v",
         "showlegend": true,
         "type": "histogram",
         "x": [
          20106
         ],
         "xaxis": "x",
         "yaxis": "y"
        },
        {
         "alignmentgroup": "True",
         "bingroup": "x",
         "hovertemplate": "variable=wide_variable_195<br>value=%{x}<br>count=%{y}<extra></extra>",
         "legendgroup": "wide_variable_195",
         "marker": {
          "color": "#19d3f3",
          "pattern": {
           "shape": ""
          }
         },
         "name": "wide_variable_195",
         "nbinsx": 61,
         "offsetgroup": "wide_variable_195",
         "orientation": "v",
         "showlegend": true,
         "type": "histogram",
         "x": [
          20106
         ],
         "xaxis": "x",
         "yaxis": "y"
        },
        {
         "alignmentgroup": "True",
         "bingroup": "x",
         "hovertemplate": "variable=wide_variable_196<br>value=%{x}<br>count=%{y}<extra></extra>",
         "legendgroup": "wide_variable_196",
         "marker": {
          "color": "#FF6692",
          "pattern": {
           "shape": ""
          }
         },
         "name": "wide_variable_196",
         "nbinsx": 61,
         "offsetgroup": "wide_variable_196",
         "orientation": "v",
         "showlegend": true,
         "type": "histogram",
         "x": [
          20882
         ],
         "xaxis": "x",
         "yaxis": "y"
        },
        {
         "alignmentgroup": "True",
         "bingroup": "x",
         "hovertemplate": "variable=wide_variable_197<br>value=%{x}<br>count=%{y}<extra></extra>",
         "legendgroup": "wide_variable_197",
         "marker": {
          "color": "#B6E880",
          "pattern": {
           "shape": ""
          }
         },
         "name": "wide_variable_197",
         "nbinsx": 61,
         "offsetgroup": "wide_variable_197",
         "orientation": "v",
         "showlegend": true,
         "type": "histogram",
         "x": [
          20983
         ],
         "xaxis": "x",
         "yaxis": "y"
        },
        {
         "alignmentgroup": "True",
         "bingroup": "x",
         "hovertemplate": "variable=wide_variable_198<br>value=%{x}<br>count=%{y}<extra></extra>",
         "legendgroup": "wide_variable_198",
         "marker": {
          "color": "#FF97FF",
          "pattern": {
           "shape": ""
          }
         },
         "name": "wide_variable_198",
         "nbinsx": 61,
         "offsetgroup": "wide_variable_198",
         "orientation": "v",
         "showlegend": true,
         "type": "histogram",
         "x": [
          20911
         ],
         "xaxis": "x",
         "yaxis": "y"
        },
        {
         "alignmentgroup": "True",
         "bingroup": "x",
         "hovertemplate": "variable=wide_variable_199<br>value=%{x}<br>count=%{y}<extra></extra>",
         "legendgroup": "wide_variable_199",
         "marker": {
          "color": "#FECB52",
          "pattern": {
           "shape": ""
          }
         },
         "name": "wide_variable_199",
         "nbinsx": 61,
         "offsetgroup": "wide_variable_199",
         "orientation": "v",
         "showlegend": true,
         "type": "histogram",
         "x": [
          20983
         ],
         "xaxis": "x",
         "yaxis": "y"
        },
        {
         "alignmentgroup": "True",
         "bingroup": "x",
         "hovertemplate": "variable=wide_variable_200<br>value=%{x}<br>count=%{y}<extra></extra>",
         "legendgroup": "wide_variable_200",
         "marker": {
          "color": "#636efa",
          "pattern": {
           "shape": ""
          }
         },
         "name": "wide_variable_200",
         "nbinsx": 61,
         "offsetgroup": "wide_variable_200",
         "orientation": "v",
         "showlegend": true,
         "type": "histogram",
         "x": [
          20882
         ],
         "xaxis": "x",
         "yaxis": "y"
        },
        {
         "alignmentgroup": "True",
         "bingroup": "x",
         "hovertemplate": "variable=wide_variable_201<br>value=%{x}<br>count=%{y}<extra></extra>",
         "legendgroup": "wide_variable_201",
         "marker": {
          "color": "#EF553B",
          "pattern": {
           "shape": ""
          }
         },
         "name": "wide_variable_201",
         "nbinsx": 61,
         "offsetgroup": "wide_variable_201",
         "orientation": "v",
         "showlegend": true,
         "type": "histogram",
         "x": [
          20977
         ],
         "xaxis": "x",
         "yaxis": "y"
        },
        {
         "alignmentgroup": "True",
         "bingroup": "x",
         "hovertemplate": "variable=wide_variable_202<br>value=%{x}<br>count=%{y}<extra></extra>",
         "legendgroup": "wide_variable_202",
         "marker": {
          "color": "#00cc96",
          "pattern": {
           "shape": ""
          }
         },
         "name": "wide_variable_202",
         "nbinsx": 61,
         "offsetgroup": "wide_variable_202",
         "orientation": "v",
         "showlegend": true,
         "type": "histogram",
         "x": [
          20891
         ],
         "xaxis": "x",
         "yaxis": "y"
        },
        {
         "alignmentgroup": "True",
         "bingroup": "x",
         "hovertemplate": "variable=wide_variable_203<br>value=%{x}<br>count=%{y}<extra></extra>",
         "legendgroup": "wide_variable_203",
         "marker": {
          "color": "#ab63fa",
          "pattern": {
           "shape": ""
          }
         },
         "name": "wide_variable_203",
         "nbinsx": 61,
         "offsetgroup": "wide_variable_203",
         "orientation": "v",
         "showlegend": true,
         "type": "histogram",
         "x": [
          20937
         ],
         "xaxis": "x",
         "yaxis": "y"
        },
        {
         "alignmentgroup": "True",
         "bingroup": "x",
         "hovertemplate": "variable=wide_variable_204<br>value=%{x}<br>count=%{y}<extra></extra>",
         "legendgroup": "wide_variable_204",
         "marker": {
          "color": "#FFA15A",
          "pattern": {
           "shape": ""
          }
         },
         "name": "wide_variable_204",
         "nbinsx": 61,
         "offsetgroup": "wide_variable_204",
         "orientation": "v",
         "showlegend": true,
         "type": "histogram",
         "x": [
          20628
         ],
         "xaxis": "x",
         "yaxis": "y"
        },
        {
         "alignmentgroup": "True",
         "bingroup": "x",
         "hovertemplate": "variable=wide_variable_205<br>value=%{x}<br>count=%{y}<extra></extra>",
         "legendgroup": "wide_variable_205",
         "marker": {
          "color": "#19d3f3",
          "pattern": {
           "shape": ""
          }
         },
         "name": "wide_variable_205",
         "nbinsx": 61,
         "offsetgroup": "wide_variable_205",
         "orientation": "v",
         "showlegend": true,
         "type": "histogram",
         "x": [
          20933
         ],
         "xaxis": "x",
         "yaxis": "y"
        },
        {
         "alignmentgroup": "True",
         "bingroup": "x",
         "hovertemplate": "variable=wide_variable_206<br>value=%{x}<br>count=%{y}<extra></extra>",
         "legendgroup": "wide_variable_206",
         "marker": {
          "color": "#FF6692",
          "pattern": {
           "shape": ""
          }
         },
         "name": "wide_variable_206",
         "nbinsx": 61,
         "offsetgroup": "wide_variable_206",
         "orientation": "v",
         "showlegend": true,
         "type": "histogram",
         "x": [
          20891
         ],
         "xaxis": "x",
         "yaxis": "y"
        },
        {
         "alignmentgroup": "True",
         "bingroup": "x",
         "hovertemplate": "variable=wide_variable_207<br>value=%{x}<br>count=%{y}<extra></extra>",
         "legendgroup": "wide_variable_207",
         "marker": {
          "color": "#B6E880",
          "pattern": {
           "shape": ""
          }
         },
         "name": "wide_variable_207",
         "nbinsx": 61,
         "offsetgroup": "wide_variable_207",
         "orientation": "v",
         "showlegend": true,
         "type": "histogram",
         "x": [
          20994
         ],
         "xaxis": "x",
         "yaxis": "y"
        },
        {
         "alignmentgroup": "True",
         "bingroup": "x",
         "hovertemplate": "variable=wide_variable_208<br>value=%{x}<br>count=%{y}<extra></extra>",
         "legendgroup": "wide_variable_208",
         "marker": {
          "color": "#FF97FF",
          "pattern": {
           "shape": ""
          }
         },
         "name": "wide_variable_208",
         "nbinsx": 61,
         "offsetgroup": "wide_variable_208",
         "orientation": "v",
         "showlegend": true,
         "type": "histogram",
         "x": [
          20986
         ],
         "xaxis": "x",
         "yaxis": "y"
        },
        {
         "alignmentgroup": "True",
         "bingroup": "x",
         "hovertemplate": "variable=wide_variable_209<br>value=%{x}<br>count=%{y}<extra></extra>",
         "legendgroup": "wide_variable_209",
         "marker": {
          "color": "#FECB52",
          "pattern": {
           "shape": ""
          }
         },
         "name": "wide_variable_209",
         "nbinsx": 61,
         "offsetgroup": "wide_variable_209",
         "orientation": "v",
         "showlegend": true,
         "type": "histogram",
         "x": [
          20954
         ],
         "xaxis": "x",
         "yaxis": "y"
        },
        {
         "alignmentgroup": "True",
         "bingroup": "x",
         "hovertemplate": "variable=wide_variable_210<br>value=%{x}<br>count=%{y}<extra></extra>",
         "legendgroup": "wide_variable_210",
         "marker": {
          "color": "#636efa",
          "pattern": {
           "shape": ""
          }
         },
         "name": "wide_variable_210",
         "nbinsx": 61,
         "offsetgroup": "wide_variable_210",
         "orientation": "v",
         "showlegend": true,
         "type": "histogram",
         "x": [
          20612
         ],
         "xaxis": "x",
         "yaxis": "y"
        },
        {
         "alignmentgroup": "True",
         "bingroup": "x",
         "hovertemplate": "variable=wide_variable_211<br>value=%{x}<br>count=%{y}<extra></extra>",
         "legendgroup": "wide_variable_211",
         "marker": {
          "color": "#EF553B",
          "pattern": {
           "shape": ""
          }
         },
         "name": "wide_variable_211",
         "nbinsx": 61,
         "offsetgroup": "wide_variable_211",
         "orientation": "v",
         "showlegend": true,
         "type": "histogram",
         "x": [
          20952
         ],
         "xaxis": "x",
         "yaxis": "y"
        },
        {
         "alignmentgroup": "True",
         "bingroup": "x",
         "hovertemplate": "variable=wide_variable_212<br>value=%{x}<br>count=%{y}<extra></extra>",
         "legendgroup": "wide_variable_212",
         "marker": {
          "color": "#00cc96",
          "pattern": {
           "shape": ""
          }
         },
         "name": "wide_variable_212",
         "nbinsx": 61,
         "offsetgroup": "wide_variable_212",
         "orientation": "v",
         "showlegend": true,
         "type": "histogram",
         "x": [
          20948
         ],
         "xaxis": "x",
         "yaxis": "y"
        },
        {
         "alignmentgroup": "True",
         "bingroup": "x",
         "hovertemplate": "variable=wide_variable_213<br>value=%{x}<br>count=%{y}<extra></extra>",
         "legendgroup": "wide_variable_213",
         "marker": {
          "color": "#ab63fa",
          "pattern": {
           "shape": ""
          }
         },
         "name": "wide_variable_213",
         "nbinsx": 61,
         "offsetgroup": "wide_variable_213",
         "orientation": "v",
         "showlegend": true,
         "type": "histogram",
         "x": [
          20948
         ],
         "xaxis": "x",
         "yaxis": "y"
        },
        {
         "alignmentgroup": "True",
         "bingroup": "x",
         "hovertemplate": "variable=wide_variable_214<br>value=%{x}<br>count=%{y}<extra></extra>",
         "legendgroup": "wide_variable_214",
         "marker": {
          "color": "#FFA15A",
          "pattern": {
           "shape": ""
          }
         },
         "name": "wide_variable_214",
         "nbinsx": 61,
         "offsetgroup": "wide_variable_214",
         "orientation": "v",
         "showlegend": true,
         "type": "histogram",
         "x": [
          20713
         ],
         "xaxis": "x",
         "yaxis": "y"
        },
        {
         "alignmentgroup": "True",
         "bingroup": "x",
         "hovertemplate": "variable=wide_variable_215<br>value=%{x}<br>count=%{y}<extra></extra>",
         "legendgroup": "wide_variable_215",
         "marker": {
          "color": "#19d3f3",
          "pattern": {
           "shape": ""
          }
         },
         "name": "wide_variable_215",
         "nbinsx": 61,
         "offsetgroup": "wide_variable_215",
         "orientation": "v",
         "showlegend": true,
         "type": "histogram",
         "x": [
          21009
         ],
         "xaxis": "x",
         "yaxis": "y"
        },
        {
         "alignmentgroup": "True",
         "bingroup": "x",
         "hovertemplate": "variable=wide_variable_216<br>value=%{x}<br>count=%{y}<extra></extra>",
         "legendgroup": "wide_variable_216",
         "marker": {
          "color": "#FF6692",
          "pattern": {
           "shape": ""
          }
         },
         "name": "wide_variable_216",
         "nbinsx": 61,
         "offsetgroup": "wide_variable_216",
         "orientation": "v",
         "showlegend": true,
         "type": "histogram",
         "x": [
          20911
         ],
         "xaxis": "x",
         "yaxis": "y"
        },
        {
         "alignmentgroup": "True",
         "bingroup": "x",
         "hovertemplate": "variable=wide_variable_217<br>value=%{x}<br>count=%{y}<extra></extra>",
         "legendgroup": "wide_variable_217",
         "marker": {
          "color": "#B6E880",
          "pattern": {
           "shape": ""
          }
         },
         "name": "wide_variable_217",
         "nbinsx": 61,
         "offsetgroup": "wide_variable_217",
         "orientation": "v",
         "showlegend": true,
         "type": "histogram",
         "x": [
          20640
         ],
         "xaxis": "x",
         "yaxis": "y"
        },
        {
         "alignmentgroup": "True",
         "bingroup": "x",
         "hovertemplate": "variable=wide_variable_218<br>value=%{x}<br>count=%{y}<extra></extra>",
         "legendgroup": "wide_variable_218",
         "marker": {
          "color": "#FF97FF",
          "pattern": {
           "shape": ""
          }
         },
         "name": "wide_variable_218",
         "nbinsx": 61,
         "offsetgroup": "wide_variable_218",
         "orientation": "v",
         "showlegend": true,
         "type": "histogram",
         "x": [
          20947
         ],
         "xaxis": "x",
         "yaxis": "y"
        },
        {
         "alignmentgroup": "True",
         "bingroup": "x",
         "hovertemplate": "variable=wide_variable_219<br>value=%{x}<br>count=%{y}<extra></extra>",
         "legendgroup": "wide_variable_219",
         "marker": {
          "color": "#FECB52",
          "pattern": {
           "shape": ""
          }
         },
         "name": "wide_variable_219",
         "nbinsx": 61,
         "offsetgroup": "wide_variable_219",
         "orientation": "v",
         "showlegend": true,
         "type": "histogram",
         "x": [
          20947
         ],
         "xaxis": "x",
         "yaxis": "y"
        },
        {
         "alignmentgroup": "True",
         "bingroup": "x",
         "hovertemplate": "variable=wide_variable_220<br>value=%{x}<br>count=%{y}<extra></extra>",
         "legendgroup": "wide_variable_220",
         "marker": {
          "color": "#636efa",
          "pattern": {
           "shape": ""
          }
         },
         "name": "wide_variable_220",
         "nbinsx": 61,
         "offsetgroup": "wide_variable_220",
         "orientation": "v",
         "showlegend": true,
         "type": "histogram",
         "x": [
          20765
         ],
         "xaxis": "x",
         "yaxis": "y"
        },
        {
         "alignmentgroup": "True",
         "bingroup": "x",
         "hovertemplate": "variable=wide_variable_221<br>value=%{x}<br>count=%{y}<extra></extra>",
         "legendgroup": "wide_variable_221",
         "marker": {
          "color": "#EF553B",
          "pattern": {
           "shape": ""
          }
         },
         "name": "wide_variable_221",
         "nbinsx": 61,
         "offsetgroup": "wide_variable_221",
         "orientation": "v",
         "showlegend": true,
         "type": "histogram",
         "x": [
          20983
         ],
         "xaxis": "x",
         "yaxis": "y"
        },
        {
         "alignmentgroup": "True",
         "bingroup": "x",
         "hovertemplate": "variable=wide_variable_222<br>value=%{x}<br>count=%{y}<extra></extra>",
         "legendgroup": "wide_variable_222",
         "marker": {
          "color": "#00cc96",
          "pattern": {
           "shape": ""
          }
         },
         "name": "wide_variable_222",
         "nbinsx": 61,
         "offsetgroup": "wide_variable_222",
         "orientation": "v",
         "showlegend": true,
         "type": "histogram",
         "x": [
          20920
         ],
         "xaxis": "x",
         "yaxis": "y"
        },
        {
         "alignmentgroup": "True",
         "bingroup": "x",
         "hovertemplate": "variable=wide_variable_223<br>value=%{x}<br>count=%{y}<extra></extra>",
         "legendgroup": "wide_variable_223",
         "marker": {
          "color": "#ab63fa",
          "pattern": {
           "shape": ""
          }
         },
         "name": "wide_variable_223",
         "nbinsx": 61,
         "offsetgroup": "wide_variable_223",
         "orientation": "v",
         "showlegend": true,
         "type": "histogram",
         "x": [
          20882
         ],
         "xaxis": "x",
         "yaxis": "y"
        }
       ],
       "layout": {
        "bargap": 0.2,
        "barmode": "relative",
        "legend": {
         "title": {
          "text": "variable"
         },
         "tracegroupgap": 0
        },
        "margin": {
         "t": 60
        },
        "template": {
         "data": {
          "bar": [
           {
            "error_x": {
             "color": "#2a3f5f"
            },
            "error_y": {
             "color": "#2a3f5f"
            },
            "marker": {
             "line": {
              "color": "#E5ECF6",
              "width": 0.5
             },
             "pattern": {
              "fillmode": "overlay",
              "size": 10,
              "solidity": 0.2
             }
            },
            "type": "bar"
           }
          ],
          "barpolar": [
           {
            "marker": {
             "line": {
              "color": "#E5ECF6",
              "width": 0.5
             },
             "pattern": {
              "fillmode": "overlay",
              "size": 10,
              "solidity": 0.2
             }
            },
            "type": "barpolar"
           }
          ],
          "carpet": [
           {
            "aaxis": {
             "endlinecolor": "#2a3f5f",
             "gridcolor": "white",
             "linecolor": "white",
             "minorgridcolor": "white",
             "startlinecolor": "#2a3f5f"
            },
            "baxis": {
             "endlinecolor": "#2a3f5f",
             "gridcolor": "white",
             "linecolor": "white",
             "minorgridcolor": "white",
             "startlinecolor": "#2a3f5f"
            },
            "type": "carpet"
           }
          ],
          "choropleth": [
           {
            "colorbar": {
             "outlinewidth": 0,
             "ticks": ""
            },
            "type": "choropleth"
           }
          ],
          "contour": [
           {
            "colorbar": {
             "outlinewidth": 0,
             "ticks": ""
            },
            "colorscale": [
             [
              0,
              "#0d0887"
             ],
             [
              0.1111111111111111,
              "#46039f"
             ],
             [
              0.2222222222222222,
              "#7201a8"
             ],
             [
              0.3333333333333333,
              "#9c179e"
             ],
             [
              0.4444444444444444,
              "#bd3786"
             ],
             [
              0.5555555555555556,
              "#d8576b"
             ],
             [
              0.6666666666666666,
              "#ed7953"
             ],
             [
              0.7777777777777778,
              "#fb9f3a"
             ],
             [
              0.8888888888888888,
              "#fdca26"
             ],
             [
              1,
              "#f0f921"
             ]
            ],
            "type": "contour"
           }
          ],
          "contourcarpet": [
           {
            "colorbar": {
             "outlinewidth": 0,
             "ticks": ""
            },
            "type": "contourcarpet"
           }
          ],
          "heatmap": [
           {
            "colorbar": {
             "outlinewidth": 0,
             "ticks": ""
            },
            "colorscale": [
             [
              0,
              "#0d0887"
             ],
             [
              0.1111111111111111,
              "#46039f"
             ],
             [
              0.2222222222222222,
              "#7201a8"
             ],
             [
              0.3333333333333333,
              "#9c179e"
             ],
             [
              0.4444444444444444,
              "#bd3786"
             ],
             [
              0.5555555555555556,
              "#d8576b"
             ],
             [
              0.6666666666666666,
              "#ed7953"
             ],
             [
              0.7777777777777778,
              "#fb9f3a"
             ],
             [
              0.8888888888888888,
              "#fdca26"
             ],
             [
              1,
              "#f0f921"
             ]
            ],
            "type": "heatmap"
           }
          ],
          "heatmapgl": [
           {
            "colorbar": {
             "outlinewidth": 0,
             "ticks": ""
            },
            "colorscale": [
             [
              0,
              "#0d0887"
             ],
             [
              0.1111111111111111,
              "#46039f"
             ],
             [
              0.2222222222222222,
              "#7201a8"
             ],
             [
              0.3333333333333333,
              "#9c179e"
             ],
             [
              0.4444444444444444,
              "#bd3786"
             ],
             [
              0.5555555555555556,
              "#d8576b"
             ],
             [
              0.6666666666666666,
              "#ed7953"
             ],
             [
              0.7777777777777778,
              "#fb9f3a"
             ],
             [
              0.8888888888888888,
              "#fdca26"
             ],
             [
              1,
              "#f0f921"
             ]
            ],
            "type": "heatmapgl"
           }
          ],
          "histogram": [
           {
            "marker": {
             "pattern": {
              "fillmode": "overlay",
              "size": 10,
              "solidity": 0.2
             }
            },
            "type": "histogram"
           }
          ],
          "histogram2d": [
           {
            "colorbar": {
             "outlinewidth": 0,
             "ticks": ""
            },
            "colorscale": [
             [
              0,
              "#0d0887"
             ],
             [
              0.1111111111111111,
              "#46039f"
             ],
             [
              0.2222222222222222,
              "#7201a8"
             ],
             [
              0.3333333333333333,
              "#9c179e"
             ],
             [
              0.4444444444444444,
              "#bd3786"
             ],
             [
              0.5555555555555556,
              "#d8576b"
             ],
             [
              0.6666666666666666,
              "#ed7953"
             ],
             [
              0.7777777777777778,
              "#fb9f3a"
             ],
             [
              0.8888888888888888,
              "#fdca26"
             ],
             [
              1,
              "#f0f921"
             ]
            ],
            "type": "histogram2d"
           }
          ],
          "histogram2dcontour": [
           {
            "colorbar": {
             "outlinewidth": 0,
             "ticks": ""
            },
            "colorscale": [
             [
              0,
              "#0d0887"
             ],
             [
              0.1111111111111111,
              "#46039f"
             ],
             [
              0.2222222222222222,
              "#7201a8"
             ],
             [
              0.3333333333333333,
              "#9c179e"
             ],
             [
              0.4444444444444444,
              "#bd3786"
             ],
             [
              0.5555555555555556,
              "#d8576b"
             ],
             [
              0.6666666666666666,
              "#ed7953"
             ],
             [
              0.7777777777777778,
              "#fb9f3a"
             ],
             [
              0.8888888888888888,
              "#fdca26"
             ],
             [
              1,
              "#f0f921"
             ]
            ],
            "type": "histogram2dcontour"
           }
          ],
          "mesh3d": [
           {
            "colorbar": {
             "outlinewidth": 0,
             "ticks": ""
            },
            "type": "mesh3d"
           }
          ],
          "parcoords": [
           {
            "line": {
             "colorbar": {
              "outlinewidth": 0,
              "ticks": ""
             }
            },
            "type": "parcoords"
           }
          ],
          "pie": [
           {
            "automargin": true,
            "type": "pie"
           }
          ],
          "scatter": [
           {
            "fillpattern": {
             "fillmode": "overlay",
             "size": 10,
             "solidity": 0.2
            },
            "type": "scatter"
           }
          ],
          "scatter3d": [
           {
            "line": {
             "colorbar": {
              "outlinewidth": 0,
              "ticks": ""
             }
            },
            "marker": {
             "colorbar": {
              "outlinewidth": 0,
              "ticks": ""
             }
            },
            "type": "scatter3d"
           }
          ],
          "scattercarpet": [
           {
            "marker": {
             "colorbar": {
              "outlinewidth": 0,
              "ticks": ""
             }
            },
            "type": "scattercarpet"
           }
          ],
          "scattergeo": [
           {
            "marker": {
             "colorbar": {
              "outlinewidth": 0,
              "ticks": ""
             }
            },
            "type": "scattergeo"
           }
          ],
          "scattergl": [
           {
            "marker": {
             "colorbar": {
              "outlinewidth": 0,
              "ticks": ""
             }
            },
            "type": "scattergl"
           }
          ],
          "scattermapbox": [
           {
            "marker": {
             "colorbar": {
              "outlinewidth": 0,
              "ticks": ""
             }
            },
            "type": "scattermapbox"
           }
          ],
          "scatterpolar": [
           {
            "marker": {
             "colorbar": {
              "outlinewidth": 0,
              "ticks": ""
             }
            },
            "type": "scatterpolar"
           }
          ],
          "scatterpolargl": [
           {
            "marker": {
             "colorbar": {
              "outlinewidth": 0,
              "ticks": ""
             }
            },
            "type": "scatterpolargl"
           }
          ],
          "scatterternary": [
           {
            "marker": {
             "colorbar": {
              "outlinewidth": 0,
              "ticks": ""
             }
            },
            "type": "scatterternary"
           }
          ],
          "surface": [
           {
            "colorbar": {
             "outlinewidth": 0,
             "ticks": ""
            },
            "colorscale": [
             [
              0,
              "#0d0887"
             ],
             [
              0.1111111111111111,
              "#46039f"
             ],
             [
              0.2222222222222222,
              "#7201a8"
             ],
             [
              0.3333333333333333,
              "#9c179e"
             ],
             [
              0.4444444444444444,
              "#bd3786"
             ],
             [
              0.5555555555555556,
              "#d8576b"
             ],
             [
              0.6666666666666666,
              "#ed7953"
             ],
             [
              0.7777777777777778,
              "#fb9f3a"
             ],
             [
              0.8888888888888888,
              "#fdca26"
             ],
             [
              1,
              "#f0f921"
             ]
            ],
            "type": "surface"
           }
          ],
          "table": [
           {
            "cells": {
             "fill": {
              "color": "#EBF0F8"
             },
             "line": {
              "color": "white"
             }
            },
            "header": {
             "fill": {
              "color": "#C8D4E3"
             },
             "line": {
              "color": "white"
             }
            },
            "type": "table"
           }
          ]
         },
         "layout": {
          "annotationdefaults": {
           "arrowcolor": "#2a3f5f",
           "arrowhead": 0,
           "arrowwidth": 1
          },
          "autotypenumbers": "strict",
          "coloraxis": {
           "colorbar": {
            "outlinewidth": 0,
            "ticks": ""
           }
          },
          "colorscale": {
           "diverging": [
            [
             0,
             "#8e0152"
            ],
            [
             0.1,
             "#c51b7d"
            ],
            [
             0.2,
             "#de77ae"
            ],
            [
             0.3,
             "#f1b6da"
            ],
            [
             0.4,
             "#fde0ef"
            ],
            [
             0.5,
             "#f7f7f7"
            ],
            [
             0.6,
             "#e6f5d0"
            ],
            [
             0.7,
             "#b8e186"
            ],
            [
             0.8,
             "#7fbc41"
            ],
            [
             0.9,
             "#4d9221"
            ],
            [
             1,
             "#276419"
            ]
           ],
           "sequential": [
            [
             0,
             "#0d0887"
            ],
            [
             0.1111111111111111,
             "#46039f"
            ],
            [
             0.2222222222222222,
             "#7201a8"
            ],
            [
             0.3333333333333333,
             "#9c179e"
            ],
            [
             0.4444444444444444,
             "#bd3786"
            ],
            [
             0.5555555555555556,
             "#d8576b"
            ],
            [
             0.6666666666666666,
             "#ed7953"
            ],
            [
             0.7777777777777778,
             "#fb9f3a"
            ],
            [
             0.8888888888888888,
             "#fdca26"
            ],
            [
             1,
             "#f0f921"
            ]
           ],
           "sequentialminus": [
            [
             0,
             "#0d0887"
            ],
            [
             0.1111111111111111,
             "#46039f"
            ],
            [
             0.2222222222222222,
             "#7201a8"
            ],
            [
             0.3333333333333333,
             "#9c179e"
            ],
            [
             0.4444444444444444,
             "#bd3786"
            ],
            [
             0.5555555555555556,
             "#d8576b"
            ],
            [
             0.6666666666666666,
             "#ed7953"
            ],
            [
             0.7777777777777778,
             "#fb9f3a"
            ],
            [
             0.8888888888888888,
             "#fdca26"
            ],
            [
             1,
             "#f0f921"
            ]
           ]
          },
          "colorway": [
           "#636efa",
           "#EF553B",
           "#00cc96",
           "#ab63fa",
           "#FFA15A",
           "#19d3f3",
           "#FF6692",
           "#B6E880",
           "#FF97FF",
           "#FECB52"
          ],
          "font": {
           "color": "#2a3f5f"
          },
          "geo": {
           "bgcolor": "white",
           "lakecolor": "white",
           "landcolor": "#E5ECF6",
           "showlakes": true,
           "showland": true,
           "subunitcolor": "white"
          },
          "hoverlabel": {
           "align": "left"
          },
          "hovermode": "closest",
          "mapbox": {
           "style": "light"
          },
          "paper_bgcolor": "white",
          "plot_bgcolor": "#E5ECF6",
          "polar": {
           "angularaxis": {
            "gridcolor": "white",
            "linecolor": "white",
            "ticks": ""
           },
           "bgcolor": "#E5ECF6",
           "radialaxis": {
            "gridcolor": "white",
            "linecolor": "white",
            "ticks": ""
           }
          },
          "scene": {
           "xaxis": {
            "backgroundcolor": "#E5ECF6",
            "gridcolor": "white",
            "gridwidth": 2,
            "linecolor": "white",
            "showbackground": true,
            "ticks": "",
            "zerolinecolor": "white"
           },
           "yaxis": {
            "backgroundcolor": "#E5ECF6",
            "gridcolor": "white",
            "gridwidth": 2,
            "linecolor": "white",
            "showbackground": true,
            "ticks": "",
            "zerolinecolor": "white"
           },
           "zaxis": {
            "backgroundcolor": "#E5ECF6",
            "gridcolor": "white",
            "gridwidth": 2,
            "linecolor": "white",
            "showbackground": true,
            "ticks": "",
            "zerolinecolor": "white"
           }
          },
          "shapedefaults": {
           "line": {
            "color": "#2a3f5f"
           }
          },
          "ternary": {
           "aaxis": {
            "gridcolor": "white",
            "linecolor": "white",
            "ticks": ""
           },
           "baxis": {
            "gridcolor": "white",
            "linecolor": "white",
            "ticks": ""
           },
           "bgcolor": "#E5ECF6",
           "caxis": {
            "gridcolor": "white",
            "linecolor": "white",
            "ticks": ""
           }
          },
          "title": {
           "x": 0.05
          },
          "xaxis": {
           "automargin": true,
           "gridcolor": "white",
           "linecolor": "white",
           "ticks": "",
           "title": {
            "standoff": 15
           },
           "zerolinecolor": "white",
           "zerolinewidth": 2
          },
          "yaxis": {
           "automargin": true,
           "gridcolor": "white",
           "linecolor": "white",
           "ticks": "",
           "title": {
            "standoff": 15
           },
           "zerolinecolor": "white",
           "zerolinewidth": 2
          }
         }
        },
        "xaxis": {
         "anchor": "y",
         "domain": [
          0,
          1
         ],
         "title": {
          "text": "value"
         }
        },
        "yaxis": {
         "anchor": "x",
         "domain": [
          0,
          1
         ],
         "title": {
          "text": "count"
         }
        }
       }
      },
      "text/html": [
       "<div>                            <div id=\"080991d8-f57a-43e6-a153-78eac981c51b\" class=\"plotly-graph-div\" style=\"height:525px; width:100%;\"></div>            <script type=\"text/javascript\">                require([\"plotly\"], function(Plotly) {                    window.PLOTLYENV=window.PLOTLYENV || {};                                    if (document.getElementById(\"080991d8-f57a-43e6-a153-78eac981c51b\")) {                    Plotly.newPlot(                        \"080991d8-f57a-43e6-a153-78eac981c51b\",                        [{\"alignmentgroup\":\"True\",\"bingroup\":\"x\",\"hovertemplate\":\"variable=wide_variable_0\\u003cbr\\u003evalue=%{x}\\u003cbr\\u003ecount=%{y}\\u003cextra\\u003e\\u003c\\u002fextra\\u003e\",\"legendgroup\":\"wide_variable_0\",\"marker\":{\"color\":\"#636efa\",\"pattern\":{\"shape\":\"\"}},\"name\":\"wide_variable_0\",\"nbinsx\":61,\"offsetgroup\":\"wide_variable_0\",\"orientation\":\"v\",\"showlegend\":true,\"x\":[20846],\"xaxis\":\"x\",\"yaxis\":\"y\",\"type\":\"histogram\"},{\"alignmentgroup\":\"True\",\"bingroup\":\"x\",\"hovertemplate\":\"variable=wide_variable_1\\u003cbr\\u003evalue=%{x}\\u003cbr\\u003ecount=%{y}\\u003cextra\\u003e\\u003c\\u002fextra\\u003e\",\"legendgroup\":\"wide_variable_1\",\"marker\":{\"color\":\"#EF553B\",\"pattern\":{\"shape\":\"\"}},\"name\":\"wide_variable_1\",\"nbinsx\":61,\"offsetgroup\":\"wide_variable_1\",\"orientation\":\"v\",\"showlegend\":true,\"x\":[20974],\"xaxis\":\"x\",\"yaxis\":\"y\",\"type\":\"histogram\"},{\"alignmentgroup\":\"True\",\"bingroup\":\"x\",\"hovertemplate\":\"variable=wide_variable_2\\u003cbr\\u003evalue=%{x}\\u003cbr\\u003ecount=%{y}\\u003cextra\\u003e\\u003c\\u002fextra\\u003e\",\"legendgroup\":\"wide_variable_2\",\"marker\":{\"color\":\"#00cc96\",\"pattern\":{\"shape\":\"\"}},\"name\":\"wide_variable_2\",\"nbinsx\":61,\"offsetgroup\":\"wide_variable_2\",\"orientation\":\"v\",\"showlegend\":true,\"x\":[20948],\"xaxis\":\"x\",\"yaxis\":\"y\",\"type\":\"histogram\"},{\"alignmentgroup\":\"True\",\"bingroup\":\"x\",\"hovertemplate\":\"variable=wide_variable_3\\u003cbr\\u003evalue=%{x}\\u003cbr\\u003ecount=%{y}\\u003cextra\\u003e\\u003c\\u002fextra\\u003e\",\"legendgroup\":\"wide_variable_3\",\"marker\":{\"color\":\"#ab63fa\",\"pattern\":{\"shape\":\"\"}},\"name\":\"wide_variable_3\",\"nbinsx\":61,\"offsetgroup\":\"wide_variable_3\",\"orientation\":\"v\",\"showlegend\":true,\"x\":[20842],\"xaxis\":\"x\",\"yaxis\":\"y\",\"type\":\"histogram\"},{\"alignmentgroup\":\"True\",\"bingroup\":\"x\",\"hovertemplate\":\"variable=wide_variable_4\\u003cbr\\u003evalue=%{x}\\u003cbr\\u003ecount=%{y}\\u003cextra\\u003e\\u003c\\u002fextra\\u003e\",\"legendgroup\":\"wide_variable_4\",\"marker\":{\"color\":\"#FFA15A\",\"pattern\":{\"shape\":\"\"}},\"name\":\"wide_variable_4\",\"nbinsx\":61,\"offsetgroup\":\"wide_variable_4\",\"orientation\":\"v\",\"showlegend\":true,\"x\":[20897],\"xaxis\":\"x\",\"yaxis\":\"y\",\"type\":\"histogram\"},{\"alignmentgroup\":\"True\",\"bingroup\":\"x\",\"hovertemplate\":\"variable=wide_variable_5\\u003cbr\\u003evalue=%{x}\\u003cbr\\u003ecount=%{y}\\u003cextra\\u003e\\u003c\\u002fextra\\u003e\",\"legendgroup\":\"wide_variable_5\",\"marker\":{\"color\":\"#19d3f3\",\"pattern\":{\"shape\":\"\"}},\"name\":\"wide_variable_5\",\"nbinsx\":61,\"offsetgroup\":\"wide_variable_5\",\"orientation\":\"v\",\"showlegend\":true,\"x\":[20612],\"xaxis\":\"x\",\"yaxis\":\"y\",\"type\":\"histogram\"},{\"alignmentgroup\":\"True\",\"bingroup\":\"x\",\"hovertemplate\":\"variable=wide_variable_6\\u003cbr\\u003evalue=%{x}\\u003cbr\\u003ecount=%{y}\\u003cextra\\u003e\\u003c\\u002fextra\\u003e\",\"legendgroup\":\"wide_variable_6\",\"marker\":{\"color\":\"#FF6692\",\"pattern\":{\"shape\":\"\"}},\"name\":\"wide_variable_6\",\"nbinsx\":61,\"offsetgroup\":\"wide_variable_6\",\"orientation\":\"v\",\"showlegend\":true,\"x\":[20640],\"xaxis\":\"x\",\"yaxis\":\"y\",\"type\":\"histogram\"},{\"alignmentgroup\":\"True\",\"bingroup\":\"x\",\"hovertemplate\":\"variable=wide_variable_7\\u003cbr\\u003evalue=%{x}\\u003cbr\\u003ecount=%{y}\\u003cextra\\u003e\\u003c\\u002fextra\\u003e\",\"legendgroup\":\"wide_variable_7\",\"marker\":{\"color\":\"#B6E880\",\"pattern\":{\"shape\":\"\"}},\"name\":\"wide_variable_7\",\"nbinsx\":61,\"offsetgroup\":\"wide_variable_7\",\"orientation\":\"v\",\"showlegend\":true,\"x\":[20969],\"xaxis\":\"x\",\"yaxis\":\"y\",\"type\":\"histogram\"},{\"alignmentgroup\":\"True\",\"bingroup\":\"x\",\"hovertemplate\":\"variable=wide_variable_8\\u003cbr\\u003evalue=%{x}\\u003cbr\\u003ecount=%{y}\\u003cextra\\u003e\\u003c\\u002fextra\\u003e\",\"legendgroup\":\"wide_variable_8\",\"marker\":{\"color\":\"#FF97FF\",\"pattern\":{\"shape\":\"\"}},\"name\":\"wide_variable_8\",\"nbinsx\":61,\"offsetgroup\":\"wide_variable_8\",\"orientation\":\"v\",\"showlegend\":true,\"x\":[20765],\"xaxis\":\"x\",\"yaxis\":\"y\",\"type\":\"histogram\"},{\"alignmentgroup\":\"True\",\"bingroup\":\"x\",\"hovertemplate\":\"variable=wide_variable_9\\u003cbr\\u003evalue=%{x}\\u003cbr\\u003ecount=%{y}\\u003cextra\\u003e\\u003c\\u002fextra\\u003e\",\"legendgroup\":\"wide_variable_9\",\"marker\":{\"color\":\"#FECB52\",\"pattern\":{\"shape\":\"\"}},\"name\":\"wide_variable_9\",\"nbinsx\":61,\"offsetgroup\":\"wide_variable_9\",\"orientation\":\"v\",\"showlegend\":true,\"x\":[20713],\"xaxis\":\"x\",\"yaxis\":\"y\",\"type\":\"histogram\"},{\"alignmentgroup\":\"True\",\"bingroup\":\"x\",\"hovertemplate\":\"variable=wide_variable_10\\u003cbr\\u003evalue=%{x}\\u003cbr\\u003ecount=%{y}\\u003cextra\\u003e\\u003c\\u002fextra\\u003e\",\"legendgroup\":\"wide_variable_10\",\"marker\":{\"color\":\"#636efa\",\"pattern\":{\"shape\":\"\"}},\"name\":\"wide_variable_10\",\"nbinsx\":61,\"offsetgroup\":\"wide_variable_10\",\"orientation\":\"v\",\"showlegend\":true,\"x\":[20931],\"xaxis\":\"x\",\"yaxis\":\"y\",\"type\":\"histogram\"},{\"alignmentgroup\":\"True\",\"bingroup\":\"x\",\"hovertemplate\":\"variable=wide_variable_11\\u003cbr\\u003evalue=%{x}\\u003cbr\\u003ecount=%{y}\\u003cextra\\u003e\\u003c\\u002fextra\\u003e\",\"legendgroup\":\"wide_variable_11\",\"marker\":{\"color\":\"#EF553B\",\"pattern\":{\"shape\":\"\"}},\"name\":\"wide_variable_11\",\"nbinsx\":61,\"offsetgroup\":\"wide_variable_11\",\"orientation\":\"v\",\"showlegend\":true,\"x\":[20985],\"xaxis\":\"x\",\"yaxis\":\"y\",\"type\":\"histogram\"},{\"alignmentgroup\":\"True\",\"bingroup\":\"x\",\"hovertemplate\":\"variable=wide_variable_12\\u003cbr\\u003evalue=%{x}\\u003cbr\\u003ecount=%{y}\\u003cextra\\u003e\\u003c\\u002fextra\\u003e\",\"legendgroup\":\"wide_variable_12\",\"marker\":{\"color\":\"#00cc96\",\"pattern\":{\"shape\":\"\"}},\"name\":\"wide_variable_12\",\"nbinsx\":61,\"offsetgroup\":\"wide_variable_12\",\"orientation\":\"v\",\"showlegend\":true,\"x\":[20842],\"xaxis\":\"x\",\"yaxis\":\"y\",\"type\":\"histogram\"},{\"alignmentgroup\":\"True\",\"bingroup\":\"x\",\"hovertemplate\":\"variable=wide_variable_13\\u003cbr\\u003evalue=%{x}\\u003cbr\\u003ecount=%{y}\\u003cextra\\u003e\\u003c\\u002fextra\\u003e\",\"legendgroup\":\"wide_variable_13\",\"marker\":{\"color\":\"#ab63fa\",\"pattern\":{\"shape\":\"\"}},\"name\":\"wide_variable_13\",\"nbinsx\":61,\"offsetgroup\":\"wide_variable_13\",\"orientation\":\"v\",\"showlegend\":true,\"x\":[20614],\"xaxis\":\"x\",\"yaxis\":\"y\",\"type\":\"histogram\"},{\"alignmentgroup\":\"True\",\"bingroup\":\"x\",\"hovertemplate\":\"variable=wide_variable_14\\u003cbr\\u003evalue=%{x}\\u003cbr\\u003ecount=%{y}\\u003cextra\\u003e\\u003c\\u002fextra\\u003e\",\"legendgroup\":\"wide_variable_14\",\"marker\":{\"color\":\"#FFA15A\",\"pattern\":{\"shape\":\"\"}},\"name\":\"wide_variable_14\",\"nbinsx\":61,\"offsetgroup\":\"wide_variable_14\",\"orientation\":\"v\",\"showlegend\":true,\"x\":[20983],\"xaxis\":\"x\",\"yaxis\":\"y\",\"type\":\"histogram\"},{\"alignmentgroup\":\"True\",\"bingroup\":\"x\",\"hovertemplate\":\"variable=wide_variable_15\\u003cbr\\u003evalue=%{x}\\u003cbr\\u003ecount=%{y}\\u003cextra\\u003e\\u003c\\u002fextra\\u003e\",\"legendgroup\":\"wide_variable_15\",\"marker\":{\"color\":\"#19d3f3\",\"pattern\":{\"shape\":\"\"}},\"name\":\"wide_variable_15\",\"nbinsx\":61,\"offsetgroup\":\"wide_variable_15\",\"orientation\":\"v\",\"showlegend\":true,\"x\":[20986],\"xaxis\":\"x\",\"yaxis\":\"y\",\"type\":\"histogram\"},{\"alignmentgroup\":\"True\",\"bingroup\":\"x\",\"hovertemplate\":\"variable=wide_variable_16\\u003cbr\\u003evalue=%{x}\\u003cbr\\u003ecount=%{y}\\u003cextra\\u003e\\u003c\\u002fextra\\u003e\",\"legendgroup\":\"wide_variable_16\",\"marker\":{\"color\":\"#FF6692\",\"pattern\":{\"shape\":\"\"}},\"name\":\"wide_variable_16\",\"nbinsx\":61,\"offsetgroup\":\"wide_variable_16\",\"orientation\":\"v\",\"showlegend\":true,\"x\":[20983],\"xaxis\":\"x\",\"yaxis\":\"y\",\"type\":\"histogram\"},{\"alignmentgroup\":\"True\",\"bingroup\":\"x\",\"hovertemplate\":\"variable=wide_variable_17\\u003cbr\\u003evalue=%{x}\\u003cbr\\u003ecount=%{y}\\u003cextra\\u003e\\u003c\\u002fextra\\u003e\",\"legendgroup\":\"wide_variable_17\",\"marker\":{\"color\":\"#B6E880\",\"pattern\":{\"shape\":\"\"}},\"name\":\"wide_variable_17\",\"nbinsx\":61,\"offsetgroup\":\"wide_variable_17\",\"orientation\":\"v\",\"showlegend\":true,\"x\":[20830],\"xaxis\":\"x\",\"yaxis\":\"y\",\"type\":\"histogram\"},{\"alignmentgroup\":\"True\",\"bingroup\":\"x\",\"hovertemplate\":\"variable=wide_variable_18\\u003cbr\\u003evalue=%{x}\\u003cbr\\u003ecount=%{y}\\u003cextra\\u003e\\u003c\\u002fextra\\u003e\",\"legendgroup\":\"wide_variable_18\",\"marker\":{\"color\":\"#FF97FF\",\"pattern\":{\"shape\":\"\"}},\"name\":\"wide_variable_18\",\"nbinsx\":61,\"offsetgroup\":\"wide_variable_18\",\"orientation\":\"v\",\"showlegend\":true,\"x\":[20974],\"xaxis\":\"x\",\"yaxis\":\"y\",\"type\":\"histogram\"},{\"alignmentgroup\":\"True\",\"bingroup\":\"x\",\"hovertemplate\":\"variable=wide_variable_19\\u003cbr\\u003evalue=%{x}\\u003cbr\\u003ecount=%{y}\\u003cextra\\u003e\\u003c\\u002fextra\\u003e\",\"legendgroup\":\"wide_variable_19\",\"marker\":{\"color\":\"#FECB52\",\"pattern\":{\"shape\":\"\"}},\"name\":\"wide_variable_19\",\"nbinsx\":61,\"offsetgroup\":\"wide_variable_19\",\"orientation\":\"v\",\"showlegend\":true,\"x\":[20974],\"xaxis\":\"x\",\"yaxis\":\"y\",\"type\":\"histogram\"},{\"alignmentgroup\":\"True\",\"bingroup\":\"x\",\"hovertemplate\":\"variable=wide_variable_20\\u003cbr\\u003evalue=%{x}\\u003cbr\\u003ecount=%{y}\\u003cextra\\u003e\\u003c\\u002fextra\\u003e\",\"legendgroup\":\"wide_variable_20\",\"marker\":{\"color\":\"#636efa\",\"pattern\":{\"shape\":\"\"}},\"name\":\"wide_variable_20\",\"nbinsx\":61,\"offsetgroup\":\"wide_variable_20\",\"orientation\":\"v\",\"showlegend\":true,\"x\":[20983],\"xaxis\":\"x\",\"yaxis\":\"y\",\"type\":\"histogram\"},{\"alignmentgroup\":\"True\",\"bingroup\":\"x\",\"hovertemplate\":\"variable=wide_variable_21\\u003cbr\\u003evalue=%{x}\\u003cbr\\u003ecount=%{y}\\u003cextra\\u003e\\u003c\\u002fextra\\u003e\",\"legendgroup\":\"wide_variable_21\",\"marker\":{\"color\":\"#EF553B\",\"pattern\":{\"shape\":\"\"}},\"name\":\"wide_variable_21\",\"nbinsx\":61,\"offsetgroup\":\"wide_variable_21\",\"orientation\":\"v\",\"showlegend\":true,\"x\":[20812],\"xaxis\":\"x\",\"yaxis\":\"y\",\"type\":\"histogram\"},{\"alignmentgroup\":\"True\",\"bingroup\":\"x\",\"hovertemplate\":\"variable=wide_variable_22\\u003cbr\\u003evalue=%{x}\\u003cbr\\u003ecount=%{y}\\u003cextra\\u003e\\u003c\\u002fextra\\u003e\",\"legendgroup\":\"wide_variable_22\",\"marker\":{\"color\":\"#00cc96\",\"pattern\":{\"shape\":\"\"}},\"name\":\"wide_variable_22\",\"nbinsx\":61,\"offsetgroup\":\"wide_variable_22\",\"orientation\":\"v\",\"showlegend\":true,\"x\":[20808],\"xaxis\":\"x\",\"yaxis\":\"y\",\"type\":\"histogram\"},{\"alignmentgroup\":\"True\",\"bingroup\":\"x\",\"hovertemplate\":\"variable=wide_variable_23\\u003cbr\\u003evalue=%{x}\\u003cbr\\u003ecount=%{y}\\u003cextra\\u003e\\u003c\\u002fextra\\u003e\",\"legendgroup\":\"wide_variable_23\",\"marker\":{\"color\":\"#ab63fa\",\"pattern\":{\"shape\":\"\"}},\"name\":\"wide_variable_23\",\"nbinsx\":61,\"offsetgroup\":\"wide_variable_23\",\"orientation\":\"v\",\"showlegend\":true,\"x\":[21004],\"xaxis\":\"x\",\"yaxis\":\"y\",\"type\":\"histogram\"},{\"alignmentgroup\":\"True\",\"bingroup\":\"x\",\"hovertemplate\":\"variable=wide_variable_24\\u003cbr\\u003evalue=%{x}\\u003cbr\\u003ecount=%{y}\\u003cextra\\u003e\\u003c\\u002fextra\\u003e\",\"legendgroup\":\"wide_variable_24\",\"marker\":{\"color\":\"#FFA15A\",\"pattern\":{\"shape\":\"\"}},\"name\":\"wide_variable_24\",\"nbinsx\":61,\"offsetgroup\":\"wide_variable_24\",\"orientation\":\"v\",\"showlegend\":true,\"x\":[20851],\"xaxis\":\"x\",\"yaxis\":\"y\",\"type\":\"histogram\"},{\"alignmentgroup\":\"True\",\"bingroup\":\"x\",\"hovertemplate\":\"variable=wide_variable_25\\u003cbr\\u003evalue=%{x}\\u003cbr\\u003ecount=%{y}\\u003cextra\\u003e\\u003c\\u002fextra\\u003e\",\"legendgroup\":\"wide_variable_25\",\"marker\":{\"color\":\"#19d3f3\",\"pattern\":{\"shape\":\"\"}},\"name\":\"wide_variable_25\",\"nbinsx\":61,\"offsetgroup\":\"wide_variable_25\",\"orientation\":\"v\",\"showlegend\":true,\"x\":[20983],\"xaxis\":\"x\",\"yaxis\":\"y\",\"type\":\"histogram\"},{\"alignmentgroup\":\"True\",\"bingroup\":\"x\",\"hovertemplate\":\"variable=wide_variable_26\\u003cbr\\u003evalue=%{x}\\u003cbr\\u003ecount=%{y}\\u003cextra\\u003e\\u003c\\u002fextra\\u003e\",\"legendgroup\":\"wide_variable_26\",\"marker\":{\"color\":\"#FF6692\",\"pattern\":{\"shape\":\"\"}},\"name\":\"wide_variable_26\",\"nbinsx\":61,\"offsetgroup\":\"wide_variable_26\",\"orientation\":\"v\",\"showlegend\":true,\"x\":[20882],\"xaxis\":\"x\",\"yaxis\":\"y\",\"type\":\"histogram\"},{\"alignmentgroup\":\"True\",\"bingroup\":\"x\",\"hovertemplate\":\"variable=wide_variable_27\\u003cbr\\u003evalue=%{x}\\u003cbr\\u003ecount=%{y}\\u003cextra\\u003e\\u003c\\u002fextra\\u003e\",\"legendgroup\":\"wide_variable_27\",\"marker\":{\"color\":\"#B6E880\",\"pattern\":{\"shape\":\"\"}},\"name\":\"wide_variable_27\",\"nbinsx\":61,\"offsetgroup\":\"wide_variable_27\",\"orientation\":\"v\",\"showlegend\":true,\"x\":[20884],\"xaxis\":\"x\",\"yaxis\":\"y\",\"type\":\"histogram\"},{\"alignmentgroup\":\"True\",\"bingroup\":\"x\",\"hovertemplate\":\"variable=wide_variable_28\\u003cbr\\u003evalue=%{x}\\u003cbr\\u003ecount=%{y}\\u003cextra\\u003e\\u003c\\u002fextra\\u003e\",\"legendgroup\":\"wide_variable_28\",\"marker\":{\"color\":\"#FF97FF\",\"pattern\":{\"shape\":\"\"}},\"name\":\"wide_variable_28\",\"nbinsx\":61,\"offsetgroup\":\"wide_variable_28\",\"orientation\":\"v\",\"showlegend\":true,\"x\":[20106],\"xaxis\":\"x\",\"yaxis\":\"y\",\"type\":\"histogram\"},{\"alignmentgroup\":\"True\",\"bingroup\":\"x\",\"hovertemplate\":\"variable=wide_variable_29\\u003cbr\\u003evalue=%{x}\\u003cbr\\u003ecount=%{y}\\u003cextra\\u003e\\u003c\\u002fextra\\u003e\",\"legendgroup\":\"wide_variable_29\",\"marker\":{\"color\":\"#FECB52\",\"pattern\":{\"shape\":\"\"}},\"name\":\"wide_variable_29\",\"nbinsx\":61,\"offsetgroup\":\"wide_variable_29\",\"orientation\":\"v\",\"showlegend\":true,\"x\":[20265],\"xaxis\":\"x\",\"yaxis\":\"y\",\"type\":\"histogram\"},{\"alignmentgroup\":\"True\",\"bingroup\":\"x\",\"hovertemplate\":\"variable=wide_variable_30\\u003cbr\\u003evalue=%{x}\\u003cbr\\u003ecount=%{y}\\u003cextra\\u003e\\u003c\\u002fextra\\u003e\",\"legendgroup\":\"wide_variable_30\",\"marker\":{\"color\":\"#636efa\",\"pattern\":{\"shape\":\"\"}},\"name\":\"wide_variable_30\",\"nbinsx\":61,\"offsetgroup\":\"wide_variable_30\",\"orientation\":\"v\",\"showlegend\":true,\"x\":[20265],\"xaxis\":\"x\",\"yaxis\":\"y\",\"type\":\"histogram\"},{\"alignmentgroup\":\"True\",\"bingroup\":\"x\",\"hovertemplate\":\"variable=wide_variable_31\\u003cbr\\u003evalue=%{x}\\u003cbr\\u003ecount=%{y}\\u003cextra\\u003e\\u003c\\u002fextra\\u003e\",\"legendgroup\":\"wide_variable_31\",\"marker\":{\"color\":\"#EF553B\",\"pattern\":{\"shape\":\"\"}},\"name\":\"wide_variable_31\",\"nbinsx\":61,\"offsetgroup\":\"wide_variable_31\",\"orientation\":\"v\",\"showlegend\":true,\"x\":[20948],\"xaxis\":\"x\",\"yaxis\":\"y\",\"type\":\"histogram\"},{\"alignmentgroup\":\"True\",\"bingroup\":\"x\",\"hovertemplate\":\"variable=wide_variable_32\\u003cbr\\u003evalue=%{x}\\u003cbr\\u003ecount=%{y}\\u003cextra\\u003e\\u003c\\u002fextra\\u003e\",\"legendgroup\":\"wide_variable_32\",\"marker\":{\"color\":\"#00cc96\",\"pattern\":{\"shape\":\"\"}},\"name\":\"wide_variable_32\",\"nbinsx\":61,\"offsetgroup\":\"wide_variable_32\",\"orientation\":\"v\",\"showlegend\":true,\"x\":[20952],\"xaxis\":\"x\",\"yaxis\":\"y\",\"type\":\"histogram\"},{\"alignmentgroup\":\"True\",\"bingroup\":\"x\",\"hovertemplate\":\"variable=wide_variable_33\\u003cbr\\u003evalue=%{x}\\u003cbr\\u003ecount=%{y}\\u003cextra\\u003e\\u003c\\u002fextra\\u003e\",\"legendgroup\":\"wide_variable_33\",\"marker\":{\"color\":\"#ab63fa\",\"pattern\":{\"shape\":\"\"}},\"name\":\"wide_variable_33\",\"nbinsx\":61,\"offsetgroup\":\"wide_variable_33\",\"orientation\":\"v\",\"showlegend\":true,\"x\":[20830],\"xaxis\":\"x\",\"yaxis\":\"y\",\"type\":\"histogram\"},{\"alignmentgroup\":\"True\",\"bingroup\":\"x\",\"hovertemplate\":\"variable=wide_variable_34\\u003cbr\\u003evalue=%{x}\\u003cbr\\u003ecount=%{y}\\u003cextra\\u003e\\u003c\\u002fextra\\u003e\",\"legendgroup\":\"wide_variable_34\",\"marker\":{\"color\":\"#FFA15A\",\"pattern\":{\"shape\":\"\"}},\"name\":\"wide_variable_34\",\"nbinsx\":61,\"offsetgroup\":\"wide_variable_34\",\"orientation\":\"v\",\"showlegend\":true,\"x\":[20501],\"xaxis\":\"x\",\"yaxis\":\"y\",\"type\":\"histogram\"},{\"alignmentgroup\":\"True\",\"bingroup\":\"x\",\"hovertemplate\":\"variable=wide_variable_35\\u003cbr\\u003evalue=%{x}\\u003cbr\\u003ecount=%{y}\\u003cextra\\u003e\\u003c\\u002fextra\\u003e\",\"legendgroup\":\"wide_variable_35\",\"marker\":{\"color\":\"#19d3f3\",\"pattern\":{\"shape\":\"\"}},\"name\":\"wide_variable_35\",\"nbinsx\":61,\"offsetgroup\":\"wide_variable_35\",\"orientation\":\"v\",\"showlegend\":true,\"x\":[20954],\"xaxis\":\"x\",\"yaxis\":\"y\",\"type\":\"histogram\"},{\"alignmentgroup\":\"True\",\"bingroup\":\"x\",\"hovertemplate\":\"variable=wide_variable_36\\u003cbr\\u003evalue=%{x}\\u003cbr\\u003ecount=%{y}\\u003cextra\\u003e\\u003c\\u002fextra\\u003e\",\"legendgroup\":\"wide_variable_36\",\"marker\":{\"color\":\"#FF6692\",\"pattern\":{\"shape\":\"\"}},\"name\":\"wide_variable_36\",\"nbinsx\":61,\"offsetgroup\":\"wide_variable_36\",\"orientation\":\"v\",\"showlegend\":true,\"x\":[20765],\"xaxis\":\"x\",\"yaxis\":\"y\",\"type\":\"histogram\"},{\"alignmentgroup\":\"True\",\"bingroup\":\"x\",\"hovertemplate\":\"variable=wide_variable_37\\u003cbr\\u003evalue=%{x}\\u003cbr\\u003ecount=%{y}\\u003cextra\\u003e\\u003c\\u002fextra\\u003e\",\"legendgroup\":\"wide_variable_37\",\"marker\":{\"color\":\"#B6E880\",\"pattern\":{\"shape\":\"\"}},\"name\":\"wide_variable_37\",\"nbinsx\":61,\"offsetgroup\":\"wide_variable_37\",\"orientation\":\"v\",\"showlegend\":true,\"x\":[20940],\"xaxis\":\"x\",\"yaxis\":\"y\",\"type\":\"histogram\"},{\"alignmentgroup\":\"True\",\"bingroup\":\"x\",\"hovertemplate\":\"variable=wide_variable_38\\u003cbr\\u003evalue=%{x}\\u003cbr\\u003ecount=%{y}\\u003cextra\\u003e\\u003c\\u002fextra\\u003e\",\"legendgroup\":\"wide_variable_38\",\"marker\":{\"color\":\"#FF97FF\",\"pattern\":{\"shape\":\"\"}},\"name\":\"wide_variable_38\",\"nbinsx\":61,\"offsetgroup\":\"wide_variable_38\",\"orientation\":\"v\",\"showlegend\":true,\"x\":[20948],\"xaxis\":\"x\",\"yaxis\":\"y\",\"type\":\"histogram\"},{\"alignmentgroup\":\"True\",\"bingroup\":\"x\",\"hovertemplate\":\"variable=wide_variable_39\\u003cbr\\u003evalue=%{x}\\u003cbr\\u003ecount=%{y}\\u003cextra\\u003e\\u003c\\u002fextra\\u003e\",\"legendgroup\":\"wide_variable_39\",\"marker\":{\"color\":\"#FECB52\",\"pattern\":{\"shape\":\"\"}},\"name\":\"wide_variable_39\",\"nbinsx\":61,\"offsetgroup\":\"wide_variable_39\",\"orientation\":\"v\",\"showlegend\":true,\"x\":[20911],\"xaxis\":\"x\",\"yaxis\":\"y\",\"type\":\"histogram\"},{\"alignmentgroup\":\"True\",\"bingroup\":\"x\",\"hovertemplate\":\"variable=wide_variable_40\\u003cbr\\u003evalue=%{x}\\u003cbr\\u003ecount=%{y}\\u003cextra\\u003e\\u003c\\u002fextra\\u003e\",\"legendgroup\":\"wide_variable_40\",\"marker\":{\"color\":\"#636efa\",\"pattern\":{\"shape\":\"\"}},\"name\":\"wide_variable_40\",\"nbinsx\":61,\"offsetgroup\":\"wide_variable_40\",\"orientation\":\"v\",\"showlegend\":true,\"x\":[20688],\"xaxis\":\"x\",\"yaxis\":\"y\",\"type\":\"histogram\"},{\"alignmentgroup\":\"True\",\"bingroup\":\"x\",\"hovertemplate\":\"variable=wide_variable_41\\u003cbr\\u003evalue=%{x}\\u003cbr\\u003ecount=%{y}\\u003cextra\\u003e\\u003c\\u002fextra\\u003e\",\"legendgroup\":\"wide_variable_41\",\"marker\":{\"color\":\"#EF553B\",\"pattern\":{\"shape\":\"\"}},\"name\":\"wide_variable_41\",\"nbinsx\":61,\"offsetgroup\":\"wide_variable_41\",\"orientation\":\"v\",\"showlegend\":true,\"x\":[20688],\"xaxis\":\"x\",\"yaxis\":\"y\",\"type\":\"histogram\"},{\"alignmentgroup\":\"True\",\"bingroup\":\"x\",\"hovertemplate\":\"variable=wide_variable_42\\u003cbr\\u003evalue=%{x}\\u003cbr\\u003ecount=%{y}\\u003cextra\\u003e\\u003c\\u002fextra\\u003e\",\"legendgroup\":\"wide_variable_42\",\"marker\":{\"color\":\"#00cc96\",\"pattern\":{\"shape\":\"\"}},\"name\":\"wide_variable_42\",\"nbinsx\":61,\"offsetgroup\":\"wide_variable_42\",\"orientation\":\"v\",\"showlegend\":true,\"x\":[20818],\"xaxis\":\"x\",\"yaxis\":\"y\",\"type\":\"histogram\"},{\"alignmentgroup\":\"True\",\"bingroup\":\"x\",\"hovertemplate\":\"variable=wide_variable_43\\u003cbr\\u003evalue=%{x}\\u003cbr\\u003ecount=%{y}\\u003cextra\\u003e\\u003c\\u002fextra\\u003e\",\"legendgroup\":\"wide_variable_43\",\"marker\":{\"color\":\"#ab63fa\",\"pattern\":{\"shape\":\"\"}},\"name\":\"wide_variable_43\",\"nbinsx\":61,\"offsetgroup\":\"wide_variable_43\",\"orientation\":\"v\",\"showlegend\":true,\"x\":[20920],\"xaxis\":\"x\",\"yaxis\":\"y\",\"type\":\"histogram\"},{\"alignmentgroup\":\"True\",\"bingroup\":\"x\",\"hovertemplate\":\"variable=wide_variable_44\\u003cbr\\u003evalue=%{x}\\u003cbr\\u003ecount=%{y}\\u003cextra\\u003e\\u003c\\u002fextra\\u003e\",\"legendgroup\":\"wide_variable_44\",\"marker\":{\"color\":\"#FFA15A\",\"pattern\":{\"shape\":\"\"}},\"name\":\"wide_variable_44\",\"nbinsx\":61,\"offsetgroup\":\"wide_variable_44\",\"orientation\":\"v\",\"showlegend\":true,\"x\":[20958],\"xaxis\":\"x\",\"yaxis\":\"y\",\"type\":\"histogram\"},{\"alignmentgroup\":\"True\",\"bingroup\":\"x\",\"hovertemplate\":\"variable=wide_variable_45\\u003cbr\\u003evalue=%{x}\\u003cbr\\u003ecount=%{y}\\u003cextra\\u003e\\u003c\\u002fextra\\u003e\",\"legendgroup\":\"wide_variable_45\",\"marker\":{\"color\":\"#19d3f3\",\"pattern\":{\"shape\":\"\"}},\"name\":\"wide_variable_45\",\"nbinsx\":61,\"offsetgroup\":\"wide_variable_45\",\"orientation\":\"v\",\"showlegend\":true,\"x\":[20106],\"xaxis\":\"x\",\"yaxis\":\"y\",\"type\":\"histogram\"},{\"alignmentgroup\":\"True\",\"bingroup\":\"x\",\"hovertemplate\":\"variable=wide_variable_46\\u003cbr\\u003evalue=%{x}\\u003cbr\\u003ecount=%{y}\\u003cextra\\u003e\\u003c\\u002fextra\\u003e\",\"legendgroup\":\"wide_variable_46\",\"marker\":{\"color\":\"#FF6692\",\"pattern\":{\"shape\":\"\"}},\"name\":\"wide_variable_46\",\"nbinsx\":61,\"offsetgroup\":\"wide_variable_46\",\"orientation\":\"v\",\"showlegend\":true,\"x\":[20884],\"xaxis\":\"x\",\"yaxis\":\"y\",\"type\":\"histogram\"},{\"alignmentgroup\":\"True\",\"bingroup\":\"x\",\"hovertemplate\":\"variable=wide_variable_47\\u003cbr\\u003evalue=%{x}\\u003cbr\\u003ecount=%{y}\\u003cextra\\u003e\\u003c\\u002fextra\\u003e\",\"legendgroup\":\"wide_variable_47\",\"marker\":{\"color\":\"#B6E880\",\"pattern\":{\"shape\":\"\"}},\"name\":\"wide_variable_47\",\"nbinsx\":61,\"offsetgroup\":\"wide_variable_47\",\"orientation\":\"v\",\"showlegend\":true,\"x\":[20999],\"xaxis\":\"x\",\"yaxis\":\"y\",\"type\":\"histogram\"},{\"alignmentgroup\":\"True\",\"bingroup\":\"x\",\"hovertemplate\":\"variable=wide_variable_48\\u003cbr\\u003evalue=%{x}\\u003cbr\\u003ecount=%{y}\\u003cextra\\u003e\\u003c\\u002fextra\\u003e\",\"legendgroup\":\"wide_variable_48\",\"marker\":{\"color\":\"#FF97FF\",\"pattern\":{\"shape\":\"\"}},\"name\":\"wide_variable_48\",\"nbinsx\":61,\"offsetgroup\":\"wide_variable_48\",\"orientation\":\"v\",\"showlegend\":true,\"x\":[20911],\"xaxis\":\"x\",\"yaxis\":\"y\",\"type\":\"histogram\"},{\"alignmentgroup\":\"True\",\"bingroup\":\"x\",\"hovertemplate\":\"variable=wide_variable_49\\u003cbr\\u003evalue=%{x}\\u003cbr\\u003ecount=%{y}\\u003cextra\\u003e\\u003c\\u002fextra\\u003e\",\"legendgroup\":\"wide_variable_49\",\"marker\":{\"color\":\"#FECB52\",\"pattern\":{\"shape\":\"\"}},\"name\":\"wide_variable_49\",\"nbinsx\":61,\"offsetgroup\":\"wide_variable_49\",\"orientation\":\"v\",\"showlegend\":true,\"x\":[20983],\"xaxis\":\"x\",\"yaxis\":\"y\",\"type\":\"histogram\"},{\"alignmentgroup\":\"True\",\"bingroup\":\"x\",\"hovertemplate\":\"variable=wide_variable_50\\u003cbr\\u003evalue=%{x}\\u003cbr\\u003ecount=%{y}\\u003cextra\\u003e\\u003c\\u002fextra\\u003e\",\"legendgroup\":\"wide_variable_50\",\"marker\":{\"color\":\"#636efa\",\"pattern\":{\"shape\":\"\"}},\"name\":\"wide_variable_50\",\"nbinsx\":61,\"offsetgroup\":\"wide_variable_50\",\"orientation\":\"v\",\"showlegend\":true,\"x\":[20983],\"xaxis\":\"x\",\"yaxis\":\"y\",\"type\":\"histogram\"},{\"alignmentgroup\":\"True\",\"bingroup\":\"x\",\"hovertemplate\":\"variable=wide_variable_51\\u003cbr\\u003evalue=%{x}\\u003cbr\\u003ecount=%{y}\\u003cextra\\u003e\\u003c\\u002fextra\\u003e\",\"legendgroup\":\"wide_variable_51\",\"marker\":{\"color\":\"#EF553B\",\"pattern\":{\"shape\":\"\"}},\"name\":\"wide_variable_51\",\"nbinsx\":61,\"offsetgroup\":\"wide_variable_51\",\"orientation\":\"v\",\"showlegend\":true,\"x\":[20983],\"xaxis\":\"x\",\"yaxis\":\"y\",\"type\":\"histogram\"},{\"alignmentgroup\":\"True\",\"bingroup\":\"x\",\"hovertemplate\":\"variable=wide_variable_52\\u003cbr\\u003evalue=%{x}\\u003cbr\\u003ecount=%{y}\\u003cextra\\u003e\\u003c\\u002fextra\\u003e\",\"legendgroup\":\"wide_variable_52\",\"marker\":{\"color\":\"#00cc96\",\"pattern\":{\"shape\":\"\"}},\"name\":\"wide_variable_52\",\"nbinsx\":61,\"offsetgroup\":\"wide_variable_52\",\"orientation\":\"v\",\"showlegend\":true,\"x\":[20911],\"xaxis\":\"x\",\"yaxis\":\"y\",\"type\":\"histogram\"},{\"alignmentgroup\":\"True\",\"bingroup\":\"x\",\"hovertemplate\":\"variable=wide_variable_53\\u003cbr\\u003evalue=%{x}\\u003cbr\\u003ecount=%{y}\\u003cextra\\u003e\\u003c\\u002fextra\\u003e\",\"legendgroup\":\"wide_variable_53\",\"marker\":{\"color\":\"#ab63fa\",\"pattern\":{\"shape\":\"\"}},\"name\":\"wide_variable_53\",\"nbinsx\":61,\"offsetgroup\":\"wide_variable_53\",\"orientation\":\"v\",\"showlegend\":true,\"x\":[20501],\"xaxis\":\"x\",\"yaxis\":\"y\",\"type\":\"histogram\"},{\"alignmentgroup\":\"True\",\"bingroup\":\"x\",\"hovertemplate\":\"variable=wide_variable_54\\u003cbr\\u003evalue=%{x}\\u003cbr\\u003ecount=%{y}\\u003cextra\\u003e\\u003c\\u002fextra\\u003e\",\"legendgroup\":\"wide_variable_54\",\"marker\":{\"color\":\"#FFA15A\",\"pattern\":{\"shape\":\"\"}},\"name\":\"wide_variable_54\",\"nbinsx\":61,\"offsetgroup\":\"wide_variable_54\",\"orientation\":\"v\",\"showlegend\":true,\"x\":[20937],\"xaxis\":\"x\",\"yaxis\":\"y\",\"type\":\"histogram\"},{\"alignmentgroup\":\"True\",\"bingroup\":\"x\",\"hovertemplate\":\"variable=wide_variable_55\\u003cbr\\u003evalue=%{x}\\u003cbr\\u003ecount=%{y}\\u003cextra\\u003e\\u003c\\u002fextra\\u003e\",\"legendgroup\":\"wide_variable_55\",\"marker\":{\"color\":\"#19d3f3\",\"pattern\":{\"shape\":\"\"}},\"name\":\"wide_variable_55\",\"nbinsx\":61,\"offsetgroup\":\"wide_variable_55\",\"orientation\":\"v\",\"showlegend\":true,\"x\":[20106],\"xaxis\":\"x\",\"yaxis\":\"y\",\"type\":\"histogram\"},{\"alignmentgroup\":\"True\",\"bingroup\":\"x\",\"hovertemplate\":\"variable=wide_variable_56\\u003cbr\\u003evalue=%{x}\\u003cbr\\u003ecount=%{y}\\u003cextra\\u003e\\u003c\\u002fextra\\u003e\",\"legendgroup\":\"wide_variable_56\",\"marker\":{\"color\":\"#FF6692\",\"pattern\":{\"shape\":\"\"}},\"name\":\"wide_variable_56\",\"nbinsx\":61,\"offsetgroup\":\"wide_variable_56\",\"orientation\":\"v\",\"showlegend\":true,\"x\":[20935],\"xaxis\":\"x\",\"yaxis\":\"y\",\"type\":\"histogram\"},{\"alignmentgroup\":\"True\",\"bingroup\":\"x\",\"hovertemplate\":\"variable=wide_variable_57\\u003cbr\\u003evalue=%{x}\\u003cbr\\u003ecount=%{y}\\u003cextra\\u003e\\u003c\\u002fextra\\u003e\",\"legendgroup\":\"wide_variable_57\",\"marker\":{\"color\":\"#B6E880\",\"pattern\":{\"shape\":\"\"}},\"name\":\"wide_variable_57\",\"nbinsx\":61,\"offsetgroup\":\"wide_variable_57\",\"orientation\":\"v\",\"showlegend\":true,\"x\":[20365],\"xaxis\":\"x\",\"yaxis\":\"y\",\"type\":\"histogram\"},{\"alignmentgroup\":\"True\",\"bingroup\":\"x\",\"hovertemplate\":\"variable=wide_variable_58\\u003cbr\\u003evalue=%{x}\\u003cbr\\u003ecount=%{y}\\u003cextra\\u003e\\u003c\\u002fextra\\u003e\",\"legendgroup\":\"wide_variable_58\",\"marker\":{\"color\":\"#FF97FF\",\"pattern\":{\"shape\":\"\"}},\"name\":\"wide_variable_58\",\"nbinsx\":61,\"offsetgroup\":\"wide_variable_58\",\"orientation\":\"v\",\"showlegend\":true,\"x\":[20945],\"xaxis\":\"x\",\"yaxis\":\"y\",\"type\":\"histogram\"},{\"alignmentgroup\":\"True\",\"bingroup\":\"x\",\"hovertemplate\":\"variable=wide_variable_59\\u003cbr\\u003evalue=%{x}\\u003cbr\\u003ecount=%{y}\\u003cextra\\u003e\\u003c\\u002fextra\\u003e\",\"legendgroup\":\"wide_variable_59\",\"marker\":{\"color\":\"#FECB52\",\"pattern\":{\"shape\":\"\"}},\"name\":\"wide_variable_59\",\"nbinsx\":61,\"offsetgroup\":\"wide_variable_59\",\"orientation\":\"v\",\"showlegend\":true,\"x\":[20891],\"xaxis\":\"x\",\"yaxis\":\"y\",\"type\":\"histogram\"},{\"alignmentgroup\":\"True\",\"bingroup\":\"x\",\"hovertemplate\":\"variable=wide_variable_60\\u003cbr\\u003evalue=%{x}\\u003cbr\\u003ecount=%{y}\\u003cextra\\u003e\\u003c\\u002fextra\\u003e\",\"legendgroup\":\"wide_variable_60\",\"marker\":{\"color\":\"#636efa\",\"pattern\":{\"shape\":\"\"}},\"name\":\"wide_variable_60\",\"nbinsx\":61,\"offsetgroup\":\"wide_variable_60\",\"orientation\":\"v\",\"showlegend\":true,\"x\":[20884],\"xaxis\":\"x\",\"yaxis\":\"y\",\"type\":\"histogram\"},{\"alignmentgroup\":\"True\",\"bingroup\":\"x\",\"hovertemplate\":\"variable=wide_variable_61\\u003cbr\\u003evalue=%{x}\\u003cbr\\u003ecount=%{y}\\u003cextra\\u003e\\u003c\\u002fextra\\u003e\",\"legendgroup\":\"wide_variable_61\",\"marker\":{\"color\":\"#EF553B\",\"pattern\":{\"shape\":\"\"}},\"name\":\"wide_variable_61\",\"nbinsx\":61,\"offsetgroup\":\"wide_variable_61\",\"orientation\":\"v\",\"showlegend\":true,\"x\":[20864],\"xaxis\":\"x\",\"yaxis\":\"y\",\"type\":\"histogram\"},{\"alignmentgroup\":\"True\",\"bingroup\":\"x\",\"hovertemplate\":\"variable=wide_variable_62\\u003cbr\\u003evalue=%{x}\\u003cbr\\u003ecount=%{y}\\u003cextra\\u003e\\u003c\\u002fextra\\u003e\",\"legendgroup\":\"wide_variable_62\",\"marker\":{\"color\":\"#00cc96\",\"pattern\":{\"shape\":\"\"}},\"name\":\"wide_variable_62\",\"nbinsx\":61,\"offsetgroup\":\"wide_variable_62\",\"orientation\":\"v\",\"showlegend\":true,\"x\":[20866],\"xaxis\":\"x\",\"yaxis\":\"y\",\"type\":\"histogram\"},{\"alignmentgroup\":\"True\",\"bingroup\":\"x\",\"hovertemplate\":\"variable=wide_variable_63\\u003cbr\\u003evalue=%{x}\\u003cbr\\u003ecount=%{y}\\u003cextra\\u003e\\u003c\\u002fextra\\u003e\",\"legendgroup\":\"wide_variable_63\",\"marker\":{\"color\":\"#ab63fa\",\"pattern\":{\"shape\":\"\"}},\"name\":\"wide_variable_63\",\"nbinsx\":61,\"offsetgroup\":\"wide_variable_63\",\"orientation\":\"v\",\"showlegend\":true,\"x\":[20974],\"xaxis\":\"x\",\"yaxis\":\"y\",\"type\":\"histogram\"},{\"alignmentgroup\":\"True\",\"bingroup\":\"x\",\"hovertemplate\":\"variable=wide_variable_64\\u003cbr\\u003evalue=%{x}\\u003cbr\\u003ecount=%{y}\\u003cextra\\u003e\\u003c\\u002fextra\\u003e\",\"legendgroup\":\"wide_variable_64\",\"marker\":{\"color\":\"#FFA15A\",\"pattern\":{\"shape\":\"\"}},\"name\":\"wide_variable_64\",\"nbinsx\":61,\"offsetgroup\":\"wide_variable_64\",\"orientation\":\"v\",\"showlegend\":true,\"x\":[20969],\"xaxis\":\"x\",\"yaxis\":\"y\",\"type\":\"histogram\"},{\"alignmentgroup\":\"True\",\"bingroup\":\"x\",\"hovertemplate\":\"variable=wide_variable_65\\u003cbr\\u003evalue=%{x}\\u003cbr\\u003ecount=%{y}\\u003cextra\\u003e\\u003c\\u002fextra\\u003e\",\"legendgroup\":\"wide_variable_65\",\"marker\":{\"color\":\"#19d3f3\",\"pattern\":{\"shape\":\"\"}},\"name\":\"wide_variable_65\",\"nbinsx\":61,\"offsetgroup\":\"wide_variable_65\",\"orientation\":\"v\",\"showlegend\":true,\"x\":[20958],\"xaxis\":\"x\",\"yaxis\":\"y\",\"type\":\"histogram\"},{\"alignmentgroup\":\"True\",\"bingroup\":\"x\",\"hovertemplate\":\"variable=wide_variable_66\\u003cbr\\u003evalue=%{x}\\u003cbr\\u003ecount=%{y}\\u003cextra\\u003e\\u003c\\u002fextra\\u003e\",\"legendgroup\":\"wide_variable_66\",\"marker\":{\"color\":\"#FF6692\",\"pattern\":{\"shape\":\"\"}},\"name\":\"wide_variable_66\",\"nbinsx\":61,\"offsetgroup\":\"wide_variable_66\",\"orientation\":\"v\",\"showlegend\":true,\"x\":[20869],\"xaxis\":\"x\",\"yaxis\":\"y\",\"type\":\"histogram\"},{\"alignmentgroup\":\"True\",\"bingroup\":\"x\",\"hovertemplate\":\"variable=wide_variable_67\\u003cbr\\u003evalue=%{x}\\u003cbr\\u003ecount=%{y}\\u003cextra\\u003e\\u003c\\u002fextra\\u003e\",\"legendgroup\":\"wide_variable_67\",\"marker\":{\"color\":\"#B6E880\",\"pattern\":{\"shape\":\"\"}},\"name\":\"wide_variable_67\",\"nbinsx\":61,\"offsetgroup\":\"wide_variable_67\",\"orientation\":\"v\",\"showlegend\":true,\"x\":[20926],\"xaxis\":\"x\",\"yaxis\":\"y\",\"type\":\"histogram\"},{\"alignmentgroup\":\"True\",\"bingroup\":\"x\",\"hovertemplate\":\"variable=wide_variable_68\\u003cbr\\u003evalue=%{x}\\u003cbr\\u003ecount=%{y}\\u003cextra\\u003e\\u003c\\u002fextra\\u003e\",\"legendgroup\":\"wide_variable_68\",\"marker\":{\"color\":\"#FF97FF\",\"pattern\":{\"shape\":\"\"}},\"name\":\"wide_variable_68\",\"nbinsx\":61,\"offsetgroup\":\"wide_variable_68\",\"orientation\":\"v\",\"showlegend\":true,\"x\":[20937],\"xaxis\":\"x\",\"yaxis\":\"y\",\"type\":\"histogram\"},{\"alignmentgroup\":\"True\",\"bingroup\":\"x\",\"hovertemplate\":\"variable=wide_variable_69\\u003cbr\\u003evalue=%{x}\\u003cbr\\u003ecount=%{y}\\u003cextra\\u003e\\u003c\\u002fextra\\u003e\",\"legendgroup\":\"wide_variable_69\",\"marker\":{\"color\":\"#FECB52\",\"pattern\":{\"shape\":\"\"}},\"name\":\"wide_variable_69\",\"nbinsx\":61,\"offsetgroup\":\"wide_variable_69\",\"orientation\":\"v\",\"showlegend\":true,\"x\":[20940],\"xaxis\":\"x\",\"yaxis\":\"y\",\"type\":\"histogram\"},{\"alignmentgroup\":\"True\",\"bingroup\":\"x\",\"hovertemplate\":\"variable=wide_variable_70\\u003cbr\\u003evalue=%{x}\\u003cbr\\u003ecount=%{y}\\u003cextra\\u003e\\u003c\\u002fextra\\u003e\",\"legendgroup\":\"wide_variable_70\",\"marker\":{\"color\":\"#636efa\",\"pattern\":{\"shape\":\"\"}},\"name\":\"wide_variable_70\",\"nbinsx\":61,\"offsetgroup\":\"wide_variable_70\",\"orientation\":\"v\",\"showlegend\":true,\"x\":[20975],\"xaxis\":\"x\",\"yaxis\":\"y\",\"type\":\"histogram\"},{\"alignmentgroup\":\"True\",\"bingroup\":\"x\",\"hovertemplate\":\"variable=wide_variable_71\\u003cbr\\u003evalue=%{x}\\u003cbr\\u003ecount=%{y}\\u003cextra\\u003e\\u003c\\u002fextra\\u003e\",\"legendgroup\":\"wide_variable_71\",\"marker\":{\"color\":\"#EF553B\",\"pattern\":{\"shape\":\"\"}},\"name\":\"wide_variable_71\",\"nbinsx\":61,\"offsetgroup\":\"wide_variable_71\",\"orientation\":\"v\",\"showlegend\":true,\"x\":[20958],\"xaxis\":\"x\",\"yaxis\":\"y\",\"type\":\"histogram\"},{\"alignmentgroup\":\"True\",\"bingroup\":\"x\",\"hovertemplate\":\"variable=wide_variable_72\\u003cbr\\u003evalue=%{x}\\u003cbr\\u003ecount=%{y}\\u003cextra\\u003e\\u003c\\u002fextra\\u003e\",\"legendgroup\":\"wide_variable_72\",\"marker\":{\"color\":\"#00cc96\",\"pattern\":{\"shape\":\"\"}},\"name\":\"wide_variable_72\",\"nbinsx\":61,\"offsetgroup\":\"wide_variable_72\",\"orientation\":\"v\",\"showlegend\":true,\"x\":[20946],\"xaxis\":\"x\",\"yaxis\":\"y\",\"type\":\"histogram\"},{\"alignmentgroup\":\"True\",\"bingroup\":\"x\",\"hovertemplate\":\"variable=wide_variable_73\\u003cbr\\u003evalue=%{x}\\u003cbr\\u003ecount=%{y}\\u003cextra\\u003e\\u003c\\u002fextra\\u003e\",\"legendgroup\":\"wide_variable_73\",\"marker\":{\"color\":\"#ab63fa\",\"pattern\":{\"shape\":\"\"}},\"name\":\"wide_variable_73\",\"nbinsx\":61,\"offsetgroup\":\"wide_variable_73\",\"orientation\":\"v\",\"showlegend\":true,\"x\":[20986],\"xaxis\":\"x\",\"yaxis\":\"y\",\"type\":\"histogram\"},{\"alignmentgroup\":\"True\",\"bingroup\":\"x\",\"hovertemplate\":\"variable=wide_variable_74\\u003cbr\\u003evalue=%{x}\\u003cbr\\u003ecount=%{y}\\u003cextra\\u003e\\u003c\\u002fextra\\u003e\",\"legendgroup\":\"wide_variable_74\",\"marker\":{\"color\":\"#FFA15A\",\"pattern\":{\"shape\":\"\"}},\"name\":\"wide_variable_74\",\"nbinsx\":61,\"offsetgroup\":\"wide_variable_74\",\"orientation\":\"v\",\"showlegend\":true,\"x\":[20935],\"xaxis\":\"x\",\"yaxis\":\"y\",\"type\":\"histogram\"},{\"alignmentgroup\":\"True\",\"bingroup\":\"x\",\"hovertemplate\":\"variable=wide_variable_75\\u003cbr\\u003evalue=%{x}\\u003cbr\\u003ecount=%{y}\\u003cextra\\u003e\\u003c\\u002fextra\\u003e\",\"legendgroup\":\"wide_variable_75\",\"marker\":{\"color\":\"#19d3f3\",\"pattern\":{\"shape\":\"\"}},\"name\":\"wide_variable_75\",\"nbinsx\":61,\"offsetgroup\":\"wide_variable_75\",\"orientation\":\"v\",\"showlegend\":true,\"x\":[20954],\"xaxis\":\"x\",\"yaxis\":\"y\",\"type\":\"histogram\"},{\"alignmentgroup\":\"True\",\"bingroup\":\"x\",\"hovertemplate\":\"variable=wide_variable_76\\u003cbr\\u003evalue=%{x}\\u003cbr\\u003ecount=%{y}\\u003cextra\\u003e\\u003c\\u002fextra\\u003e\",\"legendgroup\":\"wide_variable_76\",\"marker\":{\"color\":\"#FF6692\",\"pattern\":{\"shape\":\"\"}},\"name\":\"wide_variable_76\",\"nbinsx\":61,\"offsetgroup\":\"wide_variable_76\",\"orientation\":\"v\",\"showlegend\":true,\"x\":[20830],\"xaxis\":\"x\",\"yaxis\":\"y\",\"type\":\"histogram\"},{\"alignmentgroup\":\"True\",\"bingroup\":\"x\",\"hovertemplate\":\"variable=wide_variable_77\\u003cbr\\u003evalue=%{x}\\u003cbr\\u003ecount=%{y}\\u003cextra\\u003e\\u003c\\u002fextra\\u003e\",\"legendgroup\":\"wide_variable_77\",\"marker\":{\"color\":\"#B6E880\",\"pattern\":{\"shape\":\"\"}},\"name\":\"wide_variable_77\",\"nbinsx\":61,\"offsetgroup\":\"wide_variable_77\",\"orientation\":\"v\",\"showlegend\":true,\"x\":[20738],\"xaxis\":\"x\",\"yaxis\":\"y\",\"type\":\"histogram\"},{\"alignmentgroup\":\"True\",\"bingroup\":\"x\",\"hovertemplate\":\"variable=wide_variable_78\\u003cbr\\u003evalue=%{x}\\u003cbr\\u003ecount=%{y}\\u003cextra\\u003e\\u003c\\u002fextra\\u003e\",\"legendgroup\":\"wide_variable_78\",\"marker\":{\"color\":\"#FF97FF\",\"pattern\":{\"shape\":\"\"}},\"name\":\"wide_variable_78\",\"nbinsx\":61,\"offsetgroup\":\"wide_variable_78\",\"orientation\":\"v\",\"showlegend\":true,\"x\":[20738],\"xaxis\":\"x\",\"yaxis\":\"y\",\"type\":\"histogram\"},{\"alignmentgroup\":\"True\",\"bingroup\":\"x\",\"hovertemplate\":\"variable=wide_variable_79\\u003cbr\\u003evalue=%{x}\\u003cbr\\u003ecount=%{y}\\u003cextra\\u003e\\u003c\\u002fextra\\u003e\",\"legendgroup\":\"wide_variable_79\",\"marker\":{\"color\":\"#FECB52\",\"pattern\":{\"shape\":\"\"}},\"name\":\"wide_variable_79\",\"nbinsx\":61,\"offsetgroup\":\"wide_variable_79\",\"orientation\":\"v\",\"showlegend\":true,\"x\":[20882],\"xaxis\":\"x\",\"yaxis\":\"y\",\"type\":\"histogram\"},{\"alignmentgroup\":\"True\",\"bingroup\":\"x\",\"hovertemplate\":\"variable=wide_variable_80\\u003cbr\\u003evalue=%{x}\\u003cbr\\u003ecount=%{y}\\u003cextra\\u003e\\u003c\\u002fextra\\u003e\",\"legendgroup\":\"wide_variable_80\",\"marker\":{\"color\":\"#636efa\",\"pattern\":{\"shape\":\"\"}},\"name\":\"wide_variable_80\",\"nbinsx\":61,\"offsetgroup\":\"wide_variable_80\",\"orientation\":\"v\",\"showlegend\":true,\"x\":[20897],\"xaxis\":\"x\",\"yaxis\":\"y\",\"type\":\"histogram\"},{\"alignmentgroup\":\"True\",\"bingroup\":\"x\",\"hovertemplate\":\"variable=wide_variable_81\\u003cbr\\u003evalue=%{x}\\u003cbr\\u003ecount=%{y}\\u003cextra\\u003e\\u003c\\u002fextra\\u003e\",\"legendgroup\":\"wide_variable_81\",\"marker\":{\"color\":\"#EF553B\",\"pattern\":{\"shape\":\"\"}},\"name\":\"wide_variable_81\",\"nbinsx\":61,\"offsetgroup\":\"wide_variable_81\",\"orientation\":\"v\",\"showlegend\":true,\"x\":[20939],\"xaxis\":\"x\",\"yaxis\":\"y\",\"type\":\"histogram\"},{\"alignmentgroup\":\"True\",\"bingroup\":\"x\",\"hovertemplate\":\"variable=wide_variable_82\\u003cbr\\u003evalue=%{x}\\u003cbr\\u003ecount=%{y}\\u003cextra\\u003e\\u003c\\u002fextra\\u003e\",\"legendgroup\":\"wide_variable_82\",\"marker\":{\"color\":\"#00cc96\",\"pattern\":{\"shape\":\"\"}},\"name\":\"wide_variable_82\",\"nbinsx\":61,\"offsetgroup\":\"wide_variable_82\",\"orientation\":\"v\",\"showlegend\":true,\"x\":[20911],\"xaxis\":\"x\",\"yaxis\":\"y\",\"type\":\"histogram\"},{\"alignmentgroup\":\"True\",\"bingroup\":\"x\",\"hovertemplate\":\"variable=wide_variable_83\\u003cbr\\u003evalue=%{x}\\u003cbr\\u003ecount=%{y}\\u003cextra\\u003e\\u003c\\u002fextra\\u003e\",\"legendgroup\":\"wide_variable_83\",\"marker\":{\"color\":\"#ab63fa\",\"pattern\":{\"shape\":\"\"}},\"name\":\"wide_variable_83\",\"nbinsx\":61,\"offsetgroup\":\"wide_variable_83\",\"orientation\":\"v\",\"showlegend\":true,\"x\":[20946],\"xaxis\":\"x\",\"yaxis\":\"y\",\"type\":\"histogram\"},{\"alignmentgroup\":\"True\",\"bingroup\":\"x\",\"hovertemplate\":\"variable=wide_variable_84\\u003cbr\\u003evalue=%{x}\\u003cbr\\u003ecount=%{y}\\u003cextra\\u003e\\u003c\\u002fextra\\u003e\",\"legendgroup\":\"wide_variable_84\",\"marker\":{\"color\":\"#FFA15A\",\"pattern\":{\"shape\":\"\"}},\"name\":\"wide_variable_84\",\"nbinsx\":61,\"offsetgroup\":\"wide_variable_84\",\"orientation\":\"v\",\"showlegend\":true,\"x\":[20921],\"xaxis\":\"x\",\"yaxis\":\"y\",\"type\":\"histogram\"},{\"alignmentgroup\":\"True\",\"bingroup\":\"x\",\"hovertemplate\":\"variable=wide_variable_85\\u003cbr\\u003evalue=%{x}\\u003cbr\\u003ecount=%{y}\\u003cextra\\u003e\\u003c\\u002fextra\\u003e\",\"legendgroup\":\"wide_variable_85\",\"marker\":{\"color\":\"#19d3f3\",\"pattern\":{\"shape\":\"\"}},\"name\":\"wide_variable_85\",\"nbinsx\":61,\"offsetgroup\":\"wide_variable_85\",\"orientation\":\"v\",\"showlegend\":true,\"x\":[20891],\"xaxis\":\"x\",\"yaxis\":\"y\",\"type\":\"histogram\"},{\"alignmentgroup\":\"True\",\"bingroup\":\"x\",\"hovertemplate\":\"variable=wide_variable_86\\u003cbr\\u003evalue=%{x}\\u003cbr\\u003ecount=%{y}\\u003cextra\\u003e\\u003c\\u002fextra\\u003e\",\"legendgroup\":\"wide_variable_86\",\"marker\":{\"color\":\"#FF6692\",\"pattern\":{\"shape\":\"\"}},\"name\":\"wide_variable_86\",\"nbinsx\":61,\"offsetgroup\":\"wide_variable_86\",\"orientation\":\"v\",\"showlegend\":true,\"x\":[20891],\"xaxis\":\"x\",\"yaxis\":\"y\",\"type\":\"histogram\"},{\"alignmentgroup\":\"True\",\"bingroup\":\"x\",\"hovertemplate\":\"variable=wide_variable_87\\u003cbr\\u003evalue=%{x}\\u003cbr\\u003ecount=%{y}\\u003cextra\\u003e\\u003c\\u002fextra\\u003e\",\"legendgroup\":\"wide_variable_87\",\"marker\":{\"color\":\"#B6E880\",\"pattern\":{\"shape\":\"\"}},\"name\":\"wide_variable_87\",\"nbinsx\":61,\"offsetgroup\":\"wide_variable_87\",\"orientation\":\"v\",\"showlegend\":true,\"x\":[20891],\"xaxis\":\"x\",\"yaxis\":\"y\",\"type\":\"histogram\"},{\"alignmentgroup\":\"True\",\"bingroup\":\"x\",\"hovertemplate\":\"variable=wide_variable_88\\u003cbr\\u003evalue=%{x}\\u003cbr\\u003ecount=%{y}\\u003cextra\\u003e\\u003c\\u002fextra\\u003e\",\"legendgroup\":\"wide_variable_88\",\"marker\":{\"color\":\"#FF97FF\",\"pattern\":{\"shape\":\"\"}},\"name\":\"wide_variable_88\",\"nbinsx\":61,\"offsetgroup\":\"wide_variable_88\",\"orientation\":\"v\",\"showlegend\":true,\"x\":[20935],\"xaxis\":\"x\",\"yaxis\":\"y\",\"type\":\"histogram\"},{\"alignmentgroup\":\"True\",\"bingroup\":\"x\",\"hovertemplate\":\"variable=wide_variable_89\\u003cbr\\u003evalue=%{x}\\u003cbr\\u003ecount=%{y}\\u003cextra\\u003e\\u003c\\u002fextra\\u003e\",\"legendgroup\":\"wide_variable_89\",\"marker\":{\"color\":\"#FECB52\",\"pattern\":{\"shape\":\"\"}},\"name\":\"wide_variable_89\",\"nbinsx\":61,\"offsetgroup\":\"wide_variable_89\",\"orientation\":\"v\",\"showlegend\":true,\"x\":[20954],\"xaxis\":\"x\",\"yaxis\":\"y\",\"type\":\"histogram\"},{\"alignmentgroup\":\"True\",\"bingroup\":\"x\",\"hovertemplate\":\"variable=wide_variable_90\\u003cbr\\u003evalue=%{x}\\u003cbr\\u003ecount=%{y}\\u003cextra\\u003e\\u003c\\u002fextra\\u003e\",\"legendgroup\":\"wide_variable_90\",\"marker\":{\"color\":\"#636efa\",\"pattern\":{\"shape\":\"\"}},\"name\":\"wide_variable_90\",\"nbinsx\":61,\"offsetgroup\":\"wide_variable_90\",\"orientation\":\"v\",\"showlegend\":true,\"x\":[20842],\"xaxis\":\"x\",\"yaxis\":\"y\",\"type\":\"histogram\"},{\"alignmentgroup\":\"True\",\"bingroup\":\"x\",\"hovertemplate\":\"variable=wide_variable_91\\u003cbr\\u003evalue=%{x}\\u003cbr\\u003ecount=%{y}\\u003cextra\\u003e\\u003c\\u002fextra\\u003e\",\"legendgroup\":\"wide_variable_91\",\"marker\":{\"color\":\"#EF553B\",\"pattern\":{\"shape\":\"\"}},\"name\":\"wide_variable_91\",\"nbinsx\":61,\"offsetgroup\":\"wide_variable_91\",\"orientation\":\"v\",\"showlegend\":true,\"x\":[20974],\"xaxis\":\"x\",\"yaxis\":\"y\",\"type\":\"histogram\"},{\"alignmentgroup\":\"True\",\"bingroup\":\"x\",\"hovertemplate\":\"variable=wide_variable_92\\u003cbr\\u003evalue=%{x}\\u003cbr\\u003ecount=%{y}\\u003cextra\\u003e\\u003c\\u002fextra\\u003e\",\"legendgroup\":\"wide_variable_92\",\"marker\":{\"color\":\"#00cc96\",\"pattern\":{\"shape\":\"\"}},\"name\":\"wide_variable_92\",\"nbinsx\":61,\"offsetgroup\":\"wide_variable_92\",\"orientation\":\"v\",\"showlegend\":true,\"x\":[20958],\"xaxis\":\"x\",\"yaxis\":\"y\",\"type\":\"histogram\"},{\"alignmentgroup\":\"True\",\"bingroup\":\"x\",\"hovertemplate\":\"variable=wide_variable_93\\u003cbr\\u003evalue=%{x}\\u003cbr\\u003ecount=%{y}\\u003cextra\\u003e\\u003c\\u002fextra\\u003e\",\"legendgroup\":\"wide_variable_93\",\"marker\":{\"color\":\"#ab63fa\",\"pattern\":{\"shape\":\"\"}},\"name\":\"wide_variable_93\",\"nbinsx\":61,\"offsetgroup\":\"wide_variable_93\",\"orientation\":\"v\",\"showlegend\":true,\"x\":[21015],\"xaxis\":\"x\",\"yaxis\":\"y\",\"type\":\"histogram\"},{\"alignmentgroup\":\"True\",\"bingroup\":\"x\",\"hovertemplate\":\"variable=wide_variable_94\\u003cbr\\u003evalue=%{x}\\u003cbr\\u003ecount=%{y}\\u003cextra\\u003e\\u003c\\u002fextra\\u003e\",\"legendgroup\":\"wide_variable_94\",\"marker\":{\"color\":\"#FFA15A\",\"pattern\":{\"shape\":\"\"}},\"name\":\"wide_variable_94\",\"nbinsx\":61,\"offsetgroup\":\"wide_variable_94\",\"orientation\":\"v\",\"showlegend\":true,\"x\":[20952],\"xaxis\":\"x\",\"yaxis\":\"y\",\"type\":\"histogram\"},{\"alignmentgroup\":\"True\",\"bingroup\":\"x\",\"hovertemplate\":\"variable=wide_variable_95\\u003cbr\\u003evalue=%{x}\\u003cbr\\u003ecount=%{y}\\u003cextra\\u003e\\u003c\\u002fextra\\u003e\",\"legendgroup\":\"wide_variable_95\",\"marker\":{\"color\":\"#19d3f3\",\"pattern\":{\"shape\":\"\"}},\"name\":\"wide_variable_95\",\"nbinsx\":61,\"offsetgroup\":\"wide_variable_95\",\"orientation\":\"v\",\"showlegend\":true,\"x\":[20974],\"xaxis\":\"x\",\"yaxis\":\"y\",\"type\":\"histogram\"},{\"alignmentgroup\":\"True\",\"bingroup\":\"x\",\"hovertemplate\":\"variable=wide_variable_96\\u003cbr\\u003evalue=%{x}\\u003cbr\\u003ecount=%{y}\\u003cextra\\u003e\\u003c\\u002fextra\\u003e\",\"legendgroup\":\"wide_variable_96\",\"marker\":{\"color\":\"#FF6692\",\"pattern\":{\"shape\":\"\"}},\"name\":\"wide_variable_96\",\"nbinsx\":61,\"offsetgroup\":\"wide_variable_96\",\"orientation\":\"v\",\"showlegend\":true,\"x\":[20974],\"xaxis\":\"x\",\"yaxis\":\"y\",\"type\":\"histogram\"},{\"alignmentgroup\":\"True\",\"bingroup\":\"x\",\"hovertemplate\":\"variable=wide_variable_97\\u003cbr\\u003evalue=%{x}\\u003cbr\\u003ecount=%{y}\\u003cextra\\u003e\\u003c\\u002fextra\\u003e\",\"legendgroup\":\"wide_variable_97\",\"marker\":{\"color\":\"#B6E880\",\"pattern\":{\"shape\":\"\"}},\"name\":\"wide_variable_97\",\"nbinsx\":61,\"offsetgroup\":\"wide_variable_97\",\"orientation\":\"v\",\"showlegend\":true,\"x\":[20983],\"xaxis\":\"x\",\"yaxis\":\"y\",\"type\":\"histogram\"},{\"alignmentgroup\":\"True\",\"bingroup\":\"x\",\"hovertemplate\":\"variable=wide_variable_98\\u003cbr\\u003evalue=%{x}\\u003cbr\\u003ecount=%{y}\\u003cextra\\u003e\\u003c\\u002fextra\\u003e\",\"legendgroup\":\"wide_variable_98\",\"marker\":{\"color\":\"#FF97FF\",\"pattern\":{\"shape\":\"\"}},\"name\":\"wide_variable_98\",\"nbinsx\":61,\"offsetgroup\":\"wide_variable_98\",\"orientation\":\"v\",\"showlegend\":true,\"x\":[20939],\"xaxis\":\"x\",\"yaxis\":\"y\",\"type\":\"histogram\"},{\"alignmentgroup\":\"True\",\"bingroup\":\"x\",\"hovertemplate\":\"variable=wide_variable_99\\u003cbr\\u003evalue=%{x}\\u003cbr\\u003ecount=%{y}\\u003cextra\\u003e\\u003c\\u002fextra\\u003e\",\"legendgroup\":\"wide_variable_99\",\"marker\":{\"color\":\"#FECB52\",\"pattern\":{\"shape\":\"\"}},\"name\":\"wide_variable_99\",\"nbinsx\":61,\"offsetgroup\":\"wide_variable_99\",\"orientation\":\"v\",\"showlegend\":true,\"x\":[20765],\"xaxis\":\"x\",\"yaxis\":\"y\",\"type\":\"histogram\"},{\"alignmentgroup\":\"True\",\"bingroup\":\"x\",\"hovertemplate\":\"variable=wide_variable_100\\u003cbr\\u003evalue=%{x}\\u003cbr\\u003ecount=%{y}\\u003cextra\\u003e\\u003c\\u002fextra\\u003e\",\"legendgroup\":\"wide_variable_100\",\"marker\":{\"color\":\"#636efa\",\"pattern\":{\"shape\":\"\"}},\"name\":\"wide_variable_100\",\"nbinsx\":61,\"offsetgroup\":\"wide_variable_100\",\"orientation\":\"v\",\"showlegend\":true,\"x\":[20726],\"xaxis\":\"x\",\"yaxis\":\"y\",\"type\":\"histogram\"},{\"alignmentgroup\":\"True\",\"bingroup\":\"x\",\"hovertemplate\":\"variable=wide_variable_101\\u003cbr\\u003evalue=%{x}\\u003cbr\\u003ecount=%{y}\\u003cextra\\u003e\\u003c\\u002fextra\\u003e\",\"legendgroup\":\"wide_variable_101\",\"marker\":{\"color\":\"#EF553B\",\"pattern\":{\"shape\":\"\"}},\"name\":\"wide_variable_101\",\"nbinsx\":61,\"offsetgroup\":\"wide_variable_101\",\"orientation\":\"v\",\"showlegend\":true,\"x\":[20986],\"xaxis\":\"x\",\"yaxis\":\"y\",\"type\":\"histogram\"},{\"alignmentgroup\":\"True\",\"bingroup\":\"x\",\"hovertemplate\":\"variable=wide_variable_102\\u003cbr\\u003evalue=%{x}\\u003cbr\\u003ecount=%{y}\\u003cextra\\u003e\\u003c\\u002fextra\\u003e\",\"legendgroup\":\"wide_variable_102\",\"marker\":{\"color\":\"#00cc96\",\"pattern\":{\"shape\":\"\"}},\"name\":\"wide_variable_102\",\"nbinsx\":61,\"offsetgroup\":\"wide_variable_102\",\"orientation\":\"v\",\"showlegend\":true,\"x\":[20265],\"xaxis\":\"x\",\"yaxis\":\"y\",\"type\":\"histogram\"},{\"alignmentgroup\":\"True\",\"bingroup\":\"x\",\"hovertemplate\":\"variable=wide_variable_103\\u003cbr\\u003evalue=%{x}\\u003cbr\\u003ecount=%{y}\\u003cextra\\u003e\\u003c\\u002fextra\\u003e\",\"legendgroup\":\"wide_variable_103\",\"marker\":{\"color\":\"#ab63fa\",\"pattern\":{\"shape\":\"\"}},\"name\":\"wide_variable_103\",\"nbinsx\":61,\"offsetgroup\":\"wide_variable_103\",\"orientation\":\"v\",\"showlegend\":true,\"x\":[20997],\"xaxis\":\"x\",\"yaxis\":\"y\",\"type\":\"histogram\"},{\"alignmentgroup\":\"True\",\"bingroup\":\"x\",\"hovertemplate\":\"variable=wide_variable_104\\u003cbr\\u003evalue=%{x}\\u003cbr\\u003ecount=%{y}\\u003cextra\\u003e\\u003c\\u002fextra\\u003e\",\"legendgroup\":\"wide_variable_104\",\"marker\":{\"color\":\"#FFA15A\",\"pattern\":{\"shape\":\"\"}},\"name\":\"wide_variable_104\",\"nbinsx\":61,\"offsetgroup\":\"wide_variable_104\",\"orientation\":\"v\",\"showlegend\":true,\"x\":[20265],\"xaxis\":\"x\",\"yaxis\":\"y\",\"type\":\"histogram\"},{\"alignmentgroup\":\"True\",\"bingroup\":\"x\",\"hovertemplate\":\"variable=wide_variable_105\\u003cbr\\u003evalue=%{x}\\u003cbr\\u003ecount=%{y}\\u003cextra\\u003e\\u003c\\u002fextra\\u003e\",\"legendgroup\":\"wide_variable_105\",\"marker\":{\"color\":\"#19d3f3\",\"pattern\":{\"shape\":\"\"}},\"name\":\"wide_variable_105\",\"nbinsx\":61,\"offsetgroup\":\"wide_variable_105\",\"orientation\":\"v\",\"showlegend\":true,\"x\":[20812],\"xaxis\":\"x\",\"yaxis\":\"y\",\"type\":\"histogram\"},{\"alignmentgroup\":\"True\",\"bingroup\":\"x\",\"hovertemplate\":\"variable=wide_variable_106\\u003cbr\\u003evalue=%{x}\\u003cbr\\u003ecount=%{y}\\u003cextra\\u003e\\u003c\\u002fextra\\u003e\",\"legendgroup\":\"wide_variable_106\",\"marker\":{\"color\":\"#FF6692\",\"pattern\":{\"shape\":\"\"}},\"name\":\"wide_variable_106\",\"nbinsx\":61,\"offsetgroup\":\"wide_variable_106\",\"orientation\":\"v\",\"showlegend\":true,\"x\":[20983],\"xaxis\":\"x\",\"yaxis\":\"y\",\"type\":\"histogram\"},{\"alignmentgroup\":\"True\",\"bingroup\":\"x\",\"hovertemplate\":\"variable=wide_variable_107\\u003cbr\\u003evalue=%{x}\\u003cbr\\u003ecount=%{y}\\u003cextra\\u003e\\u003c\\u002fextra\\u003e\",\"legendgroup\":\"wide_variable_107\",\"marker\":{\"color\":\"#B6E880\",\"pattern\":{\"shape\":\"\"}},\"name\":\"wide_variable_107\",\"nbinsx\":61,\"offsetgroup\":\"wide_variable_107\",\"orientation\":\"v\",\"showlegend\":true,\"x\":[20846],\"xaxis\":\"x\",\"yaxis\":\"y\",\"type\":\"histogram\"},{\"alignmentgroup\":\"True\",\"bingroup\":\"x\",\"hovertemplate\":\"variable=wide_variable_108\\u003cbr\\u003evalue=%{x}\\u003cbr\\u003ecount=%{y}\\u003cextra\\u003e\\u003c\\u002fextra\\u003e\",\"legendgroup\":\"wide_variable_108\",\"marker\":{\"color\":\"#FF97FF\",\"pattern\":{\"shape\":\"\"}},\"name\":\"wide_variable_108\",\"nbinsx\":61,\"offsetgroup\":\"wide_variable_108\",\"orientation\":\"v\",\"showlegend\":true,\"x\":[20738],\"xaxis\":\"x\",\"yaxis\":\"y\",\"type\":\"histogram\"},{\"alignmentgroup\":\"True\",\"bingroup\":\"x\",\"hovertemplate\":\"variable=wide_variable_109\\u003cbr\\u003evalue=%{x}\\u003cbr\\u003ecount=%{y}\\u003cextra\\u003e\\u003c\\u002fextra\\u003e\",\"legendgroup\":\"wide_variable_109\",\"marker\":{\"color\":\"#FECB52\",\"pattern\":{\"shape\":\"\"}},\"name\":\"wide_variable_109\",\"nbinsx\":61,\"offsetgroup\":\"wide_variable_109\",\"orientation\":\"v\",\"showlegend\":true,\"x\":[20869],\"xaxis\":\"x\",\"yaxis\":\"y\",\"type\":\"histogram\"},{\"alignmentgroup\":\"True\",\"bingroup\":\"x\",\"hovertemplate\":\"variable=wide_variable_110\\u003cbr\\u003evalue=%{x}\\u003cbr\\u003ecount=%{y}\\u003cextra\\u003e\\u003c\\u002fextra\\u003e\",\"legendgroup\":\"wide_variable_110\",\"marker\":{\"color\":\"#636efa\",\"pattern\":{\"shape\":\"\"}},\"name\":\"wide_variable_110\",\"nbinsx\":61,\"offsetgroup\":\"wide_variable_110\",\"orientation\":\"v\",\"showlegend\":true,\"x\":[20869],\"xaxis\":\"x\",\"yaxis\":\"y\",\"type\":\"histogram\"},{\"alignmentgroup\":\"True\",\"bingroup\":\"x\",\"hovertemplate\":\"variable=wide_variable_111\\u003cbr\\u003evalue=%{x}\\u003cbr\\u003ecount=%{y}\\u003cextra\\u003e\\u003c\\u002fextra\\u003e\",\"legendgroup\":\"wide_variable_111\",\"marker\":{\"color\":\"#EF553B\",\"pattern\":{\"shape\":\"\"}},\"name\":\"wide_variable_111\",\"nbinsx\":61,\"offsetgroup\":\"wide_variable_111\",\"orientation\":\"v\",\"showlegend\":true,\"x\":[20724],\"xaxis\":\"x\",\"yaxis\":\"y\",\"type\":\"histogram\"},{\"alignmentgroup\":\"True\",\"bingroup\":\"x\",\"hovertemplate\":\"variable=wide_variable_112\\u003cbr\\u003evalue=%{x}\\u003cbr\\u003ecount=%{y}\\u003cextra\\u003e\\u003c\\u002fextra\\u003e\",\"legendgroup\":\"wide_variable_112\",\"marker\":{\"color\":\"#00cc96\",\"pattern\":{\"shape\":\"\"}},\"name\":\"wide_variable_112\",\"nbinsx\":61,\"offsetgroup\":\"wide_variable_112\",\"orientation\":\"v\",\"showlegend\":true,\"x\":[20808],\"xaxis\":\"x\",\"yaxis\":\"y\",\"type\":\"histogram\"},{\"alignmentgroup\":\"True\",\"bingroup\":\"x\",\"hovertemplate\":\"variable=wide_variable_113\\u003cbr\\u003evalue=%{x}\\u003cbr\\u003ecount=%{y}\\u003cextra\\u003e\\u003c\\u002fextra\\u003e\",\"legendgroup\":\"wide_variable_113\",\"marker\":{\"color\":\"#ab63fa\",\"pattern\":{\"shape\":\"\"}},\"name\":\"wide_variable_113\",\"nbinsx\":61,\"offsetgroup\":\"wide_variable_113\",\"orientation\":\"v\",\"showlegend\":true,\"x\":[20969],\"xaxis\":\"x\",\"yaxis\":\"y\",\"type\":\"histogram\"},{\"alignmentgroup\":\"True\",\"bingroup\":\"x\",\"hovertemplate\":\"variable=wide_variable_114\\u003cbr\\u003evalue=%{x}\\u003cbr\\u003ecount=%{y}\\u003cextra\\u003e\\u003c\\u002fextra\\u003e\",\"legendgroup\":\"wide_variable_114\",\"marker\":{\"color\":\"#FFA15A\",\"pattern\":{\"shape\":\"\"}},\"name\":\"wide_variable_114\",\"nbinsx\":61,\"offsetgroup\":\"wide_variable_114\",\"orientation\":\"v\",\"showlegend\":true,\"x\":[20106],\"xaxis\":\"x\",\"yaxis\":\"y\",\"type\":\"histogram\"},{\"alignmentgroup\":\"True\",\"bingroup\":\"x\",\"hovertemplate\":\"variable=wide_variable_115\\u003cbr\\u003evalue=%{x}\\u003cbr\\u003ecount=%{y}\\u003cextra\\u003e\\u003c\\u002fextra\\u003e\",\"legendgroup\":\"wide_variable_115\",\"marker\":{\"color\":\"#19d3f3\",\"pattern\":{\"shape\":\"\"}},\"name\":\"wide_variable_115\",\"nbinsx\":61,\"offsetgroup\":\"wide_variable_115\",\"orientation\":\"v\",\"showlegend\":true,\"x\":[20948],\"xaxis\":\"x\",\"yaxis\":\"y\",\"type\":\"histogram\"},{\"alignmentgroup\":\"True\",\"bingroup\":\"x\",\"hovertemplate\":\"variable=wide_variable_116\\u003cbr\\u003evalue=%{x}\\u003cbr\\u003ecount=%{y}\\u003cextra\\u003e\\u003c\\u002fextra\\u003e\",\"legendgroup\":\"wide_variable_116\",\"marker\":{\"color\":\"#FF6692\",\"pattern\":{\"shape\":\"\"}},\"name\":\"wide_variable_116\",\"nbinsx\":61,\"offsetgroup\":\"wide_variable_116\",\"orientation\":\"v\",\"showlegend\":true,\"x\":[20911],\"xaxis\":\"x\",\"yaxis\":\"y\",\"type\":\"histogram\"},{\"alignmentgroup\":\"True\",\"bingroup\":\"x\",\"hovertemplate\":\"variable=wide_variable_117\\u003cbr\\u003evalue=%{x}\\u003cbr\\u003ecount=%{y}\\u003cextra\\u003e\\u003c\\u002fextra\\u003e\",\"legendgroup\":\"wide_variable_117\",\"marker\":{\"color\":\"#B6E880\",\"pattern\":{\"shape\":\"\"}},\"name\":\"wide_variable_117\",\"nbinsx\":61,\"offsetgroup\":\"wide_variable_117\",\"orientation\":\"v\",\"showlegend\":true,\"x\":[20813],\"xaxis\":\"x\",\"yaxis\":\"y\",\"type\":\"histogram\"},{\"alignmentgroup\":\"True\",\"bingroup\":\"x\",\"hovertemplate\":\"variable=wide_variable_118\\u003cbr\\u003evalue=%{x}\\u003cbr\\u003ecount=%{y}\\u003cextra\\u003e\\u003c\\u002fextra\\u003e\",\"legendgroup\":\"wide_variable_118\",\"marker\":{\"color\":\"#FF97FF\",\"pattern\":{\"shape\":\"\"}},\"name\":\"wide_variable_118\",\"nbinsx\":61,\"offsetgroup\":\"wide_variable_118\",\"orientation\":\"v\",\"showlegend\":true,\"x\":[20933],\"xaxis\":\"x\",\"yaxis\":\"y\",\"type\":\"histogram\"},{\"alignmentgroup\":\"True\",\"bingroup\":\"x\",\"hovertemplate\":\"variable=wide_variable_119\\u003cbr\\u003evalue=%{x}\\u003cbr\\u003ecount=%{y}\\u003cextra\\u003e\\u003c\\u002fextra\\u003e\",\"legendgroup\":\"wide_variable_119\",\"marker\":{\"color\":\"#FECB52\",\"pattern\":{\"shape\":\"\"}},\"name\":\"wide_variable_119\",\"nbinsx\":61,\"offsetgroup\":\"wide_variable_119\",\"orientation\":\"v\",\"showlegend\":true,\"x\":[20969],\"xaxis\":\"x\",\"yaxis\":\"y\",\"type\":\"histogram\"},{\"alignmentgroup\":\"True\",\"bingroup\":\"x\",\"hovertemplate\":\"variable=wide_variable_120\\u003cbr\\u003evalue=%{x}\\u003cbr\\u003ecount=%{y}\\u003cextra\\u003e\\u003c\\u002fextra\\u003e\",\"legendgroup\":\"wide_variable_120\",\"marker\":{\"color\":\"#636efa\",\"pattern\":{\"shape\":\"\"}},\"name\":\"wide_variable_120\",\"nbinsx\":61,\"offsetgroup\":\"wide_variable_120\",\"orientation\":\"v\",\"showlegend\":true,\"x\":[20738],\"xaxis\":\"x\",\"yaxis\":\"y\",\"type\":\"histogram\"},{\"alignmentgroup\":\"True\",\"bingroup\":\"x\",\"hovertemplate\":\"variable=wide_variable_121\\u003cbr\\u003evalue=%{x}\\u003cbr\\u003ecount=%{y}\\u003cextra\\u003e\\u003c\\u002fextra\\u003e\",\"legendgroup\":\"wide_variable_121\",\"marker\":{\"color\":\"#EF553B\",\"pattern\":{\"shape\":\"\"}},\"name\":\"wide_variable_121\",\"nbinsx\":61,\"offsetgroup\":\"wide_variable_121\",\"orientation\":\"v\",\"showlegend\":true,\"x\":[20971],\"xaxis\":\"x\",\"yaxis\":\"y\",\"type\":\"histogram\"},{\"alignmentgroup\":\"True\",\"bingroup\":\"x\",\"hovertemplate\":\"variable=wide_variable_122\\u003cbr\\u003evalue=%{x}\\u003cbr\\u003ecount=%{y}\\u003cextra\\u003e\\u003c\\u002fextra\\u003e\",\"legendgroup\":\"wide_variable_122\",\"marker\":{\"color\":\"#00cc96\",\"pattern\":{\"shape\":\"\"}},\"name\":\"wide_variable_122\",\"nbinsx\":61,\"offsetgroup\":\"wide_variable_122\",\"orientation\":\"v\",\"showlegend\":true,\"x\":[20985],\"xaxis\":\"x\",\"yaxis\":\"y\",\"type\":\"histogram\"},{\"alignmentgroup\":\"True\",\"bingroup\":\"x\",\"hovertemplate\":\"variable=wide_variable_123\\u003cbr\\u003evalue=%{x}\\u003cbr\\u003ecount=%{y}\\u003cextra\\u003e\\u003c\\u002fextra\\u003e\",\"legendgroup\":\"wide_variable_123\",\"marker\":{\"color\":\"#ab63fa\",\"pattern\":{\"shape\":\"\"}},\"name\":\"wide_variable_123\",\"nbinsx\":61,\"offsetgroup\":\"wide_variable_123\",\"orientation\":\"v\",\"showlegend\":true,\"x\":[20972],\"xaxis\":\"x\",\"yaxis\":\"y\",\"type\":\"histogram\"},{\"alignmentgroup\":\"True\",\"bingroup\":\"x\",\"hovertemplate\":\"variable=wide_variable_124\\u003cbr\\u003evalue=%{x}\\u003cbr\\u003ecount=%{y}\\u003cextra\\u003e\\u003c\\u002fextra\\u003e\",\"legendgroup\":\"wide_variable_124\",\"marker\":{\"color\":\"#FFA15A\",\"pattern\":{\"shape\":\"\"}},\"name\":\"wide_variable_124\",\"nbinsx\":61,\"offsetgroup\":\"wide_variable_124\",\"orientation\":\"v\",\"showlegend\":true,\"x\":[20958],\"xaxis\":\"x\",\"yaxis\":\"y\",\"type\":\"histogram\"},{\"alignmentgroup\":\"True\",\"bingroup\":\"x\",\"hovertemplate\":\"variable=wide_variable_125\\u003cbr\\u003evalue=%{x}\\u003cbr\\u003ecount=%{y}\\u003cextra\\u003e\\u003c\\u002fextra\\u003e\",\"legendgroup\":\"wide_variable_125\",\"marker\":{\"color\":\"#19d3f3\",\"pattern\":{\"shape\":\"\"}},\"name\":\"wide_variable_125\",\"nbinsx\":61,\"offsetgroup\":\"wide_variable_125\",\"orientation\":\"v\",\"showlegend\":true,\"x\":[20986],\"xaxis\":\"x\",\"yaxis\":\"y\",\"type\":\"histogram\"},{\"alignmentgroup\":\"True\",\"bingroup\":\"x\",\"hovertemplate\":\"variable=wide_variable_126\\u003cbr\\u003evalue=%{x}\\u003cbr\\u003ecount=%{y}\\u003cextra\\u003e\\u003c\\u002fextra\\u003e\",\"legendgroup\":\"wide_variable_126\",\"marker\":{\"color\":\"#FF6692\",\"pattern\":{\"shape\":\"\"}},\"name\":\"wide_variable_126\",\"nbinsx\":61,\"offsetgroup\":\"wide_variable_126\",\"orientation\":\"v\",\"showlegend\":true,\"x\":[20846],\"xaxis\":\"x\",\"yaxis\":\"y\",\"type\":\"histogram\"},{\"alignmentgroup\":\"True\",\"bingroup\":\"x\",\"hovertemplate\":\"variable=wide_variable_127\\u003cbr\\u003evalue=%{x}\\u003cbr\\u003ecount=%{y}\\u003cextra\\u003e\\u003c\\u002fextra\\u003e\",\"legendgroup\":\"wide_variable_127\",\"marker\":{\"color\":\"#B6E880\",\"pattern\":{\"shape\":\"\"}},\"name\":\"wide_variable_127\",\"nbinsx\":61,\"offsetgroup\":\"wide_variable_127\",\"orientation\":\"v\",\"showlegend\":true,\"x\":[20738],\"xaxis\":\"x\",\"yaxis\":\"y\",\"type\":\"histogram\"},{\"alignmentgroup\":\"True\",\"bingroup\":\"x\",\"hovertemplate\":\"variable=wide_variable_128\\u003cbr\\u003evalue=%{x}\\u003cbr\\u003ecount=%{y}\\u003cextra\\u003e\\u003c\\u002fextra\\u003e\",\"legendgroup\":\"wide_variable_128\",\"marker\":{\"color\":\"#FF97FF\",\"pattern\":{\"shape\":\"\"}},\"name\":\"wide_variable_128\",\"nbinsx\":61,\"offsetgroup\":\"wide_variable_128\",\"orientation\":\"v\",\"showlegend\":true,\"x\":[20891],\"xaxis\":\"x\",\"yaxis\":\"y\",\"type\":\"histogram\"},{\"alignmentgroup\":\"True\",\"bingroup\":\"x\",\"hovertemplate\":\"variable=wide_variable_129\\u003cbr\\u003evalue=%{x}\\u003cbr\\u003ecount=%{y}\\u003cextra\\u003e\\u003c\\u002fextra\\u003e\",\"legendgroup\":\"wide_variable_129\",\"marker\":{\"color\":\"#FECB52\",\"pattern\":{\"shape\":\"\"}},\"name\":\"wide_variable_129\",\"nbinsx\":61,\"offsetgroup\":\"wide_variable_129\",\"orientation\":\"v\",\"showlegend\":true,\"x\":[20891],\"xaxis\":\"x\",\"yaxis\":\"y\",\"type\":\"histogram\"},{\"alignmentgroup\":\"True\",\"bingroup\":\"x\",\"hovertemplate\":\"variable=wide_variable_130\\u003cbr\\u003evalue=%{x}\\u003cbr\\u003ecount=%{y}\\u003cextra\\u003e\\u003c\\u002fextra\\u003e\",\"legendgroup\":\"wide_variable_130\",\"marker\":{\"color\":\"#636efa\",\"pattern\":{\"shape\":\"\"}},\"name\":\"wide_variable_130\",\"nbinsx\":61,\"offsetgroup\":\"wide_variable_130\",\"orientation\":\"v\",\"showlegend\":true,\"x\":[20939],\"xaxis\":\"x\",\"yaxis\":\"y\",\"type\":\"histogram\"},{\"alignmentgroup\":\"True\",\"bingroup\":\"x\",\"hovertemplate\":\"variable=wide_variable_131\\u003cbr\\u003evalue=%{x}\\u003cbr\\u003ecount=%{y}\\u003cextra\\u003e\\u003c\\u002fextra\\u003e\",\"legendgroup\":\"wide_variable_131\",\"marker\":{\"color\":\"#EF553B\",\"pattern\":{\"shape\":\"\"}},\"name\":\"wide_variable_131\",\"nbinsx\":61,\"offsetgroup\":\"wide_variable_131\",\"orientation\":\"v\",\"showlegend\":true,\"x\":[20845],\"xaxis\":\"x\",\"yaxis\":\"y\",\"type\":\"histogram\"},{\"alignmentgroup\":\"True\",\"bingroup\":\"x\",\"hovertemplate\":\"variable=wide_variable_132\\u003cbr\\u003evalue=%{x}\\u003cbr\\u003ecount=%{y}\\u003cextra\\u003e\\u003c\\u002fextra\\u003e\",\"legendgroup\":\"wide_variable_132\",\"marker\":{\"color\":\"#00cc96\",\"pattern\":{\"shape\":\"\"}},\"name\":\"wide_variable_132\",\"nbinsx\":61,\"offsetgroup\":\"wide_variable_132\",\"orientation\":\"v\",\"showlegend\":true,\"x\":[20935],\"xaxis\":\"x\",\"yaxis\":\"y\",\"type\":\"histogram\"},{\"alignmentgroup\":\"True\",\"bingroup\":\"x\",\"hovertemplate\":\"variable=wide_variable_133\\u003cbr\\u003evalue=%{x}\\u003cbr\\u003ecount=%{y}\\u003cextra\\u003e\\u003c\\u002fextra\\u003e\",\"legendgroup\":\"wide_variable_133\",\"marker\":{\"color\":\"#ab63fa\",\"pattern\":{\"shape\":\"\"}},\"name\":\"wide_variable_133\",\"nbinsx\":61,\"offsetgroup\":\"wide_variable_133\",\"orientation\":\"v\",\"showlegend\":true,\"x\":[20935],\"xaxis\":\"x\",\"yaxis\":\"y\",\"type\":\"histogram\"},{\"alignmentgroup\":\"True\",\"bingroup\":\"x\",\"hovertemplate\":\"variable=wide_variable_134\\u003cbr\\u003evalue=%{x}\\u003cbr\\u003ecount=%{y}\\u003cextra\\u003e\\u003c\\u002fextra\\u003e\",\"legendgroup\":\"wide_variable_134\",\"marker\":{\"color\":\"#FFA15A\",\"pattern\":{\"shape\":\"\"}},\"name\":\"wide_variable_134\",\"nbinsx\":61,\"offsetgroup\":\"wide_variable_134\",\"orientation\":\"v\",\"showlegend\":true,\"x\":[20954],\"xaxis\":\"x\",\"yaxis\":\"y\",\"type\":\"histogram\"},{\"alignmentgroup\":\"True\",\"bingroup\":\"x\",\"hovertemplate\":\"variable=wide_variable_135\\u003cbr\\u003evalue=%{x}\\u003cbr\\u003ecount=%{y}\\u003cextra\\u003e\\u003c\\u002fextra\\u003e\",\"legendgroup\":\"wide_variable_135\",\"marker\":{\"color\":\"#19d3f3\",\"pattern\":{\"shape\":\"\"}},\"name\":\"wide_variable_135\",\"nbinsx\":61,\"offsetgroup\":\"wide_variable_135\",\"orientation\":\"v\",\"showlegend\":true,\"x\":[20954],\"xaxis\":\"x\",\"yaxis\":\"y\",\"type\":\"histogram\"},{\"alignmentgroup\":\"True\",\"bingroup\":\"x\",\"hovertemplate\":\"variable=wide_variable_136\\u003cbr\\u003evalue=%{x}\\u003cbr\\u003ecount=%{y}\\u003cextra\\u003e\\u003c\\u002fextra\\u003e\",\"legendgroup\":\"wide_variable_136\",\"marker\":{\"color\":\"#FF6692\",\"pattern\":{\"shape\":\"\"}},\"name\":\"wide_variable_136\",\"nbinsx\":61,\"offsetgroup\":\"wide_variable_136\",\"orientation\":\"v\",\"showlegend\":true,\"x\":[20106],\"xaxis\":\"x\",\"yaxis\":\"y\",\"type\":\"histogram\"},{\"alignmentgroup\":\"True\",\"bingroup\":\"x\",\"hovertemplate\":\"variable=wide_variable_137\\u003cbr\\u003evalue=%{x}\\u003cbr\\u003ecount=%{y}\\u003cextra\\u003e\\u003c\\u002fextra\\u003e\",\"legendgroup\":\"wide_variable_137\",\"marker\":{\"color\":\"#B6E880\",\"pattern\":{\"shape\":\"\"}},\"name\":\"wide_variable_137\",\"nbinsx\":61,\"offsetgroup\":\"wide_variable_137\",\"orientation\":\"v\",\"showlegend\":true,\"x\":[20945],\"xaxis\":\"x\",\"yaxis\":\"y\",\"type\":\"histogram\"},{\"alignmentgroup\":\"True\",\"bingroup\":\"x\",\"hovertemplate\":\"variable=wide_variable_138\\u003cbr\\u003evalue=%{x}\\u003cbr\\u003ecount=%{y}\\u003cextra\\u003e\\u003c\\u002fextra\\u003e\",\"legendgroup\":\"wide_variable_138\",\"marker\":{\"color\":\"#FF97FF\",\"pattern\":{\"shape\":\"\"}},\"name\":\"wide_variable_138\",\"nbinsx\":61,\"offsetgroup\":\"wide_variable_138\",\"orientation\":\"v\",\"showlegend\":true,\"x\":[20952],\"xaxis\":\"x\",\"yaxis\":\"y\",\"type\":\"histogram\"},{\"alignmentgroup\":\"True\",\"bingroup\":\"x\",\"hovertemplate\":\"variable=wide_variable_139\\u003cbr\\u003evalue=%{x}\\u003cbr\\u003ecount=%{y}\\u003cextra\\u003e\\u003c\\u002fextra\\u003e\",\"legendgroup\":\"wide_variable_139\",\"marker\":{\"color\":\"#FECB52\",\"pattern\":{\"shape\":\"\"}},\"name\":\"wide_variable_139\",\"nbinsx\":61,\"offsetgroup\":\"wide_variable_139\",\"orientation\":\"v\",\"showlegend\":true,\"x\":[20952],\"xaxis\":\"x\",\"yaxis\":\"y\",\"type\":\"histogram\"},{\"alignmentgroup\":\"True\",\"bingroup\":\"x\",\"hovertemplate\":\"variable=wide_variable_140\\u003cbr\\u003evalue=%{x}\\u003cbr\\u003ecount=%{y}\\u003cextra\\u003e\\u003c\\u002fextra\\u003e\",\"legendgroup\":\"wide_variable_140\",\"marker\":{\"color\":\"#636efa\",\"pattern\":{\"shape\":\"\"}},\"name\":\"wide_variable_140\",\"nbinsx\":61,\"offsetgroup\":\"wide_variable_140\",\"orientation\":\"v\",\"showlegend\":true,\"x\":[20952],\"xaxis\":\"x\",\"yaxis\":\"y\",\"type\":\"histogram\"},{\"alignmentgroup\":\"True\",\"bingroup\":\"x\",\"hovertemplate\":\"variable=wide_variable_141\\u003cbr\\u003evalue=%{x}\\u003cbr\\u003ecount=%{y}\\u003cextra\\u003e\\u003c\\u002fextra\\u003e\",\"legendgroup\":\"wide_variable_141\",\"marker\":{\"color\":\"#EF553B\",\"pattern\":{\"shape\":\"\"}},\"name\":\"wide_variable_141\",\"nbinsx\":61,\"offsetgroup\":\"wide_variable_141\",\"orientation\":\"v\",\"showlegend\":true,\"x\":[20974],\"xaxis\":\"x\",\"yaxis\":\"y\",\"type\":\"histogram\"},{\"alignmentgroup\":\"True\",\"bingroup\":\"x\",\"hovertemplate\":\"variable=wide_variable_142\\u003cbr\\u003evalue=%{x}\\u003cbr\\u003ecount=%{y}\\u003cextra\\u003e\\u003c\\u002fextra\\u003e\",\"legendgroup\":\"wide_variable_142\",\"marker\":{\"color\":\"#00cc96\",\"pattern\":{\"shape\":\"\"}},\"name\":\"wide_variable_142\",\"nbinsx\":61,\"offsetgroup\":\"wide_variable_142\",\"orientation\":\"v\",\"showlegend\":true,\"x\":[20948],\"xaxis\":\"x\",\"yaxis\":\"y\",\"type\":\"histogram\"},{\"alignmentgroup\":\"True\",\"bingroup\":\"x\",\"hovertemplate\":\"variable=wide_variable_143\\u003cbr\\u003evalue=%{x}\\u003cbr\\u003ecount=%{y}\\u003cextra\\u003e\\u003c\\u002fextra\\u003e\",\"legendgroup\":\"wide_variable_143\",\"marker\":{\"color\":\"#ab63fa\",\"pattern\":{\"shape\":\"\"}},\"name\":\"wide_variable_143\",\"nbinsx\":61,\"offsetgroup\":\"wide_variable_143\",\"orientation\":\"v\",\"showlegend\":true,\"x\":[20812],\"xaxis\":\"x\",\"yaxis\":\"y\",\"type\":\"histogram\"},{\"alignmentgroup\":\"True\",\"bingroup\":\"x\",\"hovertemplate\":\"variable=wide_variable_144\\u003cbr\\u003evalue=%{x}\\u003cbr\\u003ecount=%{y}\\u003cextra\\u003e\\u003c\\u002fextra\\u003e\",\"legendgroup\":\"wide_variable_144\",\"marker\":{\"color\":\"#FFA15A\",\"pattern\":{\"shape\":\"\"}},\"name\":\"wide_variable_144\",\"nbinsx\":61,\"offsetgroup\":\"wide_variable_144\",\"orientation\":\"v\",\"showlegend\":true,\"x\":[20106],\"xaxis\":\"x\",\"yaxis\":\"y\",\"type\":\"histogram\"},{\"alignmentgroup\":\"True\",\"bingroup\":\"x\",\"hovertemplate\":\"variable=wide_variable_145\\u003cbr\\u003evalue=%{x}\\u003cbr\\u003ecount=%{y}\\u003cextra\\u003e\\u003c\\u002fextra\\u003e\",\"legendgroup\":\"wide_variable_145\",\"marker\":{\"color\":\"#19d3f3\",\"pattern\":{\"shape\":\"\"}},\"name\":\"wide_variable_145\",\"nbinsx\":61,\"offsetgroup\":\"wide_variable_145\",\"orientation\":\"v\",\"showlegend\":true,\"x\":[20106],\"xaxis\":\"x\",\"yaxis\":\"y\",\"type\":\"histogram\"},{\"alignmentgroup\":\"True\",\"bingroup\":\"x\",\"hovertemplate\":\"variable=wide_variable_146\\u003cbr\\u003evalue=%{x}\\u003cbr\\u003ecount=%{y}\\u003cextra\\u003e\\u003c\\u002fextra\\u003e\",\"legendgroup\":\"wide_variable_146\",\"marker\":{\"color\":\"#FF6692\",\"pattern\":{\"shape\":\"\"}},\"name\":\"wide_variable_146\",\"nbinsx\":61,\"offsetgroup\":\"wide_variable_146\",\"orientation\":\"v\",\"showlegend\":true,\"x\":[20842],\"xaxis\":\"x\",\"yaxis\":\"y\",\"type\":\"histogram\"},{\"alignmentgroup\":\"True\",\"bingroup\":\"x\",\"hovertemplate\":\"variable=wide_variable_147\\u003cbr\\u003evalue=%{x}\\u003cbr\\u003ecount=%{y}\\u003cextra\\u003e\\u003c\\u002fextra\\u003e\",\"legendgroup\":\"wide_variable_147\",\"marker\":{\"color\":\"#B6E880\",\"pattern\":{\"shape\":\"\"}},\"name\":\"wide_variable_147\",\"nbinsx\":61,\"offsetgroup\":\"wide_variable_147\",\"orientation\":\"v\",\"showlegend\":true,\"x\":[20969],\"xaxis\":\"x\",\"yaxis\":\"y\",\"type\":\"histogram\"},{\"alignmentgroup\":\"True\",\"bingroup\":\"x\",\"hovertemplate\":\"variable=wide_variable_148\\u003cbr\\u003evalue=%{x}\\u003cbr\\u003ecount=%{y}\\u003cextra\\u003e\\u003c\\u002fextra\\u003e\",\"legendgroup\":\"wide_variable_148\",\"marker\":{\"color\":\"#FF97FF\",\"pattern\":{\"shape\":\"\"}},\"name\":\"wide_variable_148\",\"nbinsx\":61,\"offsetgroup\":\"wide_variable_148\",\"orientation\":\"v\",\"showlegend\":true,\"x\":[20935],\"xaxis\":\"x\",\"yaxis\":\"y\",\"type\":\"histogram\"},{\"alignmentgroup\":\"True\",\"bingroup\":\"x\",\"hovertemplate\":\"variable=wide_variable_149\\u003cbr\\u003evalue=%{x}\\u003cbr\\u003ecount=%{y}\\u003cextra\\u003e\\u003c\\u002fextra\\u003e\",\"legendgroup\":\"wide_variable_149\",\"marker\":{\"color\":\"#FECB52\",\"pattern\":{\"shape\":\"\"}},\"name\":\"wide_variable_149\",\"nbinsx\":61,\"offsetgroup\":\"wide_variable_149\",\"orientation\":\"v\",\"showlegend\":true,\"x\":[20983],\"xaxis\":\"x\",\"yaxis\":\"y\",\"type\":\"histogram\"},{\"alignmentgroup\":\"True\",\"bingroup\":\"x\",\"hovertemplate\":\"variable=wide_variable_150\\u003cbr\\u003evalue=%{x}\\u003cbr\\u003ecount=%{y}\\u003cextra\\u003e\\u003c\\u002fextra\\u003e\",\"legendgroup\":\"wide_variable_150\",\"marker\":{\"color\":\"#636efa\",\"pattern\":{\"shape\":\"\"}},\"name\":\"wide_variable_150\",\"nbinsx\":61,\"offsetgroup\":\"wide_variable_150\",\"orientation\":\"v\",\"showlegend\":true,\"x\":[20501],\"xaxis\":\"x\",\"yaxis\":\"y\",\"type\":\"histogram\"},{\"alignmentgroup\":\"True\",\"bingroup\":\"x\",\"hovertemplate\":\"variable=wide_variable_151\\u003cbr\\u003evalue=%{x}\\u003cbr\\u003ecount=%{y}\\u003cextra\\u003e\\u003c\\u002fextra\\u003e\",\"legendgroup\":\"wide_variable_151\",\"marker\":{\"color\":\"#EF553B\",\"pattern\":{\"shape\":\"\"}},\"name\":\"wide_variable_151\",\"nbinsx\":61,\"offsetgroup\":\"wide_variable_151\",\"orientation\":\"v\",\"showlegend\":true,\"x\":[20640],\"xaxis\":\"x\",\"yaxis\":\"y\",\"type\":\"histogram\"},{\"alignmentgroup\":\"True\",\"bingroup\":\"x\",\"hovertemplate\":\"variable=wide_variable_152\\u003cbr\\u003evalue=%{x}\\u003cbr\\u003ecount=%{y}\\u003cextra\\u003e\\u003c\\u002fextra\\u003e\",\"legendgroup\":\"wide_variable_152\",\"marker\":{\"color\":\"#00cc96\",\"pattern\":{\"shape\":\"\"}},\"name\":\"wide_variable_152\",\"nbinsx\":61,\"offsetgroup\":\"wide_variable_152\",\"orientation\":\"v\",\"showlegend\":true,\"x\":[20954],\"xaxis\":\"x\",\"yaxis\":\"y\",\"type\":\"histogram\"},{\"alignmentgroup\":\"True\",\"bingroup\":\"x\",\"hovertemplate\":\"variable=wide_variable_153\\u003cbr\\u003evalue=%{x}\\u003cbr\\u003ecount=%{y}\\u003cextra\\u003e\\u003c\\u002fextra\\u003e\",\"legendgroup\":\"wide_variable_153\",\"marker\":{\"color\":\"#ab63fa\",\"pattern\":{\"shape\":\"\"}},\"name\":\"wide_variable_153\",\"nbinsx\":61,\"offsetgroup\":\"wide_variable_153\",\"orientation\":\"v\",\"showlegend\":true,\"x\":[20974],\"xaxis\":\"x\",\"yaxis\":\"y\",\"type\":\"histogram\"},{\"alignmentgroup\":\"True\",\"bingroup\":\"x\",\"hovertemplate\":\"variable=wide_variable_154\\u003cbr\\u003evalue=%{x}\\u003cbr\\u003ecount=%{y}\\u003cextra\\u003e\\u003c\\u002fextra\\u003e\",\"legendgroup\":\"wide_variable_154\",\"marker\":{\"color\":\"#FFA15A\",\"pattern\":{\"shape\":\"\"}},\"name\":\"wide_variable_154\",\"nbinsx\":61,\"offsetgroup\":\"wide_variable_154\",\"orientation\":\"v\",\"showlegend\":true,\"x\":[20614],\"xaxis\":\"x\",\"yaxis\":\"y\",\"type\":\"histogram\"},{\"alignmentgroup\":\"True\",\"bingroup\":\"x\",\"hovertemplate\":\"variable=wide_variable_155\\u003cbr\\u003evalue=%{x}\\u003cbr\\u003ecount=%{y}\\u003cextra\\u003e\\u003c\\u002fextra\\u003e\",\"legendgroup\":\"wide_variable_155\",\"marker\":{\"color\":\"#19d3f3\",\"pattern\":{\"shape\":\"\"}},\"name\":\"wide_variable_155\",\"nbinsx\":61,\"offsetgroup\":\"wide_variable_155\",\"orientation\":\"v\",\"showlegend\":true,\"x\":[20954],\"xaxis\":\"x\",\"yaxis\":\"y\",\"type\":\"histogram\"},{\"alignmentgroup\":\"True\",\"bingroup\":\"x\",\"hovertemplate\":\"variable=wide_variable_156\\u003cbr\\u003evalue=%{x}\\u003cbr\\u003ecount=%{y}\\u003cextra\\u003e\\u003c\\u002fextra\\u003e\",\"legendgroup\":\"wide_variable_156\",\"marker\":{\"color\":\"#FF6692\",\"pattern\":{\"shape\":\"\"}},\"name\":\"wide_variable_156\",\"nbinsx\":61,\"offsetgroup\":\"wide_variable_156\",\"orientation\":\"v\",\"showlegend\":true,\"x\":[21015],\"xaxis\":\"x\",\"yaxis\":\"y\",\"type\":\"histogram\"},{\"alignmentgroup\":\"True\",\"bingroup\":\"x\",\"hovertemplate\":\"variable=wide_variable_157\\u003cbr\\u003evalue=%{x}\\u003cbr\\u003ecount=%{y}\\u003cextra\\u003e\\u003c\\u002fextra\\u003e\",\"legendgroup\":\"wide_variable_157\",\"marker\":{\"color\":\"#B6E880\",\"pattern\":{\"shape\":\"\"}},\"name\":\"wide_variable_157\",\"nbinsx\":61,\"offsetgroup\":\"wide_variable_157\",\"orientation\":\"v\",\"showlegend\":true,\"x\":[20882],\"xaxis\":\"x\",\"yaxis\":\"y\",\"type\":\"histogram\"},{\"alignmentgroup\":\"True\",\"bingroup\":\"x\",\"hovertemplate\":\"variable=wide_variable_158\\u003cbr\\u003evalue=%{x}\\u003cbr\\u003ecount=%{y}\\u003cextra\\u003e\\u003c\\u002fextra\\u003e\",\"legendgroup\":\"wide_variable_158\",\"marker\":{\"color\":\"#FF97FF\",\"pattern\":{\"shape\":\"\"}},\"name\":\"wide_variable_158\",\"nbinsx\":61,\"offsetgroup\":\"wide_variable_158\",\"orientation\":\"v\",\"showlegend\":true,\"x\":[20933],\"xaxis\":\"x\",\"yaxis\":\"y\",\"type\":\"histogram\"},{\"alignmentgroup\":\"True\",\"bingroup\":\"x\",\"hovertemplate\":\"variable=wide_variable_159\\u003cbr\\u003evalue=%{x}\\u003cbr\\u003ecount=%{y}\\u003cextra\\u003e\\u003c\\u002fextra\\u003e\",\"legendgroup\":\"wide_variable_159\",\"marker\":{\"color\":\"#FECB52\",\"pattern\":{\"shape\":\"\"}},\"name\":\"wide_variable_159\",\"nbinsx\":61,\"offsetgroup\":\"wide_variable_159\",\"orientation\":\"v\",\"showlegend\":true,\"x\":[20947],\"xaxis\":\"x\",\"yaxis\":\"y\",\"type\":\"histogram\"},{\"alignmentgroup\":\"True\",\"bingroup\":\"x\",\"hovertemplate\":\"variable=wide_variable_160\\u003cbr\\u003evalue=%{x}\\u003cbr\\u003ecount=%{y}\\u003cextra\\u003e\\u003c\\u002fextra\\u003e\",\"legendgroup\":\"wide_variable_160\",\"marker\":{\"color\":\"#636efa\",\"pattern\":{\"shape\":\"\"}},\"name\":\"wide_variable_160\",\"nbinsx\":61,\"offsetgroup\":\"wide_variable_160\",\"orientation\":\"v\",\"showlegend\":true,\"x\":[21009],\"xaxis\":\"x\",\"yaxis\":\"y\",\"type\":\"histogram\"},{\"alignmentgroup\":\"True\",\"bingroup\":\"x\",\"hovertemplate\":\"variable=wide_variable_161\\u003cbr\\u003evalue=%{x}\\u003cbr\\u003ecount=%{y}\\u003cextra\\u003e\\u003c\\u002fextra\\u003e\",\"legendgroup\":\"wide_variable_161\",\"marker\":{\"color\":\"#EF553B\",\"pattern\":{\"shape\":\"\"}},\"name\":\"wide_variable_161\",\"nbinsx\":61,\"offsetgroup\":\"wide_variable_161\",\"orientation\":\"v\",\"showlegend\":true,\"x\":[20713],\"xaxis\":\"x\",\"yaxis\":\"y\",\"type\":\"histogram\"},{\"alignmentgroup\":\"True\",\"bingroup\":\"x\",\"hovertemplate\":\"variable=wide_variable_162\\u003cbr\\u003evalue=%{x}\\u003cbr\\u003ecount=%{y}\\u003cextra\\u003e\\u003c\\u002fextra\\u003e\",\"legendgroup\":\"wide_variable_162\",\"marker\":{\"color\":\"#00cc96\",\"pattern\":{\"shape\":\"\"}},\"name\":\"wide_variable_162\",\"nbinsx\":61,\"offsetgroup\":\"wide_variable_162\",\"orientation\":\"v\",\"showlegend\":true,\"x\":[20926],\"xaxis\":\"x\",\"yaxis\":\"y\",\"type\":\"histogram\"},{\"alignmentgroup\":\"True\",\"bingroup\":\"x\",\"hovertemplate\":\"variable=wide_variable_163\\u003cbr\\u003evalue=%{x}\\u003cbr\\u003ecount=%{y}\\u003cextra\\u003e\\u003c\\u002fextra\\u003e\",\"legendgroup\":\"wide_variable_163\",\"marker\":{\"color\":\"#ab63fa\",\"pattern\":{\"shape\":\"\"}},\"name\":\"wide_variable_163\",\"nbinsx\":61,\"offsetgroup\":\"wide_variable_163\",\"orientation\":\"v\",\"showlegend\":true,\"x\":[20983],\"xaxis\":\"x\",\"yaxis\":\"y\",\"type\":\"histogram\"},{\"alignmentgroup\":\"True\",\"bingroup\":\"x\",\"hovertemplate\":\"variable=wide_variable_164\\u003cbr\\u003evalue=%{x}\\u003cbr\\u003ecount=%{y}\\u003cextra\\u003e\\u003c\\u002fextra\\u003e\",\"legendgroup\":\"wide_variable_164\",\"marker\":{\"color\":\"#FFA15A\",\"pattern\":{\"shape\":\"\"}},\"name\":\"wide_variable_164\",\"nbinsx\":61,\"offsetgroup\":\"wide_variable_164\",\"orientation\":\"v\",\"showlegend\":true,\"x\":[20852],\"xaxis\":\"x\",\"yaxis\":\"y\",\"type\":\"histogram\"},{\"alignmentgroup\":\"True\",\"bingroup\":\"x\",\"hovertemplate\":\"variable=wide_variable_165\\u003cbr\\u003evalue=%{x}\\u003cbr\\u003ecount=%{y}\\u003cextra\\u003e\\u003c\\u002fextra\\u003e\",\"legendgroup\":\"wide_variable_165\",\"marker\":{\"color\":\"#19d3f3\",\"pattern\":{\"shape\":\"\"}},\"name\":\"wide_variable_165\",\"nbinsx\":61,\"offsetgroup\":\"wide_variable_165\",\"orientation\":\"v\",\"showlegend\":true,\"x\":[21002],\"xaxis\":\"x\",\"yaxis\":\"y\",\"type\":\"histogram\"},{\"alignmentgroup\":\"True\",\"bingroup\":\"x\",\"hovertemplate\":\"variable=wide_variable_166\\u003cbr\\u003evalue=%{x}\\u003cbr\\u003ecount=%{y}\\u003cextra\\u003e\\u003c\\u002fextra\\u003e\",\"legendgroup\":\"wide_variable_166\",\"marker\":{\"color\":\"#FF6692\",\"pattern\":{\"shape\":\"\"}},\"name\":\"wide_variable_166\",\"nbinsx\":61,\"offsetgroup\":\"wide_variable_166\",\"orientation\":\"v\",\"showlegend\":true,\"x\":[20830],\"xaxis\":\"x\",\"yaxis\":\"y\",\"type\":\"histogram\"},{\"alignmentgroup\":\"True\",\"bingroup\":\"x\",\"hovertemplate\":\"variable=wide_variable_167\\u003cbr\\u003evalue=%{x}\\u003cbr\\u003ecount=%{y}\\u003cextra\\u003e\\u003c\\u002fextra\\u003e\",\"legendgroup\":\"wide_variable_167\",\"marker\":{\"color\":\"#B6E880\",\"pattern\":{\"shape\":\"\"}},\"name\":\"wide_variable_167\",\"nbinsx\":61,\"offsetgroup\":\"wide_variable_167\",\"orientation\":\"v\",\"showlegend\":true,\"x\":[20994],\"xaxis\":\"x\",\"yaxis\":\"y\",\"type\":\"histogram\"},{\"alignmentgroup\":\"True\",\"bingroup\":\"x\",\"hovertemplate\":\"variable=wide_variable_168\\u003cbr\\u003evalue=%{x}\\u003cbr\\u003ecount=%{y}\\u003cextra\\u003e\\u003c\\u002fextra\\u003e\",\"legendgroup\":\"wide_variable_168\",\"marker\":{\"color\":\"#FF97FF\",\"pattern\":{\"shape\":\"\"}},\"name\":\"wide_variable_168\",\"nbinsx\":61,\"offsetgroup\":\"wide_variable_168\",\"orientation\":\"v\",\"showlegend\":true,\"x\":[20106],\"xaxis\":\"x\",\"yaxis\":\"y\",\"type\":\"histogram\"},{\"alignmentgroup\":\"True\",\"bingroup\":\"x\",\"hovertemplate\":\"variable=wide_variable_169\\u003cbr\\u003evalue=%{x}\\u003cbr\\u003ecount=%{y}\\u003cextra\\u003e\\u003c\\u002fextra\\u003e\",\"legendgroup\":\"wide_variable_169\",\"marker\":{\"color\":\"#FECB52\",\"pattern\":{\"shape\":\"\"}},\"name\":\"wide_variable_169\",\"nbinsx\":61,\"offsetgroup\":\"wide_variable_169\",\"orientation\":\"v\",\"showlegend\":true,\"x\":[20713],\"xaxis\":\"x\",\"yaxis\":\"y\",\"type\":\"histogram\"},{\"alignmentgroup\":\"True\",\"bingroup\":\"x\",\"hovertemplate\":\"variable=wide_variable_170\\u003cbr\\u003evalue=%{x}\\u003cbr\\u003ecount=%{y}\\u003cextra\\u003e\\u003c\\u002fextra\\u003e\",\"legendgroup\":\"wide_variable_170\",\"marker\":{\"color\":\"#636efa\",\"pattern\":{\"shape\":\"\"}},\"name\":\"wide_variable_170\",\"nbinsx\":61,\"offsetgroup\":\"wide_variable_170\",\"orientation\":\"v\",\"showlegend\":true,\"x\":[20830],\"xaxis\":\"x\",\"yaxis\":\"y\",\"type\":\"histogram\"},{\"alignmentgroup\":\"True\",\"bingroup\":\"x\",\"hovertemplate\":\"variable=wide_variable_171\\u003cbr\\u003evalue=%{x}\\u003cbr\\u003ecount=%{y}\\u003cextra\\u003e\\u003c\\u002fextra\\u003e\",\"legendgroup\":\"wide_variable_171\",\"marker\":{\"color\":\"#EF553B\",\"pattern\":{\"shape\":\"\"}},\"name\":\"wide_variable_171\",\"nbinsx\":61,\"offsetgroup\":\"wide_variable_171\",\"orientation\":\"v\",\"showlegend\":true,\"x\":[20673],\"xaxis\":\"x\",\"yaxis\":\"y\",\"type\":\"histogram\"},{\"alignmentgroup\":\"True\",\"bingroup\":\"x\",\"hovertemplate\":\"variable=wide_variable_172\\u003cbr\\u003evalue=%{x}\\u003cbr\\u003ecount=%{y}\\u003cextra\\u003e\\u003c\\u002fextra\\u003e\",\"legendgroup\":\"wide_variable_172\",\"marker\":{\"color\":\"#00cc96\",\"pattern\":{\"shape\":\"\"}},\"name\":\"wide_variable_172\",\"nbinsx\":61,\"offsetgroup\":\"wide_variable_172\",\"orientation\":\"v\",\"showlegend\":true,\"x\":[20897],\"xaxis\":\"x\",\"yaxis\":\"y\",\"type\":\"histogram\"},{\"alignmentgroup\":\"True\",\"bingroup\":\"x\",\"hovertemplate\":\"variable=wide_variable_173\\u003cbr\\u003evalue=%{x}\\u003cbr\\u003ecount=%{y}\\u003cextra\\u003e\\u003c\\u002fextra\\u003e\",\"legendgroup\":\"wide_variable_173\",\"marker\":{\"color\":\"#ab63fa\",\"pattern\":{\"shape\":\"\"}},\"name\":\"wide_variable_173\",\"nbinsx\":61,\"offsetgroup\":\"wide_variable_173\",\"orientation\":\"v\",\"showlegend\":true,\"x\":[20940],\"xaxis\":\"x\",\"yaxis\":\"y\",\"type\":\"histogram\"},{\"alignmentgroup\":\"True\",\"bingroup\":\"x\",\"hovertemplate\":\"variable=wide_variable_174\\u003cbr\\u003evalue=%{x}\\u003cbr\\u003ecount=%{y}\\u003cextra\\u003e\\u003c\\u002fextra\\u003e\",\"legendgroup\":\"wide_variable_174\",\"marker\":{\"color\":\"#FFA15A\",\"pattern\":{\"shape\":\"\"}},\"name\":\"wide_variable_174\",\"nbinsx\":61,\"offsetgroup\":\"wide_variable_174\",\"orientation\":\"v\",\"showlegend\":true,\"x\":[20501],\"xaxis\":\"x\",\"yaxis\":\"y\",\"type\":\"histogram\"},{\"alignmentgroup\":\"True\",\"bingroup\":\"x\",\"hovertemplate\":\"variable=wide_variable_175\\u003cbr\\u003evalue=%{x}\\u003cbr\\u003ecount=%{y}\\u003cextra\\u003e\\u003c\\u002fextra\\u003e\",\"legendgroup\":\"wide_variable_175\",\"marker\":{\"color\":\"#19d3f3\",\"pattern\":{\"shape\":\"\"}},\"name\":\"wide_variable_175\",\"nbinsx\":61,\"offsetgroup\":\"wide_variable_175\",\"orientation\":\"v\",\"showlegend\":true,\"x\":[20933],\"xaxis\":\"x\",\"yaxis\":\"y\",\"type\":\"histogram\"},{\"alignmentgroup\":\"True\",\"bingroup\":\"x\",\"hovertemplate\":\"variable=wide_variable_176\\u003cbr\\u003evalue=%{x}\\u003cbr\\u003ecount=%{y}\\u003cextra\\u003e\\u003c\\u002fextra\\u003e\",\"legendgroup\":\"wide_variable_176\",\"marker\":{\"color\":\"#FF6692\",\"pattern\":{\"shape\":\"\"}},\"name\":\"wide_variable_176\",\"nbinsx\":61,\"offsetgroup\":\"wide_variable_176\",\"orientation\":\"v\",\"showlegend\":true,\"x\":[21015],\"xaxis\":\"x\",\"yaxis\":\"y\",\"type\":\"histogram\"},{\"alignmentgroup\":\"True\",\"bingroup\":\"x\",\"hovertemplate\":\"variable=wide_variable_177\\u003cbr\\u003evalue=%{x}\\u003cbr\\u003ecount=%{y}\\u003cextra\\u003e\\u003c\\u002fextra\\u003e\",\"legendgroup\":\"wide_variable_177\",\"marker\":{\"color\":\"#B6E880\",\"pattern\":{\"shape\":\"\"}},\"name\":\"wide_variable_177\",\"nbinsx\":61,\"offsetgroup\":\"wide_variable_177\",\"orientation\":\"v\",\"showlegend\":true,\"x\":[20830],\"xaxis\":\"x\",\"yaxis\":\"y\",\"type\":\"histogram\"},{\"alignmentgroup\":\"True\",\"bingroup\":\"x\",\"hovertemplate\":\"variable=wide_variable_178\\u003cbr\\u003evalue=%{x}\\u003cbr\\u003ecount=%{y}\\u003cextra\\u003e\\u003c\\u002fextra\\u003e\",\"legendgroup\":\"wide_variable_178\",\"marker\":{\"color\":\"#FF97FF\",\"pattern\":{\"shape\":\"\"}},\"name\":\"wide_variable_178\",\"nbinsx\":61,\"offsetgroup\":\"wide_variable_178\",\"orientation\":\"v\",\"showlegend\":true,\"x\":[20713],\"xaxis\":\"x\",\"yaxis\":\"y\",\"type\":\"histogram\"},{\"alignmentgroup\":\"True\",\"bingroup\":\"x\",\"hovertemplate\":\"variable=wide_variable_179\\u003cbr\\u003evalue=%{x}\\u003cbr\\u003ecount=%{y}\\u003cextra\\u003e\\u003c\\u002fextra\\u003e\",\"legendgroup\":\"wide_variable_179\",\"marker\":{\"color\":\"#FECB52\",\"pattern\":{\"shape\":\"\"}},\"name\":\"wide_variable_179\",\"nbinsx\":61,\"offsetgroup\":\"wide_variable_179\",\"orientation\":\"v\",\"showlegend\":true,\"x\":[20713],\"xaxis\":\"x\",\"yaxis\":\"y\",\"type\":\"histogram\"},{\"alignmentgroup\":\"True\",\"bingroup\":\"x\",\"hovertemplate\":\"variable=wide_variable_180\\u003cbr\\u003evalue=%{x}\\u003cbr\\u003ecount=%{y}\\u003cextra\\u003e\\u003c\\u002fextra\\u003e\",\"legendgroup\":\"wide_variable_180\",\"marker\":{\"color\":\"#636efa\",\"pattern\":{\"shape\":\"\"}},\"name\":\"wide_variable_180\",\"nbinsx\":61,\"offsetgroup\":\"wide_variable_180\",\"orientation\":\"v\",\"showlegend\":true,\"x\":[20946],\"xaxis\":\"x\",\"yaxis\":\"y\",\"type\":\"histogram\"},{\"alignmentgroup\":\"True\",\"bingroup\":\"x\",\"hovertemplate\":\"variable=wide_variable_181\\u003cbr\\u003evalue=%{x}\\u003cbr\\u003ecount=%{y}\\u003cextra\\u003e\\u003c\\u002fextra\\u003e\",\"legendgroup\":\"wide_variable_181\",\"marker\":{\"color\":\"#EF553B\",\"pattern\":{\"shape\":\"\"}},\"name\":\"wide_variable_181\",\"nbinsx\":61,\"offsetgroup\":\"wide_variable_181\",\"orientation\":\"v\",\"showlegend\":true,\"x\":[20738],\"xaxis\":\"x\",\"yaxis\":\"y\",\"type\":\"histogram\"},{\"alignmentgroup\":\"True\",\"bingroup\":\"x\",\"hovertemplate\":\"variable=wide_variable_182\\u003cbr\\u003evalue=%{x}\\u003cbr\\u003ecount=%{y}\\u003cextra\\u003e\\u003c\\u002fextra\\u003e\",\"legendgroup\":\"wide_variable_182\",\"marker\":{\"color\":\"#00cc96\",\"pattern\":{\"shape\":\"\"}},\"name\":\"wide_variable_182\",\"nbinsx\":61,\"offsetgroup\":\"wide_variable_182\",\"orientation\":\"v\",\"showlegend\":true,\"x\":[20726],\"xaxis\":\"x\",\"yaxis\":\"y\",\"type\":\"histogram\"},{\"alignmentgroup\":\"True\",\"bingroup\":\"x\",\"hovertemplate\":\"variable=wide_variable_183\\u003cbr\\u003evalue=%{x}\\u003cbr\\u003ecount=%{y}\\u003cextra\\u003e\\u003c\\u002fextra\\u003e\",\"legendgroup\":\"wide_variable_183\",\"marker\":{\"color\":\"#ab63fa\",\"pattern\":{\"shape\":\"\"}},\"name\":\"wide_variable_183\",\"nbinsx\":61,\"offsetgroup\":\"wide_variable_183\",\"orientation\":\"v\",\"showlegend\":true,\"x\":[20945],\"xaxis\":\"x\",\"yaxis\":\"y\",\"type\":\"histogram\"},{\"alignmentgroup\":\"True\",\"bingroup\":\"x\",\"hovertemplate\":\"variable=wide_variable_184\\u003cbr\\u003evalue=%{x}\\u003cbr\\u003ecount=%{y}\\u003cextra\\u003e\\u003c\\u002fextra\\u003e\",\"legendgroup\":\"wide_variable_184\",\"marker\":{\"color\":\"#FFA15A\",\"pattern\":{\"shape\":\"\"}},\"name\":\"wide_variable_184\",\"nbinsx\":61,\"offsetgroup\":\"wide_variable_184\",\"orientation\":\"v\",\"showlegend\":true,\"x\":[20920],\"xaxis\":\"x\",\"yaxis\":\"y\",\"type\":\"histogram\"},{\"alignmentgroup\":\"True\",\"bingroup\":\"x\",\"hovertemplate\":\"variable=wide_variable_185\\u003cbr\\u003evalue=%{x}\\u003cbr\\u003ecount=%{y}\\u003cextra\\u003e\\u003c\\u002fextra\\u003e\",\"legendgroup\":\"wide_variable_185\",\"marker\":{\"color\":\"#19d3f3\",\"pattern\":{\"shape\":\"\"}},\"name\":\"wide_variable_185\",\"nbinsx\":61,\"offsetgroup\":\"wide_variable_185\",\"orientation\":\"v\",\"showlegend\":true,\"x\":[20884],\"xaxis\":\"x\",\"yaxis\":\"y\",\"type\":\"histogram\"},{\"alignmentgroup\":\"True\",\"bingroup\":\"x\",\"hovertemplate\":\"variable=wide_variable_186\\u003cbr\\u003evalue=%{x}\\u003cbr\\u003ecount=%{y}\\u003cextra\\u003e\\u003c\\u002fextra\\u003e\",\"legendgroup\":\"wide_variable_186\",\"marker\":{\"color\":\"#FF6692\",\"pattern\":{\"shape\":\"\"}},\"name\":\"wide_variable_186\",\"nbinsx\":61,\"offsetgroup\":\"wide_variable_186\",\"orientation\":\"v\",\"showlegend\":true,\"x\":[20921],\"xaxis\":\"x\",\"yaxis\":\"y\",\"type\":\"histogram\"},{\"alignmentgroup\":\"True\",\"bingroup\":\"x\",\"hovertemplate\":\"variable=wide_variable_187\\u003cbr\\u003evalue=%{x}\\u003cbr\\u003ecount=%{y}\\u003cextra\\u003e\\u003c\\u002fextra\\u003e\",\"legendgroup\":\"wide_variable_187\",\"marker\":{\"color\":\"#B6E880\",\"pattern\":{\"shape\":\"\"}},\"name\":\"wide_variable_187\",\"nbinsx\":61,\"offsetgroup\":\"wide_variable_187\",\"orientation\":\"v\",\"showlegend\":true,\"x\":[20812],\"xaxis\":\"x\",\"yaxis\":\"y\",\"type\":\"histogram\"},{\"alignmentgroup\":\"True\",\"bingroup\":\"x\",\"hovertemplate\":\"variable=wide_variable_188\\u003cbr\\u003evalue=%{x}\\u003cbr\\u003ecount=%{y}\\u003cextra\\u003e\\u003c\\u002fextra\\u003e\",\"legendgroup\":\"wide_variable_188\",\"marker\":{\"color\":\"#FF97FF\",\"pattern\":{\"shape\":\"\"}},\"name\":\"wide_variable_188\",\"nbinsx\":61,\"offsetgroup\":\"wide_variable_188\",\"orientation\":\"v\",\"showlegend\":true,\"x\":[20864],\"xaxis\":\"x\",\"yaxis\":\"y\",\"type\":\"histogram\"},{\"alignmentgroup\":\"True\",\"bingroup\":\"x\",\"hovertemplate\":\"variable=wide_variable_189\\u003cbr\\u003evalue=%{x}\\u003cbr\\u003ecount=%{y}\\u003cextra\\u003e\\u003c\\u002fextra\\u003e\",\"legendgroup\":\"wide_variable_189\",\"marker\":{\"color\":\"#FECB52\",\"pattern\":{\"shape\":\"\"}},\"name\":\"wide_variable_189\",\"nbinsx\":61,\"offsetgroup\":\"wide_variable_189\",\"orientation\":\"v\",\"showlegend\":true,\"x\":[21004],\"xaxis\":\"x\",\"yaxis\":\"y\",\"type\":\"histogram\"},{\"alignmentgroup\":\"True\",\"bingroup\":\"x\",\"hovertemplate\":\"variable=wide_variable_190\\u003cbr\\u003evalue=%{x}\\u003cbr\\u003ecount=%{y}\\u003cextra\\u003e\\u003c\\u002fextra\\u003e\",\"legendgroup\":\"wide_variable_190\",\"marker\":{\"color\":\"#636efa\",\"pattern\":{\"shape\":\"\"}},\"name\":\"wide_variable_190\",\"nbinsx\":61,\"offsetgroup\":\"wide_variable_190\",\"orientation\":\"v\",\"showlegend\":true,\"x\":[21010],\"xaxis\":\"x\",\"yaxis\":\"y\",\"type\":\"histogram\"},{\"alignmentgroup\":\"True\",\"bingroup\":\"x\",\"hovertemplate\":\"variable=wide_variable_191\\u003cbr\\u003evalue=%{x}\\u003cbr\\u003ecount=%{y}\\u003cextra\\u003e\\u003c\\u002fextra\\u003e\",\"legendgroup\":\"wide_variable_191\",\"marker\":{\"color\":\"#EF553B\",\"pattern\":{\"shape\":\"\"}},\"name\":\"wide_variable_191\",\"nbinsx\":61,\"offsetgroup\":\"wide_variable_191\",\"orientation\":\"v\",\"showlegend\":true,\"x\":[20106],\"xaxis\":\"x\",\"yaxis\":\"y\",\"type\":\"histogram\"},{\"alignmentgroup\":\"True\",\"bingroup\":\"x\",\"hovertemplate\":\"variable=wide_variable_192\\u003cbr\\u003evalue=%{x}\\u003cbr\\u003ecount=%{y}\\u003cextra\\u003e\\u003c\\u002fextra\\u003e\",\"legendgroup\":\"wide_variable_192\",\"marker\":{\"color\":\"#00cc96\",\"pattern\":{\"shape\":\"\"}},\"name\":\"wide_variable_192\",\"nbinsx\":61,\"offsetgroup\":\"wide_variable_192\",\"orientation\":\"v\",\"showlegend\":true,\"x\":[20979],\"xaxis\":\"x\",\"yaxis\":\"y\",\"type\":\"histogram\"},{\"alignmentgroup\":\"True\",\"bingroup\":\"x\",\"hovertemplate\":\"variable=wide_variable_193\\u003cbr\\u003evalue=%{x}\\u003cbr\\u003ecount=%{y}\\u003cextra\\u003e\\u003c\\u002fextra\\u003e\",\"legendgroup\":\"wide_variable_193\",\"marker\":{\"color\":\"#ab63fa\",\"pattern\":{\"shape\":\"\"}},\"name\":\"wide_variable_193\",\"nbinsx\":61,\"offsetgroup\":\"wide_variable_193\",\"orientation\":\"v\",\"showlegend\":true,\"x\":[20845],\"xaxis\":\"x\",\"yaxis\":\"y\",\"type\":\"histogram\"},{\"alignmentgroup\":\"True\",\"bingroup\":\"x\",\"hovertemplate\":\"variable=wide_variable_194\\u003cbr\\u003evalue=%{x}\\u003cbr\\u003ecount=%{y}\\u003cextra\\u003e\\u003c\\u002fextra\\u003e\",\"legendgroup\":\"wide_variable_194\",\"marker\":{\"color\":\"#FFA15A\",\"pattern\":{\"shape\":\"\"}},\"name\":\"wide_variable_194\",\"nbinsx\":61,\"offsetgroup\":\"wide_variable_194\",\"orientation\":\"v\",\"showlegend\":true,\"x\":[20106],\"xaxis\":\"x\",\"yaxis\":\"y\",\"type\":\"histogram\"},{\"alignmentgroup\":\"True\",\"bingroup\":\"x\",\"hovertemplate\":\"variable=wide_variable_195\\u003cbr\\u003evalue=%{x}\\u003cbr\\u003ecount=%{y}\\u003cextra\\u003e\\u003c\\u002fextra\\u003e\",\"legendgroup\":\"wide_variable_195\",\"marker\":{\"color\":\"#19d3f3\",\"pattern\":{\"shape\":\"\"}},\"name\":\"wide_variable_195\",\"nbinsx\":61,\"offsetgroup\":\"wide_variable_195\",\"orientation\":\"v\",\"showlegend\":true,\"x\":[20106],\"xaxis\":\"x\",\"yaxis\":\"y\",\"type\":\"histogram\"},{\"alignmentgroup\":\"True\",\"bingroup\":\"x\",\"hovertemplate\":\"variable=wide_variable_196\\u003cbr\\u003evalue=%{x}\\u003cbr\\u003ecount=%{y}\\u003cextra\\u003e\\u003c\\u002fextra\\u003e\",\"legendgroup\":\"wide_variable_196\",\"marker\":{\"color\":\"#FF6692\",\"pattern\":{\"shape\":\"\"}},\"name\":\"wide_variable_196\",\"nbinsx\":61,\"offsetgroup\":\"wide_variable_196\",\"orientation\":\"v\",\"showlegend\":true,\"x\":[20882],\"xaxis\":\"x\",\"yaxis\":\"y\",\"type\":\"histogram\"},{\"alignmentgroup\":\"True\",\"bingroup\":\"x\",\"hovertemplate\":\"variable=wide_variable_197\\u003cbr\\u003evalue=%{x}\\u003cbr\\u003ecount=%{y}\\u003cextra\\u003e\\u003c\\u002fextra\\u003e\",\"legendgroup\":\"wide_variable_197\",\"marker\":{\"color\":\"#B6E880\",\"pattern\":{\"shape\":\"\"}},\"name\":\"wide_variable_197\",\"nbinsx\":61,\"offsetgroup\":\"wide_variable_197\",\"orientation\":\"v\",\"showlegend\":true,\"x\":[20983],\"xaxis\":\"x\",\"yaxis\":\"y\",\"type\":\"histogram\"},{\"alignmentgroup\":\"True\",\"bingroup\":\"x\",\"hovertemplate\":\"variable=wide_variable_198\\u003cbr\\u003evalue=%{x}\\u003cbr\\u003ecount=%{y}\\u003cextra\\u003e\\u003c\\u002fextra\\u003e\",\"legendgroup\":\"wide_variable_198\",\"marker\":{\"color\":\"#FF97FF\",\"pattern\":{\"shape\":\"\"}},\"name\":\"wide_variable_198\",\"nbinsx\":61,\"offsetgroup\":\"wide_variable_198\",\"orientation\":\"v\",\"showlegend\":true,\"x\":[20911],\"xaxis\":\"x\",\"yaxis\":\"y\",\"type\":\"histogram\"},{\"alignmentgroup\":\"True\",\"bingroup\":\"x\",\"hovertemplate\":\"variable=wide_variable_199\\u003cbr\\u003evalue=%{x}\\u003cbr\\u003ecount=%{y}\\u003cextra\\u003e\\u003c\\u002fextra\\u003e\",\"legendgroup\":\"wide_variable_199\",\"marker\":{\"color\":\"#FECB52\",\"pattern\":{\"shape\":\"\"}},\"name\":\"wide_variable_199\",\"nbinsx\":61,\"offsetgroup\":\"wide_variable_199\",\"orientation\":\"v\",\"showlegend\":true,\"x\":[20983],\"xaxis\":\"x\",\"yaxis\":\"y\",\"type\":\"histogram\"},{\"alignmentgroup\":\"True\",\"bingroup\":\"x\",\"hovertemplate\":\"variable=wide_variable_200\\u003cbr\\u003evalue=%{x}\\u003cbr\\u003ecount=%{y}\\u003cextra\\u003e\\u003c\\u002fextra\\u003e\",\"legendgroup\":\"wide_variable_200\",\"marker\":{\"color\":\"#636efa\",\"pattern\":{\"shape\":\"\"}},\"name\":\"wide_variable_200\",\"nbinsx\":61,\"offsetgroup\":\"wide_variable_200\",\"orientation\":\"v\",\"showlegend\":true,\"x\":[20882],\"xaxis\":\"x\",\"yaxis\":\"y\",\"type\":\"histogram\"},{\"alignmentgroup\":\"True\",\"bingroup\":\"x\",\"hovertemplate\":\"variable=wide_variable_201\\u003cbr\\u003evalue=%{x}\\u003cbr\\u003ecount=%{y}\\u003cextra\\u003e\\u003c\\u002fextra\\u003e\",\"legendgroup\":\"wide_variable_201\",\"marker\":{\"color\":\"#EF553B\",\"pattern\":{\"shape\":\"\"}},\"name\":\"wide_variable_201\",\"nbinsx\":61,\"offsetgroup\":\"wide_variable_201\",\"orientation\":\"v\",\"showlegend\":true,\"x\":[20977],\"xaxis\":\"x\",\"yaxis\":\"y\",\"type\":\"histogram\"},{\"alignmentgroup\":\"True\",\"bingroup\":\"x\",\"hovertemplate\":\"variable=wide_variable_202\\u003cbr\\u003evalue=%{x}\\u003cbr\\u003ecount=%{y}\\u003cextra\\u003e\\u003c\\u002fextra\\u003e\",\"legendgroup\":\"wide_variable_202\",\"marker\":{\"color\":\"#00cc96\",\"pattern\":{\"shape\":\"\"}},\"name\":\"wide_variable_202\",\"nbinsx\":61,\"offsetgroup\":\"wide_variable_202\",\"orientation\":\"v\",\"showlegend\":true,\"x\":[20891],\"xaxis\":\"x\",\"yaxis\":\"y\",\"type\":\"histogram\"},{\"alignmentgroup\":\"True\",\"bingroup\":\"x\",\"hovertemplate\":\"variable=wide_variable_203\\u003cbr\\u003evalue=%{x}\\u003cbr\\u003ecount=%{y}\\u003cextra\\u003e\\u003c\\u002fextra\\u003e\",\"legendgroup\":\"wide_variable_203\",\"marker\":{\"color\":\"#ab63fa\",\"pattern\":{\"shape\":\"\"}},\"name\":\"wide_variable_203\",\"nbinsx\":61,\"offsetgroup\":\"wide_variable_203\",\"orientation\":\"v\",\"showlegend\":true,\"x\":[20937],\"xaxis\":\"x\",\"yaxis\":\"y\",\"type\":\"histogram\"},{\"alignmentgroup\":\"True\",\"bingroup\":\"x\",\"hovertemplate\":\"variable=wide_variable_204\\u003cbr\\u003evalue=%{x}\\u003cbr\\u003ecount=%{y}\\u003cextra\\u003e\\u003c\\u002fextra\\u003e\",\"legendgroup\":\"wide_variable_204\",\"marker\":{\"color\":\"#FFA15A\",\"pattern\":{\"shape\":\"\"}},\"name\":\"wide_variable_204\",\"nbinsx\":61,\"offsetgroup\":\"wide_variable_204\",\"orientation\":\"v\",\"showlegend\":true,\"x\":[20628],\"xaxis\":\"x\",\"yaxis\":\"y\",\"type\":\"histogram\"},{\"alignmentgroup\":\"True\",\"bingroup\":\"x\",\"hovertemplate\":\"variable=wide_variable_205\\u003cbr\\u003evalue=%{x}\\u003cbr\\u003ecount=%{y}\\u003cextra\\u003e\\u003c\\u002fextra\\u003e\",\"legendgroup\":\"wide_variable_205\",\"marker\":{\"color\":\"#19d3f3\",\"pattern\":{\"shape\":\"\"}},\"name\":\"wide_variable_205\",\"nbinsx\":61,\"offsetgroup\":\"wide_variable_205\",\"orientation\":\"v\",\"showlegend\":true,\"x\":[20933],\"xaxis\":\"x\",\"yaxis\":\"y\",\"type\":\"histogram\"},{\"alignmentgroup\":\"True\",\"bingroup\":\"x\",\"hovertemplate\":\"variable=wide_variable_206\\u003cbr\\u003evalue=%{x}\\u003cbr\\u003ecount=%{y}\\u003cextra\\u003e\\u003c\\u002fextra\\u003e\",\"legendgroup\":\"wide_variable_206\",\"marker\":{\"color\":\"#FF6692\",\"pattern\":{\"shape\":\"\"}},\"name\":\"wide_variable_206\",\"nbinsx\":61,\"offsetgroup\":\"wide_variable_206\",\"orientation\":\"v\",\"showlegend\":true,\"x\":[20891],\"xaxis\":\"x\",\"yaxis\":\"y\",\"type\":\"histogram\"},{\"alignmentgroup\":\"True\",\"bingroup\":\"x\",\"hovertemplate\":\"variable=wide_variable_207\\u003cbr\\u003evalue=%{x}\\u003cbr\\u003ecount=%{y}\\u003cextra\\u003e\\u003c\\u002fextra\\u003e\",\"legendgroup\":\"wide_variable_207\",\"marker\":{\"color\":\"#B6E880\",\"pattern\":{\"shape\":\"\"}},\"name\":\"wide_variable_207\",\"nbinsx\":61,\"offsetgroup\":\"wide_variable_207\",\"orientation\":\"v\",\"showlegend\":true,\"x\":[20994],\"xaxis\":\"x\",\"yaxis\":\"y\",\"type\":\"histogram\"},{\"alignmentgroup\":\"True\",\"bingroup\":\"x\",\"hovertemplate\":\"variable=wide_variable_208\\u003cbr\\u003evalue=%{x}\\u003cbr\\u003ecount=%{y}\\u003cextra\\u003e\\u003c\\u002fextra\\u003e\",\"legendgroup\":\"wide_variable_208\",\"marker\":{\"color\":\"#FF97FF\",\"pattern\":{\"shape\":\"\"}},\"name\":\"wide_variable_208\",\"nbinsx\":61,\"offsetgroup\":\"wide_variable_208\",\"orientation\":\"v\",\"showlegend\":true,\"x\":[20986],\"xaxis\":\"x\",\"yaxis\":\"y\",\"type\":\"histogram\"},{\"alignmentgroup\":\"True\",\"bingroup\":\"x\",\"hovertemplate\":\"variable=wide_variable_209\\u003cbr\\u003evalue=%{x}\\u003cbr\\u003ecount=%{y}\\u003cextra\\u003e\\u003c\\u002fextra\\u003e\",\"legendgroup\":\"wide_variable_209\",\"marker\":{\"color\":\"#FECB52\",\"pattern\":{\"shape\":\"\"}},\"name\":\"wide_variable_209\",\"nbinsx\":61,\"offsetgroup\":\"wide_variable_209\",\"orientation\":\"v\",\"showlegend\":true,\"x\":[20954],\"xaxis\":\"x\",\"yaxis\":\"y\",\"type\":\"histogram\"},{\"alignmentgroup\":\"True\",\"bingroup\":\"x\",\"hovertemplate\":\"variable=wide_variable_210\\u003cbr\\u003evalue=%{x}\\u003cbr\\u003ecount=%{y}\\u003cextra\\u003e\\u003c\\u002fextra\\u003e\",\"legendgroup\":\"wide_variable_210\",\"marker\":{\"color\":\"#636efa\",\"pattern\":{\"shape\":\"\"}},\"name\":\"wide_variable_210\",\"nbinsx\":61,\"offsetgroup\":\"wide_variable_210\",\"orientation\":\"v\",\"showlegend\":true,\"x\":[20612],\"xaxis\":\"x\",\"yaxis\":\"y\",\"type\":\"histogram\"},{\"alignmentgroup\":\"True\",\"bingroup\":\"x\",\"hovertemplate\":\"variable=wide_variable_211\\u003cbr\\u003evalue=%{x}\\u003cbr\\u003ecount=%{y}\\u003cextra\\u003e\\u003c\\u002fextra\\u003e\",\"legendgroup\":\"wide_variable_211\",\"marker\":{\"color\":\"#EF553B\",\"pattern\":{\"shape\":\"\"}},\"name\":\"wide_variable_211\",\"nbinsx\":61,\"offsetgroup\":\"wide_variable_211\",\"orientation\":\"v\",\"showlegend\":true,\"x\":[20952],\"xaxis\":\"x\",\"yaxis\":\"y\",\"type\":\"histogram\"},{\"alignmentgroup\":\"True\",\"bingroup\":\"x\",\"hovertemplate\":\"variable=wide_variable_212\\u003cbr\\u003evalue=%{x}\\u003cbr\\u003ecount=%{y}\\u003cextra\\u003e\\u003c\\u002fextra\\u003e\",\"legendgroup\":\"wide_variable_212\",\"marker\":{\"color\":\"#00cc96\",\"pattern\":{\"shape\":\"\"}},\"name\":\"wide_variable_212\",\"nbinsx\":61,\"offsetgroup\":\"wide_variable_212\",\"orientation\":\"v\",\"showlegend\":true,\"x\":[20948],\"xaxis\":\"x\",\"yaxis\":\"y\",\"type\":\"histogram\"},{\"alignmentgroup\":\"True\",\"bingroup\":\"x\",\"hovertemplate\":\"variable=wide_variable_213\\u003cbr\\u003evalue=%{x}\\u003cbr\\u003ecount=%{y}\\u003cextra\\u003e\\u003c\\u002fextra\\u003e\",\"legendgroup\":\"wide_variable_213\",\"marker\":{\"color\":\"#ab63fa\",\"pattern\":{\"shape\":\"\"}},\"name\":\"wide_variable_213\",\"nbinsx\":61,\"offsetgroup\":\"wide_variable_213\",\"orientation\":\"v\",\"showlegend\":true,\"x\":[20948],\"xaxis\":\"x\",\"yaxis\":\"y\",\"type\":\"histogram\"},{\"alignmentgroup\":\"True\",\"bingroup\":\"x\",\"hovertemplate\":\"variable=wide_variable_214\\u003cbr\\u003evalue=%{x}\\u003cbr\\u003ecount=%{y}\\u003cextra\\u003e\\u003c\\u002fextra\\u003e\",\"legendgroup\":\"wide_variable_214\",\"marker\":{\"color\":\"#FFA15A\",\"pattern\":{\"shape\":\"\"}},\"name\":\"wide_variable_214\",\"nbinsx\":61,\"offsetgroup\":\"wide_variable_214\",\"orientation\":\"v\",\"showlegend\":true,\"x\":[20713],\"xaxis\":\"x\",\"yaxis\":\"y\",\"type\":\"histogram\"},{\"alignmentgroup\":\"True\",\"bingroup\":\"x\",\"hovertemplate\":\"variable=wide_variable_215\\u003cbr\\u003evalue=%{x}\\u003cbr\\u003ecount=%{y}\\u003cextra\\u003e\\u003c\\u002fextra\\u003e\",\"legendgroup\":\"wide_variable_215\",\"marker\":{\"color\":\"#19d3f3\",\"pattern\":{\"shape\":\"\"}},\"name\":\"wide_variable_215\",\"nbinsx\":61,\"offsetgroup\":\"wide_variable_215\",\"orientation\":\"v\",\"showlegend\":true,\"x\":[21009],\"xaxis\":\"x\",\"yaxis\":\"y\",\"type\":\"histogram\"},{\"alignmentgroup\":\"True\",\"bingroup\":\"x\",\"hovertemplate\":\"variable=wide_variable_216\\u003cbr\\u003evalue=%{x}\\u003cbr\\u003ecount=%{y}\\u003cextra\\u003e\\u003c\\u002fextra\\u003e\",\"legendgroup\":\"wide_variable_216\",\"marker\":{\"color\":\"#FF6692\",\"pattern\":{\"shape\":\"\"}},\"name\":\"wide_variable_216\",\"nbinsx\":61,\"offsetgroup\":\"wide_variable_216\",\"orientation\":\"v\",\"showlegend\":true,\"x\":[20911],\"xaxis\":\"x\",\"yaxis\":\"y\",\"type\":\"histogram\"},{\"alignmentgroup\":\"True\",\"bingroup\":\"x\",\"hovertemplate\":\"variable=wide_variable_217\\u003cbr\\u003evalue=%{x}\\u003cbr\\u003ecount=%{y}\\u003cextra\\u003e\\u003c\\u002fextra\\u003e\",\"legendgroup\":\"wide_variable_217\",\"marker\":{\"color\":\"#B6E880\",\"pattern\":{\"shape\":\"\"}},\"name\":\"wide_variable_217\",\"nbinsx\":61,\"offsetgroup\":\"wide_variable_217\",\"orientation\":\"v\",\"showlegend\":true,\"x\":[20640],\"xaxis\":\"x\",\"yaxis\":\"y\",\"type\":\"histogram\"},{\"alignmentgroup\":\"True\",\"bingroup\":\"x\",\"hovertemplate\":\"variable=wide_variable_218\\u003cbr\\u003evalue=%{x}\\u003cbr\\u003ecount=%{y}\\u003cextra\\u003e\\u003c\\u002fextra\\u003e\",\"legendgroup\":\"wide_variable_218\",\"marker\":{\"color\":\"#FF97FF\",\"pattern\":{\"shape\":\"\"}},\"name\":\"wide_variable_218\",\"nbinsx\":61,\"offsetgroup\":\"wide_variable_218\",\"orientation\":\"v\",\"showlegend\":true,\"x\":[20947],\"xaxis\":\"x\",\"yaxis\":\"y\",\"type\":\"histogram\"},{\"alignmentgroup\":\"True\",\"bingroup\":\"x\",\"hovertemplate\":\"variable=wide_variable_219\\u003cbr\\u003evalue=%{x}\\u003cbr\\u003ecount=%{y}\\u003cextra\\u003e\\u003c\\u002fextra\\u003e\",\"legendgroup\":\"wide_variable_219\",\"marker\":{\"color\":\"#FECB52\",\"pattern\":{\"shape\":\"\"}},\"name\":\"wide_variable_219\",\"nbinsx\":61,\"offsetgroup\":\"wide_variable_219\",\"orientation\":\"v\",\"showlegend\":true,\"x\":[20947],\"xaxis\":\"x\",\"yaxis\":\"y\",\"type\":\"histogram\"},{\"alignmentgroup\":\"True\",\"bingroup\":\"x\",\"hovertemplate\":\"variable=wide_variable_220\\u003cbr\\u003evalue=%{x}\\u003cbr\\u003ecount=%{y}\\u003cextra\\u003e\\u003c\\u002fextra\\u003e\",\"legendgroup\":\"wide_variable_220\",\"marker\":{\"color\":\"#636efa\",\"pattern\":{\"shape\":\"\"}},\"name\":\"wide_variable_220\",\"nbinsx\":61,\"offsetgroup\":\"wide_variable_220\",\"orientation\":\"v\",\"showlegend\":true,\"x\":[20765],\"xaxis\":\"x\",\"yaxis\":\"y\",\"type\":\"histogram\"},{\"alignmentgroup\":\"True\",\"bingroup\":\"x\",\"hovertemplate\":\"variable=wide_variable_221\\u003cbr\\u003evalue=%{x}\\u003cbr\\u003ecount=%{y}\\u003cextra\\u003e\\u003c\\u002fextra\\u003e\",\"legendgroup\":\"wide_variable_221\",\"marker\":{\"color\":\"#EF553B\",\"pattern\":{\"shape\":\"\"}},\"name\":\"wide_variable_221\",\"nbinsx\":61,\"offsetgroup\":\"wide_variable_221\",\"orientation\":\"v\",\"showlegend\":true,\"x\":[20983],\"xaxis\":\"x\",\"yaxis\":\"y\",\"type\":\"histogram\"},{\"alignmentgroup\":\"True\",\"bingroup\":\"x\",\"hovertemplate\":\"variable=wide_variable_222\\u003cbr\\u003evalue=%{x}\\u003cbr\\u003ecount=%{y}\\u003cextra\\u003e\\u003c\\u002fextra\\u003e\",\"legendgroup\":\"wide_variable_222\",\"marker\":{\"color\":\"#00cc96\",\"pattern\":{\"shape\":\"\"}},\"name\":\"wide_variable_222\",\"nbinsx\":61,\"offsetgroup\":\"wide_variable_222\",\"orientation\":\"v\",\"showlegend\":true,\"x\":[20920],\"xaxis\":\"x\",\"yaxis\":\"y\",\"type\":\"histogram\"},{\"alignmentgroup\":\"True\",\"bingroup\":\"x\",\"hovertemplate\":\"variable=wide_variable_223\\u003cbr\\u003evalue=%{x}\\u003cbr\\u003ecount=%{y}\\u003cextra\\u003e\\u003c\\u002fextra\\u003e\",\"legendgroup\":\"wide_variable_223\",\"marker\":{\"color\":\"#ab63fa\",\"pattern\":{\"shape\":\"\"}},\"name\":\"wide_variable_223\",\"nbinsx\":61,\"offsetgroup\":\"wide_variable_223\",\"orientation\":\"v\",\"showlegend\":true,\"x\":[20882],\"xaxis\":\"x\",\"yaxis\":\"y\",\"type\":\"histogram\"}],                        {\"template\":{\"data\":{\"histogram2dcontour\":[{\"type\":\"histogram2dcontour\",\"colorbar\":{\"outlinewidth\":0,\"ticks\":\"\"},\"colorscale\":[[0.0,\"#0d0887\"],[0.1111111111111111,\"#46039f\"],[0.2222222222222222,\"#7201a8\"],[0.3333333333333333,\"#9c179e\"],[0.4444444444444444,\"#bd3786\"],[0.5555555555555556,\"#d8576b\"],[0.6666666666666666,\"#ed7953\"],[0.7777777777777778,\"#fb9f3a\"],[0.8888888888888888,\"#fdca26\"],[1.0,\"#f0f921\"]]}],\"choropleth\":[{\"type\":\"choropleth\",\"colorbar\":{\"outlinewidth\":0,\"ticks\":\"\"}}],\"histogram2d\":[{\"type\":\"histogram2d\",\"colorbar\":{\"outlinewidth\":0,\"ticks\":\"\"},\"colorscale\":[[0.0,\"#0d0887\"],[0.1111111111111111,\"#46039f\"],[0.2222222222222222,\"#7201a8\"],[0.3333333333333333,\"#9c179e\"],[0.4444444444444444,\"#bd3786\"],[0.5555555555555556,\"#d8576b\"],[0.6666666666666666,\"#ed7953\"],[0.7777777777777778,\"#fb9f3a\"],[0.8888888888888888,\"#fdca26\"],[1.0,\"#f0f921\"]]}],\"heatmap\":[{\"type\":\"heatmap\",\"colorbar\":{\"outlinewidth\":0,\"ticks\":\"\"},\"colorscale\":[[0.0,\"#0d0887\"],[0.1111111111111111,\"#46039f\"],[0.2222222222222222,\"#7201a8\"],[0.3333333333333333,\"#9c179e\"],[0.4444444444444444,\"#bd3786\"],[0.5555555555555556,\"#d8576b\"],[0.6666666666666666,\"#ed7953\"],[0.7777777777777778,\"#fb9f3a\"],[0.8888888888888888,\"#fdca26\"],[1.0,\"#f0f921\"]]}],\"heatmapgl\":[{\"type\":\"heatmapgl\",\"colorbar\":{\"outlinewidth\":0,\"ticks\":\"\"},\"colorscale\":[[0.0,\"#0d0887\"],[0.1111111111111111,\"#46039f\"],[0.2222222222222222,\"#7201a8\"],[0.3333333333333333,\"#9c179e\"],[0.4444444444444444,\"#bd3786\"],[0.5555555555555556,\"#d8576b\"],[0.6666666666666666,\"#ed7953\"],[0.7777777777777778,\"#fb9f3a\"],[0.8888888888888888,\"#fdca26\"],[1.0,\"#f0f921\"]]}],\"contourcarpet\":[{\"type\":\"contourcarpet\",\"colorbar\":{\"outlinewidth\":0,\"ticks\":\"\"}}],\"contour\":[{\"type\":\"contour\",\"colorbar\":{\"outlinewidth\":0,\"ticks\":\"\"},\"colorscale\":[[0.0,\"#0d0887\"],[0.1111111111111111,\"#46039f\"],[0.2222222222222222,\"#7201a8\"],[0.3333333333333333,\"#9c179e\"],[0.4444444444444444,\"#bd3786\"],[0.5555555555555556,\"#d8576b\"],[0.6666666666666666,\"#ed7953\"],[0.7777777777777778,\"#fb9f3a\"],[0.8888888888888888,\"#fdca26\"],[1.0,\"#f0f921\"]]}],\"surface\":[{\"type\":\"surface\",\"colorbar\":{\"outlinewidth\":0,\"ticks\":\"\"},\"colorscale\":[[0.0,\"#0d0887\"],[0.1111111111111111,\"#46039f\"],[0.2222222222222222,\"#7201a8\"],[0.3333333333333333,\"#9c179e\"],[0.4444444444444444,\"#bd3786\"],[0.5555555555555556,\"#d8576b\"],[0.6666666666666666,\"#ed7953\"],[0.7777777777777778,\"#fb9f3a\"],[0.8888888888888888,\"#fdca26\"],[1.0,\"#f0f921\"]]}],\"mesh3d\":[{\"type\":\"mesh3d\",\"colorbar\":{\"outlinewidth\":0,\"ticks\":\"\"}}],\"scatter\":[{\"fillpattern\":{\"fillmode\":\"overlay\",\"size\":10,\"solidity\":0.2},\"type\":\"scatter\"}],\"parcoords\":[{\"type\":\"parcoords\",\"line\":{\"colorbar\":{\"outlinewidth\":0,\"ticks\":\"\"}}}],\"scatterpolargl\":[{\"type\":\"scatterpolargl\",\"marker\":{\"colorbar\":{\"outlinewidth\":0,\"ticks\":\"\"}}}],\"bar\":[{\"error_x\":{\"color\":\"#2a3f5f\"},\"error_y\":{\"color\":\"#2a3f5f\"},\"marker\":{\"line\":{\"color\":\"#E5ECF6\",\"width\":0.5},\"pattern\":{\"fillmode\":\"overlay\",\"size\":10,\"solidity\":0.2}},\"type\":\"bar\"}],\"scattergeo\":[{\"type\":\"scattergeo\",\"marker\":{\"colorbar\":{\"outlinewidth\":0,\"ticks\":\"\"}}}],\"scatterpolar\":[{\"type\":\"scatterpolar\",\"marker\":{\"colorbar\":{\"outlinewidth\":0,\"ticks\":\"\"}}}],\"histogram\":[{\"marker\":{\"pattern\":{\"fillmode\":\"overlay\",\"size\":10,\"solidity\":0.2}},\"type\":\"histogram\"}],\"scattergl\":[{\"type\":\"scattergl\",\"marker\":{\"colorbar\":{\"outlinewidth\":0,\"ticks\":\"\"}}}],\"scatter3d\":[{\"type\":\"scatter3d\",\"line\":{\"colorbar\":{\"outlinewidth\":0,\"ticks\":\"\"}},\"marker\":{\"colorbar\":{\"outlinewidth\":0,\"ticks\":\"\"}}}],\"scattermapbox\":[{\"type\":\"scattermapbox\",\"marker\":{\"colorbar\":{\"outlinewidth\":0,\"ticks\":\"\"}}}],\"scatterternary\":[{\"type\":\"scatterternary\",\"marker\":{\"colorbar\":{\"outlinewidth\":0,\"ticks\":\"\"}}}],\"scattercarpet\":[{\"type\":\"scattercarpet\",\"marker\":{\"colorbar\":{\"outlinewidth\":0,\"ticks\":\"\"}}}],\"carpet\":[{\"aaxis\":{\"endlinecolor\":\"#2a3f5f\",\"gridcolor\":\"white\",\"linecolor\":\"white\",\"minorgridcolor\":\"white\",\"startlinecolor\":\"#2a3f5f\"},\"baxis\":{\"endlinecolor\":\"#2a3f5f\",\"gridcolor\":\"white\",\"linecolor\":\"white\",\"minorgridcolor\":\"white\",\"startlinecolor\":\"#2a3f5f\"},\"type\":\"carpet\"}],\"table\":[{\"cells\":{\"fill\":{\"color\":\"#EBF0F8\"},\"line\":{\"color\":\"white\"}},\"header\":{\"fill\":{\"color\":\"#C8D4E3\"},\"line\":{\"color\":\"white\"}},\"type\":\"table\"}],\"barpolar\":[{\"marker\":{\"line\":{\"color\":\"#E5ECF6\",\"width\":0.5},\"pattern\":{\"fillmode\":\"overlay\",\"size\":10,\"solidity\":0.2}},\"type\":\"barpolar\"}],\"pie\":[{\"automargin\":true,\"type\":\"pie\"}]},\"layout\":{\"autotypenumbers\":\"strict\",\"colorway\":[\"#636efa\",\"#EF553B\",\"#00cc96\",\"#ab63fa\",\"#FFA15A\",\"#19d3f3\",\"#FF6692\",\"#B6E880\",\"#FF97FF\",\"#FECB52\"],\"font\":{\"color\":\"#2a3f5f\"},\"hovermode\":\"closest\",\"hoverlabel\":{\"align\":\"left\"},\"paper_bgcolor\":\"white\",\"plot_bgcolor\":\"#E5ECF6\",\"polar\":{\"bgcolor\":\"#E5ECF6\",\"angularaxis\":{\"gridcolor\":\"white\",\"linecolor\":\"white\",\"ticks\":\"\"},\"radialaxis\":{\"gridcolor\":\"white\",\"linecolor\":\"white\",\"ticks\":\"\"}},\"ternary\":{\"bgcolor\":\"#E5ECF6\",\"aaxis\":{\"gridcolor\":\"white\",\"linecolor\":\"white\",\"ticks\":\"\"},\"baxis\":{\"gridcolor\":\"white\",\"linecolor\":\"white\",\"ticks\":\"\"},\"caxis\":{\"gridcolor\":\"white\",\"linecolor\":\"white\",\"ticks\":\"\"}},\"coloraxis\":{\"colorbar\":{\"outlinewidth\":0,\"ticks\":\"\"}},\"colorscale\":{\"sequential\":[[0.0,\"#0d0887\"],[0.1111111111111111,\"#46039f\"],[0.2222222222222222,\"#7201a8\"],[0.3333333333333333,\"#9c179e\"],[0.4444444444444444,\"#bd3786\"],[0.5555555555555556,\"#d8576b\"],[0.6666666666666666,\"#ed7953\"],[0.7777777777777778,\"#fb9f3a\"],[0.8888888888888888,\"#fdca26\"],[1.0,\"#f0f921\"]],\"sequentialminus\":[[0.0,\"#0d0887\"],[0.1111111111111111,\"#46039f\"],[0.2222222222222222,\"#7201a8\"],[0.3333333333333333,\"#9c179e\"],[0.4444444444444444,\"#bd3786\"],[0.5555555555555556,\"#d8576b\"],[0.6666666666666666,\"#ed7953\"],[0.7777777777777778,\"#fb9f3a\"],[0.8888888888888888,\"#fdca26\"],[1.0,\"#f0f921\"]],\"diverging\":[[0,\"#8e0152\"],[0.1,\"#c51b7d\"],[0.2,\"#de77ae\"],[0.3,\"#f1b6da\"],[0.4,\"#fde0ef\"],[0.5,\"#f7f7f7\"],[0.6,\"#e6f5d0\"],[0.7,\"#b8e186\"],[0.8,\"#7fbc41\"],[0.9,\"#4d9221\"],[1,\"#276419\"]]},\"xaxis\":{\"gridcolor\":\"white\",\"linecolor\":\"white\",\"ticks\":\"\",\"title\":{\"standoff\":15},\"zerolinecolor\":\"white\",\"automargin\":true,\"zerolinewidth\":2},\"yaxis\":{\"gridcolor\":\"white\",\"linecolor\":\"white\",\"ticks\":\"\",\"title\":{\"standoff\":15},\"zerolinecolor\":\"white\",\"automargin\":true,\"zerolinewidth\":2},\"scene\":{\"xaxis\":{\"backgroundcolor\":\"#E5ECF6\",\"gridcolor\":\"white\",\"linecolor\":\"white\",\"showbackground\":true,\"ticks\":\"\",\"zerolinecolor\":\"white\",\"gridwidth\":2},\"yaxis\":{\"backgroundcolor\":\"#E5ECF6\",\"gridcolor\":\"white\",\"linecolor\":\"white\",\"showbackground\":true,\"ticks\":\"\",\"zerolinecolor\":\"white\",\"gridwidth\":2},\"zaxis\":{\"backgroundcolor\":\"#E5ECF6\",\"gridcolor\":\"white\",\"linecolor\":\"white\",\"showbackground\":true,\"ticks\":\"\",\"zerolinecolor\":\"white\",\"gridwidth\":2}},\"shapedefaults\":{\"line\":{\"color\":\"#2a3f5f\"}},\"annotationdefaults\":{\"arrowcolor\":\"#2a3f5f\",\"arrowhead\":0,\"arrowwidth\":1},\"geo\":{\"bgcolor\":\"white\",\"landcolor\":\"#E5ECF6\",\"subunitcolor\":\"white\",\"showland\":true,\"showlakes\":true,\"lakecolor\":\"white\"},\"title\":{\"x\":0.05},\"mapbox\":{\"style\":\"light\"}}},\"xaxis\":{\"anchor\":\"y\",\"domain\":[0.0,1.0],\"title\":{\"text\":\"value\"}},\"yaxis\":{\"anchor\":\"x\",\"domain\":[0.0,1.0],\"title\":{\"text\":\"count\"}},\"legend\":{\"title\":{\"text\":\"variable\"},\"tracegroupgap\":0},\"margin\":{\"t\":60},\"barmode\":\"relative\",\"bargap\":0.2},                        {\"responsive\": true}                    ).then(function(){\n",
       "                            \n",
       "var gd = document.getElementById('080991d8-f57a-43e6-a153-78eac981c51b');\n",
       "var x = new MutationObserver(function (mutations, observer) {{\n",
       "        var display = window.getComputedStyle(gd).display;\n",
       "        if (!display || display === 'none') {{\n",
       "            console.log([gd, 'removed!']);\n",
       "            Plotly.purge(gd);\n",
       "            observer.disconnect();\n",
       "        }}\n",
       "}});\n",
       "\n",
       "// Listen for the removal of the full notebook cells\n",
       "var notebookContainer = gd.closest('#notebook-container');\n",
       "if (notebookContainer) {{\n",
       "    x.observe(notebookContainer, {childList: true});\n",
       "}}\n",
       "\n",
       "// Listen for the clearing of the current output cell\n",
       "var outputEl = gd.closest('.output');\n",
       "if (outputEl) {{\n",
       "    x.observe(outputEl, {childList: true});\n",
       "}}\n",
       "\n",
       "                        })                };                });            </script>        </div>"
      ]
     },
     "metadata": {},
     "output_type": "display_data"
    }
   ],
   "source": [
    "df = px.data.tips()\n",
    "\n",
    "business = df_business.select('ID_AGENTE').collect()\n",
    "review_list = [business[i][0] for i in range(len(business))]\n",
    "\n",
    "\n",
    "fig.update_layout(bargap=0.2)\n",
    "fig.show()"
   ]
  },
  {
   "cell_type": "code",
   "execution_count": 109,
   "metadata": {},
   "outputs": [],
   "source": [
    "lista_campanha = df_business.select('CAMPANHA').collect()\n",
    "campanhas = [lista_campanha[i][0] for i in range(len(lista_campanha))]"
   ]
  },
  {
   "cell_type": "code",
   "execution_count": 110,
   "metadata": {},
   "outputs": [],
   "source": [
    "\n",
    "text = \" \".join(review for review in campanhas)\n"
   ]
  },
  {
   "cell_type": "code",
   "execution_count": 111,
   "metadata": {},
   "outputs": [
    {
     "data": {
      "image/png": "[encoded data removed]",
      "text/plain": [
       "<Figure size 1000x800 with 1 Axes>"
      ]
     },
     "metadata": {},
     "output_type": "display_data"
    }
   ],
   "source": [
    "wordcloud = WordCloud(background_color=\"white\").generate(text)\n",
    "plt.figure(figsize=(10,8))\n",
    "plt.imshow(wordcloud, interpolation='bilinear')\n",
    "plt.axis(\"off\")\n",
    "plt.show()"
   ]
  },
  {
   "cell_type": "code",
   "execution_count": 112,
   "metadata": {},
   "outputs": [
    {
     "data": {
      "text/plain": [
       "DataFrame[ID_AGENTE: int, ID_VENDA: int, ID_AGENTE_index: double, ID_VENDA_index: double]"
      ]
     },
     "execution_count": 112,
     "metadata": {},
     "output_type": "execute_result"
    }
   ],
   "source": [
    "indexer = [StringIndexer(inputCol=column, outputCol=column+\"_index\") for column in ['ID_VENDA', 'ID_AGENTE']]\n",
    "pipeline = Pipeline(stages=indexer)\n",
    "transformed = pipeline.fit(df_business).transform(df_business)\n",
    "transformed.select(['ID_AGENTE', 'ID_VENDA','ID_AGENTE_index', 'ID_VENDA_index'])"
   ]
  },
  {
   "cell_type": "code",
   "execution_count": 113,
   "metadata": {},
   "outputs": [],
   "source": [
    "(training, test) = transformed.randomSplit([0.8, 0.2])\n"
   ]
  },
  {
   "cell_type": "code",
   "execution_count": null,
   "metadata": {},
   "outputs": [],
   "source": [
    "als=ALS(maxIter=5,\n",
    "        regParam=0.09,\n",
    "        rank=25,\n",
    "        userCol=\"ID_VENDA_index\",\n",
    "        itemCol=\"ID_AGENTE_index\",\n",
    "        ratingCol=\"CAMPANHA\",\n",
    "        coldStartStrategy=\"drop\",\n",
    "        nonnegative=True)\n",
    "\n",
    "model=als.fit(training)"
   ]
  },
  {
   "cell_type": "code",
   "execution_count": null,
   "metadata": {},
   "outputs": [],
   "source": []
  },
  {
   "cell_type": "code",
   "execution_count": null,
   "metadata": {},
   "outputs": [],
   "source": [
    "evaluator=RegressionEvaluator(metricName=\"rmse\",labelCol=\"CAMPANHA\",predictionCol=\"prediction\")\n",
    "predictions=model.transform(test)\n",
    "rmse=evaluator.evaluate(predictions)\n",
    "print(\"RMSE=\"+str(rmse))"
   ]
  },
  {
   "cell_type": "code",
   "execution_count": null,
   "metadata": {},
   "outputs": [],
   "source": []
  }
 ],
 "metadata": {
  "kernelspec": {
   "display_name": "venv",
   "language": "python",
   "name": "python3"
  },
  "language_info": {
   "codemirror_mode": {
    "name": "ipython",
    "version": 3
   },
   "file_extension": ".py",
   "mimetype": "text/x-python",
   "name": "python",
   "nbconvert_exporter": "python",
   "pygments_lexer": "ipython3",
   "version": "3.11.4"
  },
  "orig_nbformat": 4
 },
 "nbformat": 4,
 "nbformat_minor": 2
}
